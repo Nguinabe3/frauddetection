{
 "cells": [
  {
   "cell_type": "code",
   "execution_count": 1,
   "id": "afcfd952",
   "metadata": {
    "_cell_guid": "b1076dfc-b9ad-4769-8c92-a6c4dae69d19",
    "_uuid": "8f2839f25d086af736a60e9eeb907d3b93b6e0e5",
    "execution": {
     "iopub.execute_input": "2024-09-30T04:11:14.331326Z",
     "iopub.status.busy": "2024-09-30T04:11:14.330720Z",
     "iopub.status.idle": "2024-09-30T04:11:15.076185Z",
     "shell.execute_reply": "2024-09-30T04:11:15.075141Z"
    },
    "papermill": {
     "duration": 0.756803,
     "end_time": "2024-09-30T04:11:15.078326",
     "exception": false,
     "start_time": "2024-09-30T04:11:14.321523",
     "status": "completed"
    },
    "tags": []
   },
   "outputs": [],
   "source": [
    "# This Python 3 environment comes with many helpful analytics libraries installed\n",
    "# It is defined by the kaggle/python Docker image: https://github.com/kaggle/docker-python\n",
    "# For example, here's several helpful packages to load\n",
    "\n",
    "import numpy as np # linear algebra\n",
    "import pandas as pd # data processing, CSV file I/O (e.g. pd.read_csv)\n",
    "\n",
    "# Input data files are available in the read-only \"../input/\" directory\n",
    "# For example, running this (by clicking run or pressing Shift+Enter) will list all files under the input directory\n",
    "\n",
    "# import os\n",
    "# for dirname, _, filenames in os.walk('/kaggle/input'):\n",
    "#     for filename in filenames:\n",
    "#         print(os.path.join(dirname, filename))\n",
    "\n",
    "# You can write up to 20GB to the current directory (/kaggle/working/) that gets preserved as output when you create a version using \"Save & Run All\" \n",
    "# You can also write temporary files to /kaggle/temp/, but they won't be saved outside of the current session"
   ]
  },
  {
   "cell_type": "code",
   "execution_count": 17,
   "id": "8b7fbe6a",
   "metadata": {},
   "outputs": [
    {
     "name": "stdout",
     "output_type": "stream",
     "text": [
      "Collecting xgboost\n",
      "  Downloading xgboost-2.1.1-py3-none-macosx_12_0_arm64.whl.metadata (2.1 kB)\n",
      "Requirement already satisfied: numpy in /opt/anaconda3/lib/python3.11/site-packages (from xgboost) (1.26.4)\n",
      "Requirement already satisfied: scipy in /opt/anaconda3/lib/python3.11/site-packages (from xgboost) (1.11.4)\n",
      "Downloading xgboost-2.1.1-py3-none-macosx_12_0_arm64.whl (1.9 MB)\n",
      "\u001b[2K   \u001b[38;2;114;156;31m━━━━━━━━━━━━━━━━━━━━━━━━━━━━━━━━━━━━━━━━\u001b[0m \u001b[32m1.9/1.9 MB\u001b[0m \u001b[31m2.0 MB/s\u001b[0m eta \u001b[36m0:00:00\u001b[0mm eta \u001b[36m0:00:01\u001b[0m[36m0:00:01\u001b[0m0m\n",
      "\u001b[?25hInstalling collected packages: xgboost\n",
      "Successfully installed xgboost-2.1.1\n"
     ]
    }
   ],
   "source": [
    "! pip install xgboost\n"
   ]
  },
  {
   "cell_type": "code",
   "execution_count": 18,
   "id": "6f93ef2d",
   "metadata": {
    "execution": {
     "iopub.execute_input": "2024-09-30T04:11:15.094543Z",
     "iopub.status.busy": "2024-09-30T04:11:15.094176Z",
     "iopub.status.idle": "2024-09-30T04:11:16.869300Z",
     "shell.execute_reply": "2024-09-30T04:11:16.868468Z"
    },
    "papermill": {
     "duration": 1.785675,
     "end_time": "2024-09-30T04:11:16.871614",
     "exception": false,
     "start_time": "2024-09-30T04:11:15.085939",
     "status": "completed"
    },
    "tags": []
   },
   "outputs": [],
   "source": [
    "import pandas as pd\n",
    "import numpy as np\n",
    "import matplotlib.pyplot as plt\n",
    "import seaborn as sns\n",
    "import scipy\n",
    "from sklearn.metrics import classification_report, accuracy_score\n",
    "from sklearn.ensemble import IsolationForest\n",
    "from sklearn.neighbors import LocalOutlierFactor\n",
    "from sklearn.model_selection import train_test_split\n",
    "from xgboost import XGBClassifier\n",
    "import joblib"
   ]
  },
  {
   "cell_type": "code",
   "execution_count": 3,
   "id": "0b3e6dad",
   "metadata": {},
   "outputs": [
    {
     "name": "stdout",
     "output_type": "stream",
     "text": [
      "app.py                              requirements.txt\r\n",
      "credit-card-fraud-detection.ipynb   score.py\r\n",
      "default_of_credit_card_clients.csv  \u001b[34msrc\u001b[m\u001b[m/\r\n",
      "\u001b[34mmyenv\u001b[m\u001b[m/                              xgb_classifier_model.pkl\r\n"
     ]
    }
   ],
   "source": [
    "ls"
   ]
  },
  {
   "cell_type": "code",
   "execution_count": 5,
   "id": "7dc68480",
   "metadata": {
    "execution": {
     "iopub.execute_input": "2024-09-30T04:11:16.887531Z",
     "iopub.status.busy": "2024-09-30T04:11:16.887110Z",
     "iopub.status.idle": "2024-09-30T04:11:19.983422Z",
     "shell.execute_reply": "2024-09-30T04:11:19.982611Z"
    },
    "papermill": {
     "duration": 3.106886,
     "end_time": "2024-09-30T04:11:19.985934",
     "exception": false,
     "start_time": "2024-09-30T04:11:16.879048",
     "status": "completed"
    },
    "tags": []
   },
   "outputs": [],
   "source": [
    "df = pd.read_csv('default_of_credit_card_clients.csv',skiprows=1,index_col=0)"
   ]
  },
  {
   "cell_type": "code",
   "execution_count": 6,
   "id": "add4a89c",
   "metadata": {
    "execution": {
     "iopub.execute_input": "2024-09-30T04:11:20.003775Z",
     "iopub.status.busy": "2024-09-30T04:11:20.003422Z",
     "iopub.status.idle": "2024-09-30T04:11:20.095367Z",
     "shell.execute_reply": "2024-09-30T04:11:20.094481Z"
    },
    "papermill": {
     "duration": 0.102554,
     "end_time": "2024-09-30T04:11:20.097590",
     "exception": false,
     "start_time": "2024-09-30T04:11:19.995036",
     "status": "completed"
    },
    "tags": []
   },
   "outputs": [
    {
     "data": {
      "text/html": [
       "<div>\n",
       "<style scoped>\n",
       "    .dataframe tbody tr th:only-of-type {\n",
       "        vertical-align: middle;\n",
       "    }\n",
       "\n",
       "    .dataframe tbody tr th {\n",
       "        vertical-align: top;\n",
       "    }\n",
       "\n",
       "    .dataframe thead th {\n",
       "        text-align: right;\n",
       "    }\n",
       "</style>\n",
       "<table border=\"1\" class=\"dataframe\">\n",
       "  <thead>\n",
       "    <tr style=\"text-align: right;\">\n",
       "      <th></th>\n",
       "      <th>LIMIT_BAL</th>\n",
       "      <th>SEX</th>\n",
       "      <th>EDUCATION</th>\n",
       "      <th>MARRIAGE</th>\n",
       "      <th>AGE</th>\n",
       "      <th>PAY_0</th>\n",
       "      <th>PAY_2</th>\n",
       "      <th>PAY_3</th>\n",
       "      <th>PAY_4</th>\n",
       "      <th>PAY_5</th>\n",
       "      <th>...</th>\n",
       "      <th>BILL_AMT4</th>\n",
       "      <th>BILL_AMT5</th>\n",
       "      <th>BILL_AMT6</th>\n",
       "      <th>PAY_AMT1</th>\n",
       "      <th>PAY_AMT2</th>\n",
       "      <th>PAY_AMT3</th>\n",
       "      <th>PAY_AMT4</th>\n",
       "      <th>PAY_AMT5</th>\n",
       "      <th>PAY_AMT6</th>\n",
       "      <th>default payment next month</th>\n",
       "    </tr>\n",
       "    <tr>\n",
       "      <th>ID</th>\n",
       "      <th></th>\n",
       "      <th></th>\n",
       "      <th></th>\n",
       "      <th></th>\n",
       "      <th></th>\n",
       "      <th></th>\n",
       "      <th></th>\n",
       "      <th></th>\n",
       "      <th></th>\n",
       "      <th></th>\n",
       "      <th></th>\n",
       "      <th></th>\n",
       "      <th></th>\n",
       "      <th></th>\n",
       "      <th></th>\n",
       "      <th></th>\n",
       "      <th></th>\n",
       "      <th></th>\n",
       "      <th></th>\n",
       "      <th></th>\n",
       "      <th></th>\n",
       "    </tr>\n",
       "  </thead>\n",
       "  <tbody>\n",
       "    <tr>\n",
       "      <th>1</th>\n",
       "      <td>20000</td>\n",
       "      <td>2</td>\n",
       "      <td>2</td>\n",
       "      <td>1</td>\n",
       "      <td>24</td>\n",
       "      <td>2</td>\n",
       "      <td>2</td>\n",
       "      <td>-1</td>\n",
       "      <td>-1</td>\n",
       "      <td>-2</td>\n",
       "      <td>...</td>\n",
       "      <td>0</td>\n",
       "      <td>0</td>\n",
       "      <td>0</td>\n",
       "      <td>0</td>\n",
       "      <td>689</td>\n",
       "      <td>0</td>\n",
       "      <td>0</td>\n",
       "      <td>0</td>\n",
       "      <td>0</td>\n",
       "      <td>1</td>\n",
       "    </tr>\n",
       "    <tr>\n",
       "      <th>2</th>\n",
       "      <td>120000</td>\n",
       "      <td>2</td>\n",
       "      <td>2</td>\n",
       "      <td>2</td>\n",
       "      <td>26</td>\n",
       "      <td>-1</td>\n",
       "      <td>2</td>\n",
       "      <td>0</td>\n",
       "      <td>0</td>\n",
       "      <td>0</td>\n",
       "      <td>...</td>\n",
       "      <td>3272</td>\n",
       "      <td>3455</td>\n",
       "      <td>3261</td>\n",
       "      <td>0</td>\n",
       "      <td>1000</td>\n",
       "      <td>1000</td>\n",
       "      <td>1000</td>\n",
       "      <td>0</td>\n",
       "      <td>2000</td>\n",
       "      <td>1</td>\n",
       "    </tr>\n",
       "    <tr>\n",
       "      <th>3</th>\n",
       "      <td>90000</td>\n",
       "      <td>2</td>\n",
       "      <td>2</td>\n",
       "      <td>2</td>\n",
       "      <td>34</td>\n",
       "      <td>0</td>\n",
       "      <td>0</td>\n",
       "      <td>0</td>\n",
       "      <td>0</td>\n",
       "      <td>0</td>\n",
       "      <td>...</td>\n",
       "      <td>14331</td>\n",
       "      <td>14948</td>\n",
       "      <td>15549</td>\n",
       "      <td>1518</td>\n",
       "      <td>1500</td>\n",
       "      <td>1000</td>\n",
       "      <td>1000</td>\n",
       "      <td>1000</td>\n",
       "      <td>5000</td>\n",
       "      <td>0</td>\n",
       "    </tr>\n",
       "    <tr>\n",
       "      <th>4</th>\n",
       "      <td>50000</td>\n",
       "      <td>2</td>\n",
       "      <td>2</td>\n",
       "      <td>1</td>\n",
       "      <td>37</td>\n",
       "      <td>0</td>\n",
       "      <td>0</td>\n",
       "      <td>0</td>\n",
       "      <td>0</td>\n",
       "      <td>0</td>\n",
       "      <td>...</td>\n",
       "      <td>28314</td>\n",
       "      <td>28959</td>\n",
       "      <td>29547</td>\n",
       "      <td>2000</td>\n",
       "      <td>2019</td>\n",
       "      <td>1200</td>\n",
       "      <td>1100</td>\n",
       "      <td>1069</td>\n",
       "      <td>1000</td>\n",
       "      <td>0</td>\n",
       "    </tr>\n",
       "    <tr>\n",
       "      <th>5</th>\n",
       "      <td>50000</td>\n",
       "      <td>1</td>\n",
       "      <td>2</td>\n",
       "      <td>1</td>\n",
       "      <td>57</td>\n",
       "      <td>-1</td>\n",
       "      <td>0</td>\n",
       "      <td>-1</td>\n",
       "      <td>0</td>\n",
       "      <td>0</td>\n",
       "      <td>...</td>\n",
       "      <td>20940</td>\n",
       "      <td>19146</td>\n",
       "      <td>19131</td>\n",
       "      <td>2000</td>\n",
       "      <td>36681</td>\n",
       "      <td>10000</td>\n",
       "      <td>9000</td>\n",
       "      <td>689</td>\n",
       "      <td>679</td>\n",
       "      <td>0</td>\n",
       "    </tr>\n",
       "    <tr>\n",
       "      <th>...</th>\n",
       "      <td>...</td>\n",
       "      <td>...</td>\n",
       "      <td>...</td>\n",
       "      <td>...</td>\n",
       "      <td>...</td>\n",
       "      <td>...</td>\n",
       "      <td>...</td>\n",
       "      <td>...</td>\n",
       "      <td>...</td>\n",
       "      <td>...</td>\n",
       "      <td>...</td>\n",
       "      <td>...</td>\n",
       "      <td>...</td>\n",
       "      <td>...</td>\n",
       "      <td>...</td>\n",
       "      <td>...</td>\n",
       "      <td>...</td>\n",
       "      <td>...</td>\n",
       "      <td>...</td>\n",
       "      <td>...</td>\n",
       "      <td>...</td>\n",
       "    </tr>\n",
       "    <tr>\n",
       "      <th>29996</th>\n",
       "      <td>220000</td>\n",
       "      <td>1</td>\n",
       "      <td>3</td>\n",
       "      <td>1</td>\n",
       "      <td>39</td>\n",
       "      <td>0</td>\n",
       "      <td>0</td>\n",
       "      <td>0</td>\n",
       "      <td>0</td>\n",
       "      <td>0</td>\n",
       "      <td>...</td>\n",
       "      <td>88004</td>\n",
       "      <td>31237</td>\n",
       "      <td>15980</td>\n",
       "      <td>8500</td>\n",
       "      <td>20000</td>\n",
       "      <td>5003</td>\n",
       "      <td>3047</td>\n",
       "      <td>5000</td>\n",
       "      <td>1000</td>\n",
       "      <td>0</td>\n",
       "    </tr>\n",
       "    <tr>\n",
       "      <th>29997</th>\n",
       "      <td>150000</td>\n",
       "      <td>1</td>\n",
       "      <td>3</td>\n",
       "      <td>2</td>\n",
       "      <td>43</td>\n",
       "      <td>-1</td>\n",
       "      <td>-1</td>\n",
       "      <td>-1</td>\n",
       "      <td>-1</td>\n",
       "      <td>0</td>\n",
       "      <td>...</td>\n",
       "      <td>8979</td>\n",
       "      <td>5190</td>\n",
       "      <td>0</td>\n",
       "      <td>1837</td>\n",
       "      <td>3526</td>\n",
       "      <td>8998</td>\n",
       "      <td>129</td>\n",
       "      <td>0</td>\n",
       "      <td>0</td>\n",
       "      <td>0</td>\n",
       "    </tr>\n",
       "    <tr>\n",
       "      <th>29998</th>\n",
       "      <td>30000</td>\n",
       "      <td>1</td>\n",
       "      <td>2</td>\n",
       "      <td>2</td>\n",
       "      <td>37</td>\n",
       "      <td>4</td>\n",
       "      <td>3</td>\n",
       "      <td>2</td>\n",
       "      <td>-1</td>\n",
       "      <td>0</td>\n",
       "      <td>...</td>\n",
       "      <td>20878</td>\n",
       "      <td>20582</td>\n",
       "      <td>19357</td>\n",
       "      <td>0</td>\n",
       "      <td>0</td>\n",
       "      <td>22000</td>\n",
       "      <td>4200</td>\n",
       "      <td>2000</td>\n",
       "      <td>3100</td>\n",
       "      <td>1</td>\n",
       "    </tr>\n",
       "    <tr>\n",
       "      <th>29999</th>\n",
       "      <td>80000</td>\n",
       "      <td>1</td>\n",
       "      <td>3</td>\n",
       "      <td>1</td>\n",
       "      <td>41</td>\n",
       "      <td>1</td>\n",
       "      <td>-1</td>\n",
       "      <td>0</td>\n",
       "      <td>0</td>\n",
       "      <td>0</td>\n",
       "      <td>...</td>\n",
       "      <td>52774</td>\n",
       "      <td>11855</td>\n",
       "      <td>48944</td>\n",
       "      <td>85900</td>\n",
       "      <td>3409</td>\n",
       "      <td>1178</td>\n",
       "      <td>1926</td>\n",
       "      <td>52964</td>\n",
       "      <td>1804</td>\n",
       "      <td>1</td>\n",
       "    </tr>\n",
       "    <tr>\n",
       "      <th>30000</th>\n",
       "      <td>50000</td>\n",
       "      <td>1</td>\n",
       "      <td>2</td>\n",
       "      <td>1</td>\n",
       "      <td>46</td>\n",
       "      <td>0</td>\n",
       "      <td>0</td>\n",
       "      <td>0</td>\n",
       "      <td>0</td>\n",
       "      <td>0</td>\n",
       "      <td>...</td>\n",
       "      <td>36535</td>\n",
       "      <td>32428</td>\n",
       "      <td>15313</td>\n",
       "      <td>2078</td>\n",
       "      <td>1800</td>\n",
       "      <td>1430</td>\n",
       "      <td>1000</td>\n",
       "      <td>1000</td>\n",
       "      <td>1000</td>\n",
       "      <td>1</td>\n",
       "    </tr>\n",
       "  </tbody>\n",
       "</table>\n",
       "<p>30000 rows × 24 columns</p>\n",
       "</div>"
      ],
      "text/plain": [
       "       LIMIT_BAL  SEX  EDUCATION  MARRIAGE  AGE  PAY_0  PAY_2  PAY_3  PAY_4  \\\n",
       "ID                                                                            \n",
       "1          20000    2          2         1   24      2      2     -1     -1   \n",
       "2         120000    2          2         2   26     -1      2      0      0   \n",
       "3          90000    2          2         2   34      0      0      0      0   \n",
       "4          50000    2          2         1   37      0      0      0      0   \n",
       "5          50000    1          2         1   57     -1      0     -1      0   \n",
       "...          ...  ...        ...       ...  ...    ...    ...    ...    ...   \n",
       "29996     220000    1          3         1   39      0      0      0      0   \n",
       "29997     150000    1          3         2   43     -1     -1     -1     -1   \n",
       "29998      30000    1          2         2   37      4      3      2     -1   \n",
       "29999      80000    1          3         1   41      1     -1      0      0   \n",
       "30000      50000    1          2         1   46      0      0      0      0   \n",
       "\n",
       "       PAY_5  ...  BILL_AMT4  BILL_AMT5  BILL_AMT6  PAY_AMT1  PAY_AMT2  \\\n",
       "ID            ...                                                        \n",
       "1         -2  ...          0          0          0         0       689   \n",
       "2          0  ...       3272       3455       3261         0      1000   \n",
       "3          0  ...      14331      14948      15549      1518      1500   \n",
       "4          0  ...      28314      28959      29547      2000      2019   \n",
       "5          0  ...      20940      19146      19131      2000     36681   \n",
       "...      ...  ...        ...        ...        ...       ...       ...   \n",
       "29996      0  ...      88004      31237      15980      8500     20000   \n",
       "29997      0  ...       8979       5190          0      1837      3526   \n",
       "29998      0  ...      20878      20582      19357         0         0   \n",
       "29999      0  ...      52774      11855      48944     85900      3409   \n",
       "30000      0  ...      36535      32428      15313      2078      1800   \n",
       "\n",
       "       PAY_AMT3  PAY_AMT4  PAY_AMT5  PAY_AMT6  default payment next month  \n",
       "ID                                                                         \n",
       "1             0         0         0         0                           1  \n",
       "2          1000      1000         0      2000                           1  \n",
       "3          1000      1000      1000      5000                           0  \n",
       "4          1200      1100      1069      1000                           0  \n",
       "5         10000      9000       689       679                           0  \n",
       "...         ...       ...       ...       ...                         ...  \n",
       "29996      5003      3047      5000      1000                           0  \n",
       "29997      8998       129         0         0                           0  \n",
       "29998     22000      4200      2000      3100                           1  \n",
       "29999      1178      1926     52964      1804                           1  \n",
       "30000      1430      1000      1000      1000                           1  \n",
       "\n",
       "[30000 rows x 24 columns]"
      ]
     },
     "execution_count": 6,
     "metadata": {},
     "output_type": "execute_result"
    }
   ],
   "source": [
    "df"
   ]
  },
  {
   "cell_type": "code",
   "execution_count": 7,
   "id": "92292090",
   "metadata": {
    "execution": {
     "iopub.execute_input": "2024-09-30T04:11:20.115356Z",
     "iopub.status.busy": "2024-09-30T04:11:20.115042Z",
     "iopub.status.idle": "2024-09-30T04:11:20.119581Z",
     "shell.execute_reply": "2024-09-30T04:11:20.118734Z"
    },
    "papermill": {
     "duration": 0.015521,
     "end_time": "2024-09-30T04:11:20.121789",
     "exception": false,
     "start_time": "2024-09-30T04:11:20.106268",
     "status": "completed"
    },
    "tags": []
   },
   "outputs": [
    {
     "name": "stdout",
     "output_type": "stream",
     "text": [
      "Index(['LIMIT_BAL', 'SEX', 'EDUCATION', 'MARRIAGE', 'AGE', 'PAY_0', 'PAY_2',\n",
      "       'PAY_3', 'PAY_4', 'PAY_5', 'PAY_6', 'BILL_AMT1', 'BILL_AMT2',\n",
      "       'BILL_AMT3', 'BILL_AMT4', 'BILL_AMT5', 'BILL_AMT6', 'PAY_AMT1',\n",
      "       'PAY_AMT2', 'PAY_AMT3', 'PAY_AMT4', 'PAY_AMT5', 'PAY_AMT6',\n",
      "       'default payment next month'],\n",
      "      dtype='object')\n"
     ]
    }
   ],
   "source": [
    "# All columns in this dataset are result of PCA (Prinicpal Component Analysis) transform, to mask off sensitive data.\n",
    "\n",
    "print(df.columns)"
   ]
  },
  {
   "cell_type": "code",
   "execution_count": 8,
   "id": "4465676b",
   "metadata": {
    "execution": {
     "iopub.execute_input": "2024-09-30T04:11:20.138521Z",
     "iopub.status.busy": "2024-09-30T04:11:20.138238Z",
     "iopub.status.idle": "2024-09-30T04:11:20.142611Z",
     "shell.execute_reply": "2024-09-30T04:11:20.141764Z"
    },
    "papermill": {
     "duration": 0.014792,
     "end_time": "2024-09-30T04:11:20.144554",
     "exception": false,
     "start_time": "2024-09-30T04:11:20.129762",
     "status": "completed"
    },
    "tags": []
   },
   "outputs": [
    {
     "name": "stdout",
     "output_type": "stream",
     "text": [
      "(30000, 24)\n"
     ]
    }
   ],
   "source": [
    "print(df.shape)"
   ]
  },
  {
   "cell_type": "code",
   "execution_count": 9,
   "id": "d863ae8b",
   "metadata": {
    "execution": {
     "iopub.execute_input": "2024-09-30T04:11:20.161926Z",
     "iopub.status.busy": "2024-09-30T04:11:20.161599Z",
     "iopub.status.idle": "2024-09-30T04:11:20.512301Z",
     "shell.execute_reply": "2024-09-30T04:11:20.511402Z"
    },
    "papermill": {
     "duration": 0.362061,
     "end_time": "2024-09-30T04:11:20.514900",
     "exception": false,
     "start_time": "2024-09-30T04:11:20.152839",
     "status": "completed"
    },
    "tags": []
   },
   "outputs": [
    {
     "name": "stdout",
     "output_type": "stream",
     "text": [
      "            LIMIT_BAL           SEX     EDUCATION      MARRIAGE           AGE  \\\n",
      "count    30000.000000  30000.000000  30000.000000  30000.000000  30000.000000   \n",
      "mean    167484.322667      1.603733      1.853133      1.551867     35.485500   \n",
      "std     129747.661567      0.489129      0.790349      0.521970      9.217904   \n",
      "min      10000.000000      1.000000      0.000000      0.000000     21.000000   \n",
      "25%      50000.000000      1.000000      1.000000      1.000000     28.000000   \n",
      "50%     140000.000000      2.000000      2.000000      2.000000     34.000000   \n",
      "75%     240000.000000      2.000000      2.000000      2.000000     41.000000   \n",
      "max    1000000.000000      2.000000      6.000000      3.000000     79.000000   \n",
      "\n",
      "              PAY_0         PAY_2         PAY_3         PAY_4         PAY_5  \\\n",
      "count  30000.000000  30000.000000  30000.000000  30000.000000  30000.000000   \n",
      "mean      -0.016700     -0.133767     -0.166200     -0.220667     -0.266200   \n",
      "std        1.123802      1.197186      1.196868      1.169139      1.133187   \n",
      "min       -2.000000     -2.000000     -2.000000     -2.000000     -2.000000   \n",
      "25%       -1.000000     -1.000000     -1.000000     -1.000000     -1.000000   \n",
      "50%        0.000000      0.000000      0.000000      0.000000      0.000000   \n",
      "75%        0.000000      0.000000      0.000000      0.000000      0.000000   \n",
      "max        8.000000      8.000000      8.000000      8.000000      8.000000   \n",
      "\n",
      "       ...      BILL_AMT4      BILL_AMT5      BILL_AMT6       PAY_AMT1  \\\n",
      "count  ...   30000.000000   30000.000000   30000.000000   30000.000000   \n",
      "mean   ...   43262.948967   40311.400967   38871.760400    5663.580500   \n",
      "std    ...   64332.856134   60797.155770   59554.107537   16563.280354   \n",
      "min    ... -170000.000000  -81334.000000 -339603.000000       0.000000   \n",
      "25%    ...    2326.750000    1763.000000    1256.000000    1000.000000   \n",
      "50%    ...   19052.000000   18104.500000   17071.000000    2100.000000   \n",
      "75%    ...   54506.000000   50190.500000   49198.250000    5006.000000   \n",
      "max    ...  891586.000000  927171.000000  961664.000000  873552.000000   \n",
      "\n",
      "           PAY_AMT2      PAY_AMT3       PAY_AMT4       PAY_AMT5  \\\n",
      "count  3.000000e+04   30000.00000   30000.000000   30000.000000   \n",
      "mean   5.921163e+03    5225.68150    4826.076867    4799.387633   \n",
      "std    2.304087e+04   17606.96147   15666.159744   15278.305679   \n",
      "min    0.000000e+00       0.00000       0.000000       0.000000   \n",
      "25%    8.330000e+02     390.00000     296.000000     252.500000   \n",
      "50%    2.009000e+03    1800.00000    1500.000000    1500.000000   \n",
      "75%    5.000000e+03    4505.00000    4013.250000    4031.500000   \n",
      "max    1.684259e+06  896040.00000  621000.000000  426529.000000   \n",
      "\n",
      "            PAY_AMT6  default payment next month  \n",
      "count   30000.000000                30000.000000  \n",
      "mean     5215.502567                    0.221200  \n",
      "std     17777.465775                    0.415062  \n",
      "min         0.000000                    0.000000  \n",
      "25%       117.750000                    0.000000  \n",
      "50%      1500.000000                    0.000000  \n",
      "75%      4000.000000                    0.000000  \n",
      "max    528666.000000                    1.000000  \n",
      "\n",
      "[8 rows x 24 columns]\n"
     ]
    }
   ],
   "source": [
    "# The target variable is \"Class\", which takes up values 1 for fraudulent transactions and value 0 for valid transactions\n",
    "\n",
    "print(df.describe())"
   ]
  },
  {
   "cell_type": "code",
   "execution_count": 10,
   "id": "064d940c",
   "metadata": {
    "execution": {
     "iopub.execute_input": "2024-09-30T04:11:20.532594Z",
     "iopub.status.busy": "2024-09-30T04:11:20.532273Z",
     "iopub.status.idle": "2024-09-30T04:11:20.536653Z",
     "shell.execute_reply": "2024-09-30T04:11:20.535778Z"
    },
    "papermill": {
     "duration": 0.015197,
     "end_time": "2024-09-30T04:11:20.538444",
     "exception": false,
     "start_time": "2024-09-30T04:11:20.523247",
     "status": "completed"
    },
    "tags": []
   },
   "outputs": [
    {
     "name": "stdout",
     "output_type": "stream",
     "text": [
      "(30000, 24)\n"
     ]
    }
   ],
   "source": [
    "print(df.shape)"
   ]
  },
  {
   "cell_type": "markdown",
   "id": "395253c2",
   "metadata": {
    "papermill": {
     "duration": 0.007922,
     "end_time": "2024-09-30T04:11:20.554498",
     "exception": false,
     "start_time": "2024-09-30T04:11:20.546576",
     "status": "completed"
    },
    "tags": []
   },
   "source": [
    "## Data Visualization"
   ]
  },
  {
   "cell_type": "code",
   "execution_count": 11,
   "id": "621deaef",
   "metadata": {
    "execution": {
     "iopub.execute_input": "2024-09-30T04:11:20.571800Z",
     "iopub.status.busy": "2024-09-30T04:11:20.571495Z",
     "iopub.status.idle": "2024-09-30T04:11:25.596284Z",
     "shell.execute_reply": "2024-09-30T04:11:25.595390Z"
    },
    "papermill": {
     "duration": 5.037878,
     "end_time": "2024-09-30T04:11:25.600538",
     "exception": false,
     "start_time": "2024-09-30T04:11:20.562660",
     "status": "completed"
    },
    "tags": []
   },
   "outputs": [
    {
     "data": {
      "image/png": "[encoded data removed]",
      "text/plain": [
       "<Figure size 2000x2000 with 25 Axes>"
      ]
     },
     "metadata": {},
     "output_type": "display_data"
    }
   ],
   "source": [
    "df.hist(figsize = (20, 20))\n",
    "plt.show()"
   ]
  },
  {
   "cell_type": "code",
   "execution_count": 12,
   "id": "d3feb790",
   "metadata": {
    "execution": {
     "iopub.execute_input": "2024-09-30T04:11:25.623449Z",
     "iopub.status.busy": "2024-09-30T04:11:25.623124Z",
     "iopub.status.idle": "2024-09-30T04:11:25.659237Z",
     "shell.execute_reply": "2024-09-30T04:11:25.658323Z"
    },
    "papermill": {
     "duration": 0.04991,
     "end_time": "2024-09-30T04:11:25.661464",
     "exception": false,
     "start_time": "2024-09-30T04:11:25.611554",
     "status": "completed"
    },
    "tags": []
   },
   "outputs": [
    {
     "name": "stdout",
     "output_type": "stream",
     "text": [
      "Fraudent transactions: 6636\n",
      "Valid transactions: 23364\n",
      "Outlier fraction: 0.2840267077555213\n",
      "Outlier %: 28.4\n"
     ]
    }
   ],
   "source": [
    "fraudulent_transactions = df[df['default payment next month'] == 1]\n",
    "valid_transactions = df[df['default payment next month'] == 0]\n",
    "\n",
    "outlier_fraction = float(len(fraudulent_transactions)) / float(len(valid_transactions))\n",
    "\n",
    "print(f\"Fraudent transactions: {len(fraudulent_transactions)}\")\n",
    "print(f\"Valid transactions: {len(valid_transactions)}\")\n",
    "print(f\"Outlier fraction: {outlier_fraction}\")\n",
    "print(f\"Outlier %: {round(outlier_fraction*100, 2)}\")"
   ]
  },
  {
   "cell_type": "code",
   "execution_count": 13,
   "id": "4a554f53",
   "metadata": {
    "execution": {
     "iopub.execute_input": "2024-09-30T04:11:25.684164Z",
     "iopub.status.busy": "2024-09-30T04:11:25.683863Z",
     "iopub.status.idle": "2024-09-30T04:11:26.909313Z",
     "shell.execute_reply": "2024-09-30T04:11:26.908458Z"
    },
    "papermill": {
     "duration": 1.239333,
     "end_time": "2024-09-30T04:11:26.911623",
     "exception": false,
     "start_time": "2024-09-30T04:11:25.672290",
     "status": "completed"
    },
    "tags": []
   },
   "outputs": [
    {
     "data": {
      "image/png": "[encoded data removed]",
      "text/plain": [
       "<Figure size 1200x900 with 2 Axes>"
      ]
     },
     "metadata": {},
     "output_type": "display_data"
    }
   ],
   "source": [
    "# Correlation matrix\n",
    "\n",
    "corrmat = df.corr()\n",
    "fig = plt.figure(figsize = (12, 9))\n",
    "\n",
    "sns.heatmap(corrmat, vmax = 0.8, square = True)\n",
    "plt.show()"
   ]
  },
  {
   "cell_type": "markdown",
   "id": "47e53df9",
   "metadata": {
    "papermill": {
     "duration": 0.011201,
     "end_time": "2024-09-30T04:11:26.934536",
     "exception": false,
     "start_time": "2024-09-30T04:11:26.923335",
     "status": "completed"
    },
    "tags": []
   },
   "source": [
    "## Separating input variables & target class"
   ]
  },
  {
   "cell_type": "code",
   "execution_count": 20,
   "id": "6540d185",
   "metadata": {
    "execution": {
     "iopub.execute_input": "2024-09-30T04:11:26.958077Z",
     "iopub.status.busy": "2024-09-30T04:11:26.957770Z",
     "iopub.status.idle": "2024-09-30T04:11:26.986348Z",
     "shell.execute_reply": "2024-09-30T04:11:26.985276Z"
    },
    "papermill": {
     "duration": 0.042907,
     "end_time": "2024-09-30T04:11:26.988551",
     "exception": false,
     "start_time": "2024-09-30T04:11:26.945644",
     "status": "completed"
    },
    "tags": []
   },
   "outputs": [
    {
     "name": "stdout",
     "output_type": "stream",
     "text": [
      "(30000, 23)\n",
      "(30000,)\n",
      "Cross-validation scores: [0.801      0.8025     0.81716667 0.82683333 0.81483333]\n",
      "Mean cross-validation score: 0.8124666666666667\n"
     ]
    }
   ],
   "source": [
    "\n",
    "\n",
    "# Split your features and target\n",
    "columns = df.columns.tolist()\n",
    "columns = [c for c in columns if c not in [\"default payment next month\"]]\n",
    "target = \"default payment next month\"\n",
    "\n",
    "X = df[columns]\n",
    "y = df[target]\n",
    "\n",
    "print(X.shape)\n",
    "print(y.shape)\n",
    "\n",
    "# Split the data into training and testing sets\n",
    "X_train, X_test, y_train, y_test = train_test_split(X, y, test_size=0.2, random_state=42)\n",
    "\n",
    "# Define and train your model\n",
    "model = XGBClassifier()\n",
    "model.fit(X_train, y_train)\n",
    "scores = cross_val_score(model, X, y, cv=5)\n",
    "\n",
    "# Print the cross-validation scores\n",
    "print(\"Cross-validation scores:\", scores)\n",
    "print(\"Mean cross-validation score:\", scores.mean())"
   ]
  },
  {
   "cell_type": "code",
   "execution_count": 21,
   "id": "686885ba",
   "metadata": {},
   "outputs": [
    {
     "name": "stdout",
     "output_type": "stream",
     "text": [
      "Model saved as xgb_model.pkl\n"
     ]
    }
   ],
   "source": [
    "joblib.dump(model, 'xgb_model.pkl')\n",
    "\n",
    "print(\"Model saved as xgb_model.pkl\")"
   ]
  },
  {
   "cell_type": "markdown",
   "id": "445991f7",
   "metadata": {
    "papermill": {
     "duration": 0.011145,
     "end_time": "2024-09-30T04:11:27.011366",
     "exception": false,
     "start_time": "2024-09-30T04:11:27.000221",
     "status": "completed"
    },
    "tags": []
   },
   "source": [
    "## Isolation Forest Algorithm"
   ]
  },
  {
   "cell_type": "code",
   "execution_count": 62,
   "id": "ac5f4fd9",
   "metadata": {
    "execution": {
     "iopub.execute_input": "2024-09-30T04:11:27.035400Z",
     "iopub.status.busy": "2024-09-30T04:11:27.035095Z",
     "iopub.status.idle": "2024-09-30T04:12:13.026036Z",
     "shell.execute_reply": "2024-09-30T04:12:13.025215Z"
    },
    "papermill": {
     "duration": 46.005927,
     "end_time": "2024-09-30T04:12:13.028494",
     "exception": false,
     "start_time": "2024-09-30T04:11:27.022567",
     "status": "completed"
    },
    "tags": []
   },
   "outputs": [],
   "source": [
    "clf = IsolationForest(max_samples = len(X), contamination = outlier_fraction, random_state = 1)\n",
    "clf.fit(X)\n",
    "scores_pred = clf.decision_function(X)\n",
    "y_pred = clf.predict(X) # Isolation Forest predicts 1 for valid transactions, while it predicts -1 for fraudulent"
   ]
  },
  {
   "cell_type": "code",
   "execution_count": 63,
   "id": "0410c35e",
   "metadata": {
    "execution": {
     "iopub.execute_input": "2024-09-30T04:12:13.053967Z",
     "iopub.status.busy": "2024-09-30T04:12:13.053622Z",
     "iopub.status.idle": "2024-09-30T04:12:13.059392Z",
     "shell.execute_reply": "2024-09-30T04:12:13.058440Z"
    },
    "papermill": {
     "duration": 0.020065,
     "end_time": "2024-09-30T04:12:13.061290",
     "exception": false,
     "start_time": "2024-09-30T04:12:13.041225",
     "status": "completed"
    },
    "tags": []
   },
   "outputs": [
    {
     "name": "stdout",
     "output_type": "stream",
     "text": [
      "Valid transactions predicted by Isolation Forest: 21479\n",
      "Fraudulent transactions predicted by Isolation Forest: 8521\n"
     ]
    }
   ],
   "source": [
    "print(f\"Valid transactions predicted by Isolation Forest: {len(y_pred[y_pred == 1])}\") # Valid\n",
    "print(f\"Fraudulent transactions predicted by Isolation Forest: {len(y_pred[y_pred == -1])}\") # Fraudulent"
   ]
  },
  {
   "cell_type": "code",
   "execution_count": 64,
   "id": "3c6637e6",
   "metadata": {
    "execution": {
     "iopub.execute_input": "2024-09-30T04:12:13.085335Z",
     "iopub.status.busy": "2024-09-30T04:12:13.085042Z",
     "iopub.status.idle": "2024-09-30T04:12:13.089952Z",
     "shell.execute_reply": "2024-09-30T04:12:13.089081Z"
    },
    "papermill": {
     "duration": 0.019024,
     "end_time": "2024-09-30T04:12:13.091892",
     "exception": false,
     "start_time": "2024-09-30T04:12:13.072868",
     "status": "completed"
    },
    "tags": []
   },
   "outputs": [],
   "source": [
    "# A transformation in required in y_pred array, as Isolation Forest predicts 1 for valid transactions, while it predicts -1 for fraudulent, but in the\n",
    "# dataset, we have \"Class\" variable as 0 for valid transactions, 1 for fraudulent transactions.\n",
    "\n",
    "y_pred[y_pred == 1] = 0\n",
    "y_pred[y_pred == -1] = 1"
   ]
  },
  {
   "cell_type": "code",
   "execution_count": 65,
   "id": "15e71aca",
   "metadata": {
    "execution": {
     "iopub.execute_input": "2024-09-30T04:12:13.115873Z",
     "iopub.status.busy": "2024-09-30T04:12:13.115552Z",
     "iopub.status.idle": "2024-09-30T04:12:13.161544Z",
     "shell.execute_reply": "2024-09-30T04:12:13.160496Z"
    },
    "papermill": {
     "duration": 0.060503,
     "end_time": "2024-09-30T04:12:13.163811",
     "exception": false,
     "start_time": "2024-09-30T04:12:13.103308",
     "status": "completed"
    },
    "tags": []
   },
   "outputs": [
    {
     "name": "stdout",
     "output_type": "stream",
     "text": [
      "Accuracy score: 0.6673\n"
     ]
    }
   ],
   "source": [
    "print(f\"Accuracy score: {accuracy_score(y, y_pred)}\")"
   ]
  },
  {
   "cell_type": "code",
   "execution_count": 66,
   "id": "0ea45ce5",
   "metadata": {
    "execution": {
     "iopub.execute_input": "2024-09-30T04:12:13.189222Z",
     "iopub.status.busy": "2024-09-30T04:12:13.188930Z",
     "iopub.status.idle": "2024-09-30T04:12:13.194192Z",
     "shell.execute_reply": "2024-09-30T04:12:13.193254Z"
    },
    "papermill": {
     "duration": 0.019819,
     "end_time": "2024-09-30T04:12:13.196058",
     "exception": false,
     "start_time": "2024-09-30T04:12:13.176239",
     "status": "completed"
    },
    "tags": []
   },
   "outputs": [
    {
     "name": "stdout",
     "output_type": "stream",
     "text": [
      "Total incorrect predictions: 9981\n"
     ]
    }
   ],
   "source": [
    "n_errors = (y != y_pred).sum()\n",
    "print(f\"Total incorrect predictions: {n_errors}\")"
   ]
  },
  {
   "cell_type": "code",
   "execution_count": 67,
   "id": "4cc7e670",
   "metadata": {
    "execution": {
     "iopub.execute_input": "2024-09-30T04:12:13.220851Z",
     "iopub.status.busy": "2024-09-30T04:12:13.220149Z",
     "iopub.status.idle": "2024-09-30T04:12:14.012561Z",
     "shell.execute_reply": "2024-09-30T04:12:14.011487Z"
    },
    "papermill": {
     "duration": 0.806964,
     "end_time": "2024-09-30T04:12:14.014810",
     "exception": false,
     "start_time": "2024-09-30T04:12:13.207846",
     "status": "completed"
    },
    "tags": []
   },
   "outputs": [
    {
     "name": "stdout",
     "output_type": "stream",
     "text": [
      "              precision    recall  f1-score   support\n",
      "\n",
      "           0       0.81      0.75      0.78     23364\n",
      "           1       0.30      0.39      0.34      6636\n",
      "\n",
      "    accuracy                           0.67     30000\n",
      "   macro avg       0.56      0.57      0.56     30000\n",
      "weighted avg       0.70      0.67      0.68     30000\n",
      "\n"
     ]
    }
   ],
   "source": [
    "print(classification_report(y, y_pred))"
   ]
  },
  {
   "cell_type": "markdown",
   "id": "78d98ce8",
   "metadata": {
    "papermill": {
     "duration": 0.011471,
     "end_time": "2024-09-30T04:12:14.038732",
     "exception": false,
     "start_time": "2024-09-30T04:12:14.027261",
     "status": "completed"
    },
    "tags": []
   },
   "source": [
    "## Local Outlier Factor Algorithm"
   ]
  },
  {
   "cell_type": "code",
   "execution_count": 76,
   "id": "37143a8f",
   "metadata": {
    "execution": {
     "iopub.execute_input": "2024-09-30T04:12:14.063231Z",
     "iopub.status.busy": "2024-09-30T04:12:14.062927Z",
     "iopub.status.idle": "2024-09-30T04:23:29.467249Z",
     "shell.execute_reply": "2024-09-30T04:23:29.466393Z"
    },
    "papermill": {
     "duration": 675.419557,
     "end_time": "2024-09-30T04:23:29.469931",
     "exception": false,
     "start_time": "2024-09-30T04:12:14.050374",
     "status": "completed"
    },
    "tags": []
   },
   "outputs": [],
   "source": [
    "clf = LocalOutlierFactor(n_neighbors = 20, contamination = outlier_fraction)\n",
    "y_pred = clf.fit_predict(X)\n",
    "scores_pred = clf.negative_outlier_factor_"
   ]
  },
  {
   "cell_type": "code",
   "execution_count": 77,
   "id": "1fffd993",
   "metadata": {
    "execution": {
     "iopub.execute_input": "2024-09-30T04:23:29.495391Z",
     "iopub.status.busy": "2024-09-30T04:23:29.495068Z",
     "iopub.status.idle": "2024-09-30T04:23:29.501475Z",
     "shell.execute_reply": "2024-09-30T04:23:29.500470Z"
    },
    "papermill": {
     "duration": 0.02131,
     "end_time": "2024-09-30T04:23:29.503485",
     "exception": false,
     "start_time": "2024-09-30T04:23:29.482175",
     "status": "completed"
    },
    "tags": []
   },
   "outputs": [
    {
     "name": "stdout",
     "output_type": "stream",
     "text": [
      "Valid transactions predicted by Local Outlier Factor: 21479\n",
      "Fraudulent transactions predicted by Local Outlier Factor: 8521\n"
     ]
    }
   ],
   "source": [
    "print(f\"Valid transactions predicted by Local Outlier Factor: {len(y_pred[y_pred == 1])}\") # Valid\n",
    "print(f\"Fraudulent transactions predicted by Local Outlier Factor: {len(y_pred[y_pred == -1])}\") # Fraudulent"
   ]
  },
  {
   "cell_type": "code",
   "execution_count": 78,
   "id": "5e74b844",
   "metadata": {
    "execution": {
     "iopub.execute_input": "2024-09-30T04:23:29.528813Z",
     "iopub.status.busy": "2024-09-30T04:23:29.528490Z",
     "iopub.status.idle": "2024-09-30T04:23:29.533190Z",
     "shell.execute_reply": "2024-09-30T04:23:29.532334Z"
    },
    "papermill": {
     "duration": 0.019593,
     "end_time": "2024-09-30T04:23:29.535137",
     "exception": false,
     "start_time": "2024-09-30T04:23:29.515544",
     "status": "completed"
    },
    "tags": []
   },
   "outputs": [],
   "source": [
    "y_pred[y_pred == 1] = 0\n",
    "y_pred[y_pred == -1] = 1"
   ]
  },
  {
   "cell_type": "code",
   "execution_count": 79,
   "id": "200c0b0b",
   "metadata": {
    "execution": {
     "iopub.execute_input": "2024-09-30T04:23:29.561332Z",
     "iopub.status.busy": "2024-09-30T04:23:29.560655Z",
     "iopub.status.idle": "2024-09-30T04:23:29.606182Z",
     "shell.execute_reply": "2024-09-30T04:23:29.605253Z"
    },
    "papermill": {
     "duration": 0.061092,
     "end_time": "2024-09-30T04:23:29.608141",
     "exception": false,
     "start_time": "2024-09-30T04:23:29.547049",
     "status": "completed"
    },
    "tags": []
   },
   "outputs": [
    {
     "name": "stdout",
     "output_type": "stream",
     "text": [
      "Accuracy score: 0.6084333333333334\n"
     ]
    }
   ],
   "source": [
    "print(f\"Accuracy score: {accuracy_score(y, y_pred)}\")"
   ]
  },
  {
   "cell_type": "code",
   "execution_count": 72,
   "id": "ecf74e97",
   "metadata": {
    "execution": {
     "iopub.execute_input": "2024-09-30T04:23:29.633499Z",
     "iopub.status.busy": "2024-09-30T04:23:29.633006Z",
     "iopub.status.idle": "2024-09-30T04:23:29.638600Z",
     "shell.execute_reply": "2024-09-30T04:23:29.637667Z"
    },
    "papermill": {
     "duration": 0.020542,
     "end_time": "2024-09-30T04:23:29.640518",
     "exception": false,
     "start_time": "2024-09-30T04:23:29.619976",
     "status": "completed"
    },
    "tags": []
   },
   "outputs": [
    {
     "name": "stdout",
     "output_type": "stream",
     "text": [
      "Total incorrect predictions: 11747\n"
     ]
    }
   ],
   "source": [
    "n_errors = (y != y_pred).sum()\n",
    "print(f\"Total incorrect predictions: {n_errors}\")"
   ]
  },
  {
   "cell_type": "code",
   "execution_count": 80,
   "id": "72f2ce2b",
   "metadata": {
    "execution": {
     "iopub.execute_input": "2024-09-30T04:23:29.665598Z",
     "iopub.status.busy": "2024-09-30T04:23:29.665307Z",
     "iopub.status.idle": "2024-09-30T04:23:30.431844Z",
     "shell.execute_reply": "2024-09-30T04:23:30.430698Z"
    },
    "papermill": {
     "duration": 0.781703,
     "end_time": "2024-09-30T04:23:30.434090",
     "exception": false,
     "start_time": "2024-09-30T04:23:29.652387",
     "status": "completed"
    },
    "tags": []
   },
   "outputs": [
    {
     "name": "stdout",
     "output_type": "stream",
     "text": [
      "              precision    recall  f1-score   support\n",
      "\n",
      "           0       0.77      0.71      0.74     23364\n",
      "           1       0.20      0.26      0.22      6636\n",
      "\n",
      "    accuracy                           0.61     30000\n",
      "   macro avg       0.49      0.48      0.48     30000\n",
      "weighted avg       0.64      0.61      0.62     30000\n",
      "\n"
     ]
    }
   ],
   "source": [
    "print(classification_report(y, y_pred))"
   ]
  },
  {
   "cell_type": "code",
   "execution_count": 82,
   "id": "0276f8f0",
   "metadata": {},
   "outputs": [
    {
     "data": {
      "text/plain": [
       "(0.4921367939354107, 'fraud_detection_model.pkl')"
      ]
     },
     "execution_count": 82,
     "metadata": {},
     "output_type": "execute_result"
    }
   ],
   "source": [
    "import pandas as pd\n",
    "from sklearn.model_selection import train_test_split\n",
    "from sklearn.ensemble import RandomForestClassifier\n",
    "from sklearn.metrics import precision_recall_curve, auc\n",
    "from imblearn.over_sampling import SMOTE\n",
    "import pickle\n",
    "\n",
    "# Assuming the dataset is loaded in a variable 'data', here is the process to build and save the model.\n",
    "\n",
    "# Load dataset (assuming it's a CSV file)\n",
    "# data_path = 'data/default_of_credit_card_clients.csv'  # Replace with actual path if different\n",
    "# data = pd.read_csv(data_path)\n",
    "\n",
    "# Separate the features and target variable\n",
    "X = df.drop(columns=['default payment next month'])\n",
    "y = df['default payment next month']\n",
    "\n",
    "# Split the dataset into training and testing sets\n",
    "X_train, X_test, y_train, y_test = train_test_split(X, y, test_size=0.3, random_state=42, stratify=y)\n",
    "\n",
    "# Handle class imbalance using SMOTE (Synthetic Minority Over-sampling Technique)\n",
    "smote = SMOTE(random_state=42)\n",
    "X_train_res, y_train_res = smote.fit_resample(X_train, y_train)\n",
    "\n",
    "# Build a RandomForest model\n",
    "model = RandomForestClassifier(random_state=42, n_estimators=100)\n",
    "model.fit(X_train_res, y_train_res)\n",
    "\n",
    "# Predict probabilities\n",
    "y_probs = model.predict_proba(X_test)[:, 1]\n",
    "\n",
    "# Calculate Precision-Recall curve and AUPRC\n",
    "precision, recall, _ = precision_recall_curve(y_test, y_probs)\n",
    "auprc = auc(recall, precision)\n",
    "\n",
    "# Save the model\n",
    "model_filename = 'fraud_detection_model.pkl'\n",
    "with open(model_filename, 'wb') as file:\n",
    "    pickle.dump(model, file)\n",
    "\n",
    "# Output the AUPRC value and save the model path\n",
    "auprc, model_filename"
   ]
  },
  {
   "cell_type": "code",
   "execution_count": 83,
   "id": "995d152c",
   "metadata": {},
   "outputs": [
    {
     "data": {
      "text/plain": [
       "0.4921367939354107"
      ]
     },
     "execution_count": 83,
     "metadata": {},
     "output_type": "execute_result"
    }
   ],
   "source": [
    "auprc "
   ]
  },
  {
   "cell_type": "code",
   "execution_count": 84,
   "id": "f0e6e490",
   "metadata": {},
   "outputs": [
    {
     "data": {
      "image/png": "[encoded data removed]",
      "text/plain": [
       "<Figure size 640x480 with 1 Axes>"
      ]
     },
     "metadata": {},
     "output_type": "display_data"
    },
    {
     "data": {
      "text/plain": [
       "(None, 0.4921367939354107, 'precision_recall_curve.png')"
      ]
     },
     "execution_count": 84,
     "metadata": {},
     "output_type": "execute_result"
    }
   ],
   "source": [
    "import matplotlib.pyplot as plt\n",
    "\n",
    "# Adding the plot of the Precision-Recall curve\n",
    "plt.figure()\n",
    "plt.plot(recall, precision, label=f'AUPRC = {auprc:.4f}')\n",
    "plt.xlabel('Recall')\n",
    "plt.ylabel('Precision')\n",
    "plt.title('Precision-Recall Curve')\n",
    "plt.legend(loc=\"best\")\n",
    "plt.grid(True)\n",
    "\n",
    "# Save the plot to a file\n",
    "plot_filename = 'precision_recall_curve.png'\n",
    "plt.savefig(plot_filename)\n",
    "\n",
    "# Display the plot and return the AUPRC value along with plot file path\n",
    "plt.show(), auprc, plot_filename"
   ]
  },
  {
   "cell_type": "code",
   "execution_count": 1,
   "id": "24c5590e",
   "metadata": {},
   "outputs": [],
   "source": [
    "import xgboost as xgb\n",
    "from sklearn.model_selection import train_test_split\n",
    "from sklearn.metrics import classification_report, confusion_matrix, roc_auc_score\n",
    "import pandas as pd"
   ]
  },
  {
   "cell_type": "code",
   "execution_count": 6,
   "id": "efd87c12",
   "metadata": {},
   "outputs": [],
   "source": [
    "df = pd.read_csv('/Users/nguinabejosue/Desktop/Fraud_Detection/data/default_of_credit_card_clients.csv',skiprows=1,index_col=0)\n",
    "\n",
    "# Define features and target\n",
    "X = df.drop('default payment next month',axis=1)  # Replace 'target_column' with your actual target column\n",
    "y = df['default payment next month']"
   ]
  },
  {
   "cell_type": "code",
   "execution_count": 11,
   "id": "9de81a75",
   "metadata": {},
   "outputs": [
    {
     "data": {
      "text/plain": [
       "default payment next month\n",
       "0    23364\n",
       "1     6636\n",
       "Name: count, dtype: int64"
      ]
     },
     "execution_count": 11,
     "metadata": {},
     "output_type": "execute_result"
    }
   ],
   "source": [
    "df['default payment next month'].value_counts()"
   ]
  },
  {
   "cell_type": "code",
   "execution_count": 12,
   "id": "d6b0f6ec",
   "metadata": {},
   "outputs": [
    {
     "name": "stderr",
     "output_type": "stream",
     "text": [
      "/opt/anaconda3/lib/python3.12/site-packages/xgboost/core.py:158: UserWarning: [12:08:50] WARNING: /Users/runner/work/xgboost/xgboost/src/learner.cc:740: \n",
      "Parameters: { \"use_label_encoder\" } are not used.\n",
      "\n",
      "  warnings.warn(smsg, UserWarning)\n"
     ]
    },
    {
     "data": {
      "text/html": [
       "<style>#sk-container-id-1 {\n",
       "  /* Definition of color scheme common for light and dark mode */\n",
       "  --sklearn-color-text: black;\n",
       "  --sklearn-color-line: gray;\n",
       "  /* Definition of color scheme for unfitted estimators */\n",
       "  --sklearn-color-unfitted-level-0: #fff5e6;\n",
       "  --sklearn-color-unfitted-level-1: #f6e4d2;\n",
       "  --sklearn-color-unfitted-level-2: #ffe0b3;\n",
       "  --sklearn-color-unfitted-level-3: chocolate;\n",
       "  /* Definition of color scheme for fitted estimators */\n",
       "  --sklearn-color-fitted-level-0: #f0f8ff;\n",
       "  --sklearn-color-fitted-level-1: #d4ebff;\n",
       "  --sklearn-color-fitted-level-2: #b3dbfd;\n",
       "  --sklearn-color-fitted-level-3: cornflowerblue;\n",
       "\n",
       "  /* Specific color for light theme */\n",
       "  --sklearn-color-text-on-default-background: var(--sg-text-color, var(--theme-code-foreground, var(--jp-content-font-color1, black)));\n",
       "  --sklearn-color-background: var(--sg-background-color, var(--theme-background, var(--jp-layout-color0, white)));\n",
       "  --sklearn-color-border-box: var(--sg-text-color, var(--theme-code-foreground, var(--jp-content-font-color1, black)));\n",
       "  --sklearn-color-icon: #696969;\n",
       "\n",
       "  @media (prefers-color-scheme: dark) {\n",
       "    /* Redefinition of color scheme for dark theme */\n",
       "    --sklearn-color-text-on-default-background: var(--sg-text-color, var(--theme-code-foreground, var(--jp-content-font-color1, white)));\n",
       "    --sklearn-color-background: var(--sg-background-color, var(--theme-background, var(--jp-layout-color0, #111)));\n",
       "    --sklearn-color-border-box: var(--sg-text-color, var(--theme-code-foreground, var(--jp-content-font-color1, white)));\n",
       "    --sklearn-color-icon: #878787;\n",
       "  }\n",
       "}\n",
       "\n",
       "#sk-container-id-1 {\n",
       "  color: var(--sklearn-color-text);\n",
       "}\n",
       "\n",
       "#sk-container-id-1 pre {\n",
       "  padding: 0;\n",
       "}\n",
       "\n",
       "#sk-container-id-1 input.sk-hidden--visually {\n",
       "  border: 0;\n",
       "  clip: rect(1px 1px 1px 1px);\n",
       "  clip: rect(1px, 1px, 1px, 1px);\n",
       "  height: 1px;\n",
       "  margin: -1px;\n",
       "  overflow: hidden;\n",
       "  padding: 0;\n",
       "  position: absolute;\n",
       "  width: 1px;\n",
       "}\n",
       "\n",
       "#sk-container-id-1 div.sk-dashed-wrapped {\n",
       "  border: 1px dashed var(--sklearn-color-line);\n",
       "  margin: 0 0.4em 0.5em 0.4em;\n",
       "  box-sizing: border-box;\n",
       "  padding-bottom: 0.4em;\n",
       "  background-color: var(--sklearn-color-background);\n",
       "}\n",
       "\n",
       "#sk-container-id-1 div.sk-container {\n",
       "  /* jupyter's `normalize.less` sets `[hidden] { display: none; }`\n",
       "     but bootstrap.min.css set `[hidden] { display: none !important; }`\n",
       "     so we also need the `!important` here to be able to override the\n",
       "     default hidden behavior on the sphinx rendered scikit-learn.org.\n",
       "     See: https://github.com/scikit-learn/scikit-learn/issues/21755 */\n",
       "  display: inline-block !important;\n",
       "  position: relative;\n",
       "}\n",
       "\n",
       "#sk-container-id-1 div.sk-text-repr-fallback {\n",
       "  display: none;\n",
       "}\n",
       "\n",
       "div.sk-parallel-item,\n",
       "div.sk-serial,\n",
       "div.sk-item {\n",
       "  /* draw centered vertical line to link estimators */\n",
       "  background-image: linear-gradient(var(--sklearn-color-text-on-default-background), var(--sklearn-color-text-on-default-background));\n",
       "  background-size: 2px 100%;\n",
       "  background-repeat: no-repeat;\n",
       "  background-position: center center;\n",
       "}\n",
       "\n",
       "/* Parallel-specific style estimator block */\n",
       "\n",
       "#sk-container-id-1 div.sk-parallel-item::after {\n",
       "  content: \"\";\n",
       "  width: 100%;\n",
       "  border-bottom: 2px solid var(--sklearn-color-text-on-default-background);\n",
       "  flex-grow: 1;\n",
       "}\n",
       "\n",
       "#sk-container-id-1 div.sk-parallel {\n",
       "  display: flex;\n",
       "  align-items: stretch;\n",
       "  justify-content: center;\n",
       "  background-color: var(--sklearn-color-background);\n",
       "  position: relative;\n",
       "}\n",
       "\n",
       "#sk-container-id-1 div.sk-parallel-item {\n",
       "  display: flex;\n",
       "  flex-direction: column;\n",
       "}\n",
       "\n",
       "#sk-container-id-1 div.sk-parallel-item:first-child::after {\n",
       "  align-self: flex-end;\n",
       "  width: 50%;\n",
       "}\n",
       "\n",
       "#sk-container-id-1 div.sk-parallel-item:last-child::after {\n",
       "  align-self: flex-start;\n",
       "  width: 50%;\n",
       "}\n",
       "\n",
       "#sk-container-id-1 div.sk-parallel-item:only-child::after {\n",
       "  width: 0;\n",
       "}\n",
       "\n",
       "/* Serial-specific style estimator block */\n",
       "\n",
       "#sk-container-id-1 div.sk-serial {\n",
       "  display: flex;\n",
       "  flex-direction: column;\n",
       "  align-items: center;\n",
       "  background-color: var(--sklearn-color-background);\n",
       "  padding-right: 1em;\n",
       "  padding-left: 1em;\n",
       "}\n",
       "\n",
       "\n",
       "/* Toggleable style: style used for estimator/Pipeline/ColumnTransformer box that is\n",
       "clickable and can be expanded/collapsed.\n",
       "- Pipeline and ColumnTransformer use this feature and define the default style\n",
       "- Estimators will overwrite some part of the style using the `sk-estimator` class\n",
       "*/\n",
       "\n",
       "/* Pipeline and ColumnTransformer style (default) */\n",
       "\n",
       "#sk-container-id-1 div.sk-toggleable {\n",
       "  /* Default theme specific background. It is overwritten whether we have a\n",
       "  specific estimator or a Pipeline/ColumnTransformer */\n",
       "  background-color: var(--sklearn-color-background);\n",
       "}\n",
       "\n",
       "/* Toggleable label */\n",
       "#sk-container-id-1 label.sk-toggleable__label {\n",
       "  cursor: pointer;\n",
       "  display: block;\n",
       "  width: 100%;\n",
       "  margin-bottom: 0;\n",
       "  padding: 0.5em;\n",
       "  box-sizing: border-box;\n",
       "  text-align: center;\n",
       "}\n",
       "\n",
       "#sk-container-id-1 label.sk-toggleable__label-arrow:before {\n",
       "  /* Arrow on the left of the label */\n",
       "  content: \"▸\";\n",
       "  float: left;\n",
       "  margin-right: 0.25em;\n",
       "  color: var(--sklearn-color-icon);\n",
       "}\n",
       "\n",
       "#sk-container-id-1 label.sk-toggleable__label-arrow:hover:before {\n",
       "  color: var(--sklearn-color-text);\n",
       "}\n",
       "\n",
       "/* Toggleable content - dropdown */\n",
       "\n",
       "#sk-container-id-1 div.sk-toggleable__content {\n",
       "  max-height: 0;\n",
       "  max-width: 0;\n",
       "  overflow: hidden;\n",
       "  text-align: left;\n",
       "  /* unfitted */\n",
       "  background-color: var(--sklearn-color-unfitted-level-0);\n",
       "}\n",
       "\n",
       "#sk-container-id-1 div.sk-toggleable__content.fitted {\n",
       "  /* fitted */\n",
       "  background-color: var(--sklearn-color-fitted-level-0);\n",
       "}\n",
       "\n",
       "#sk-container-id-1 div.sk-toggleable__content pre {\n",
       "  margin: 0.2em;\n",
       "  border-radius: 0.25em;\n",
       "  color: var(--sklearn-color-text);\n",
       "  /* unfitted */\n",
       "  background-color: var(--sklearn-color-unfitted-level-0);\n",
       "}\n",
       "\n",
       "#sk-container-id-1 div.sk-toggleable__content.fitted pre {\n",
       "  /* unfitted */\n",
       "  background-color: var(--sklearn-color-fitted-level-0);\n",
       "}\n",
       "\n",
       "#sk-container-id-1 input.sk-toggleable__control:checked~div.sk-toggleable__content {\n",
       "  /* Expand drop-down */\n",
       "  max-height: 200px;\n",
       "  max-width: 100%;\n",
       "  overflow: auto;\n",
       "}\n",
       "\n",
       "#sk-container-id-1 input.sk-toggleable__control:checked~label.sk-toggleable__label-arrow:before {\n",
       "  content: \"▾\";\n",
       "}\n",
       "\n",
       "/* Pipeline/ColumnTransformer-specific style */\n",
       "\n",
       "#sk-container-id-1 div.sk-label input.sk-toggleable__control:checked~label.sk-toggleable__label {\n",
       "  color: var(--sklearn-color-text);\n",
       "  background-color: var(--sklearn-color-unfitted-level-2);\n",
       "}\n",
       "\n",
       "#sk-container-id-1 div.sk-label.fitted input.sk-toggleable__control:checked~label.sk-toggleable__label {\n",
       "  background-color: var(--sklearn-color-fitted-level-2);\n",
       "}\n",
       "\n",
       "/* Estimator-specific style */\n",
       "\n",
       "/* Colorize estimator box */\n",
       "#sk-container-id-1 div.sk-estimator input.sk-toggleable__control:checked~label.sk-toggleable__label {\n",
       "  /* unfitted */\n",
       "  background-color: var(--sklearn-color-unfitted-level-2);\n",
       "}\n",
       "\n",
       "#sk-container-id-1 div.sk-estimator.fitted input.sk-toggleable__control:checked~label.sk-toggleable__label {\n",
       "  /* fitted */\n",
       "  background-color: var(--sklearn-color-fitted-level-2);\n",
       "}\n",
       "\n",
       "#sk-container-id-1 div.sk-label label.sk-toggleable__label,\n",
       "#sk-container-id-1 div.sk-label label {\n",
       "  /* The background is the default theme color */\n",
       "  color: var(--sklearn-color-text-on-default-background);\n",
       "}\n",
       "\n",
       "/* On hover, darken the color of the background */\n",
       "#sk-container-id-1 div.sk-label:hover label.sk-toggleable__label {\n",
       "  color: var(--sklearn-color-text);\n",
       "  background-color: var(--sklearn-color-unfitted-level-2);\n",
       "}\n",
       "\n",
       "/* Label box, darken color on hover, fitted */\n",
       "#sk-container-id-1 div.sk-label.fitted:hover label.sk-toggleable__label.fitted {\n",
       "  color: var(--sklearn-color-text);\n",
       "  background-color: var(--sklearn-color-fitted-level-2);\n",
       "}\n",
       "\n",
       "/* Estimator label */\n",
       "\n",
       "#sk-container-id-1 div.sk-label label {\n",
       "  font-family: monospace;\n",
       "  font-weight: bold;\n",
       "  display: inline-block;\n",
       "  line-height: 1.2em;\n",
       "}\n",
       "\n",
       "#sk-container-id-1 div.sk-label-container {\n",
       "  text-align: center;\n",
       "}\n",
       "\n",
       "/* Estimator-specific */\n",
       "#sk-container-id-1 div.sk-estimator {\n",
       "  font-family: monospace;\n",
       "  border: 1px dotted var(--sklearn-color-border-box);\n",
       "  border-radius: 0.25em;\n",
       "  box-sizing: border-box;\n",
       "  margin-bottom: 0.5em;\n",
       "  /* unfitted */\n",
       "  background-color: var(--sklearn-color-unfitted-level-0);\n",
       "}\n",
       "\n",
       "#sk-container-id-1 div.sk-estimator.fitted {\n",
       "  /* fitted */\n",
       "  background-color: var(--sklearn-color-fitted-level-0);\n",
       "}\n",
       "\n",
       "/* on hover */\n",
       "#sk-container-id-1 div.sk-estimator:hover {\n",
       "  /* unfitted */\n",
       "  background-color: var(--sklearn-color-unfitted-level-2);\n",
       "}\n",
       "\n",
       "#sk-container-id-1 div.sk-estimator.fitted:hover {\n",
       "  /* fitted */\n",
       "  background-color: var(--sklearn-color-fitted-level-2);\n",
       "}\n",
       "\n",
       "/* Specification for estimator info (e.g. \"i\" and \"?\") */\n",
       "\n",
       "/* Common style for \"i\" and \"?\" */\n",
       "\n",
       ".sk-estimator-doc-link,\n",
       "a:link.sk-estimator-doc-link,\n",
       "a:visited.sk-estimator-doc-link {\n",
       "  float: right;\n",
       "  font-size: smaller;\n",
       "  line-height: 1em;\n",
       "  font-family: monospace;\n",
       "  background-color: var(--sklearn-color-background);\n",
       "  border-radius: 1em;\n",
       "  height: 1em;\n",
       "  width: 1em;\n",
       "  text-decoration: none !important;\n",
       "  margin-left: 1ex;\n",
       "  /* unfitted */\n",
       "  border: var(--sklearn-color-unfitted-level-1) 1pt solid;\n",
       "  color: var(--sklearn-color-unfitted-level-1);\n",
       "}\n",
       "\n",
       ".sk-estimator-doc-link.fitted,\n",
       "a:link.sk-estimator-doc-link.fitted,\n",
       "a:visited.sk-estimator-doc-link.fitted {\n",
       "  /* fitted */\n",
       "  border: var(--sklearn-color-fitted-level-1) 1pt solid;\n",
       "  color: var(--sklearn-color-fitted-level-1);\n",
       "}\n",
       "\n",
       "/* On hover */\n",
       "div.sk-estimator:hover .sk-estimator-doc-link:hover,\n",
       ".sk-estimator-doc-link:hover,\n",
       "div.sk-label-container:hover .sk-estimator-doc-link:hover,\n",
       ".sk-estimator-doc-link:hover {\n",
       "  /* unfitted */\n",
       "  background-color: var(--sklearn-color-unfitted-level-3);\n",
       "  color: var(--sklearn-color-background);\n",
       "  text-decoration: none;\n",
       "}\n",
       "\n",
       "div.sk-estimator.fitted:hover .sk-estimator-doc-link.fitted:hover,\n",
       ".sk-estimator-doc-link.fitted:hover,\n",
       "div.sk-label-container:hover .sk-estimator-doc-link.fitted:hover,\n",
       ".sk-estimator-doc-link.fitted:hover {\n",
       "  /* fitted */\n",
       "  background-color: var(--sklearn-color-fitted-level-3);\n",
       "  color: var(--sklearn-color-background);\n",
       "  text-decoration: none;\n",
       "}\n",
       "\n",
       "/* Span, style for the box shown on hovering the info icon */\n",
       ".sk-estimator-doc-link span {\n",
       "  display: none;\n",
       "  z-index: 9999;\n",
       "  position: relative;\n",
       "  font-weight: normal;\n",
       "  right: .2ex;\n",
       "  padding: .5ex;\n",
       "  margin: .5ex;\n",
       "  width: min-content;\n",
       "  min-width: 20ex;\n",
       "  max-width: 50ex;\n",
       "  color: var(--sklearn-color-text);\n",
       "  box-shadow: 2pt 2pt 4pt #999;\n",
       "  /* unfitted */\n",
       "  background: var(--sklearn-color-unfitted-level-0);\n",
       "  border: .5pt solid var(--sklearn-color-unfitted-level-3);\n",
       "}\n",
       "\n",
       ".sk-estimator-doc-link.fitted span {\n",
       "  /* fitted */\n",
       "  background: var(--sklearn-color-fitted-level-0);\n",
       "  border: var(--sklearn-color-fitted-level-3);\n",
       "}\n",
       "\n",
       ".sk-estimator-doc-link:hover span {\n",
       "  display: block;\n",
       "}\n",
       "\n",
       "/* \"?\"-specific style due to the `<a>` HTML tag */\n",
       "\n",
       "#sk-container-id-1 a.estimator_doc_link {\n",
       "  float: right;\n",
       "  font-size: 1rem;\n",
       "  line-height: 1em;\n",
       "  font-family: monospace;\n",
       "  background-color: var(--sklearn-color-background);\n",
       "  border-radius: 1rem;\n",
       "  height: 1rem;\n",
       "  width: 1rem;\n",
       "  text-decoration: none;\n",
       "  /* unfitted */\n",
       "  color: var(--sklearn-color-unfitted-level-1);\n",
       "  border: var(--sklearn-color-unfitted-level-1) 1pt solid;\n",
       "}\n",
       "\n",
       "#sk-container-id-1 a.estimator_doc_link.fitted {\n",
       "  /* fitted */\n",
       "  border: var(--sklearn-color-fitted-level-1) 1pt solid;\n",
       "  color: var(--sklearn-color-fitted-level-1);\n",
       "}\n",
       "\n",
       "/* On hover */\n",
       "#sk-container-id-1 a.estimator_doc_link:hover {\n",
       "  /* unfitted */\n",
       "  background-color: var(--sklearn-color-unfitted-level-3);\n",
       "  color: var(--sklearn-color-background);\n",
       "  text-decoration: none;\n",
       "}\n",
       "\n",
       "#sk-container-id-1 a.estimator_doc_link.fitted:hover {\n",
       "  /* fitted */\n",
       "  background-color: var(--sklearn-color-fitted-level-3);\n",
       "}\n",
       "</style><div id=\"sk-container-id-1\" class=\"sk-top-container\"><div class=\"sk-text-repr-fallback\"><pre>XGBClassifier(base_score=None, booster=None, callbacks=None,\n",
       "              colsample_bylevel=None, colsample_bynode=None,\n",
       "              colsample_bytree=None, device=None, early_stopping_rounds=None,\n",
       "              enable_categorical=False, eval_metric=&#x27;logloss&#x27;,\n",
       "              feature_types=None, gamma=None, grow_policy=None,\n",
       "              importance_type=None, interaction_constraints=None,\n",
       "              learning_rate=None, max_bin=None, max_cat_threshold=None,\n",
       "              max_cat_to_onehot=None, max_delta_step=None, max_depth=None,\n",
       "              max_leaves=None, min_child_weight=None, missing=nan,\n",
       "              monotone_constraints=None, multi_strategy=None, n_estimators=None,\n",
       "              n_jobs=None, num_parallel_tree=None, random_state=None, ...)</pre><b>In a Jupyter environment, please rerun this cell to show the HTML representation or trust the notebook. <br />On GitHub, the HTML representation is unable to render, please try loading this page with nbviewer.org.</b></div><div class=\"sk-container\" hidden><div class=\"sk-item\"><div class=\"sk-estimator fitted sk-toggleable\"><input class=\"sk-toggleable__control sk-hidden--visually\" id=\"sk-estimator-id-1\" type=\"checkbox\" checked><label for=\"sk-estimator-id-1\" class=\"sk-toggleable__label fitted sk-toggleable__label-arrow fitted\">&nbsp;XGBClassifier<span class=\"sk-estimator-doc-link fitted\">i<span>Fitted</span></span></label><div class=\"sk-toggleable__content fitted\"><pre>XGBClassifier(base_score=None, booster=None, callbacks=None,\n",
       "              colsample_bylevel=None, colsample_bynode=None,\n",
       "              colsample_bytree=None, device=None, early_stopping_rounds=None,\n",
       "              enable_categorical=False, eval_metric=&#x27;logloss&#x27;,\n",
       "              feature_types=None, gamma=None, grow_policy=None,\n",
       "              importance_type=None, interaction_constraints=None,\n",
       "              learning_rate=None, max_bin=None, max_cat_threshold=None,\n",
       "              max_cat_to_onehot=None, max_delta_step=None, max_depth=None,\n",
       "              max_leaves=None, min_child_weight=None, missing=nan,\n",
       "              monotone_constraints=None, multi_strategy=None, n_estimators=None,\n",
       "              n_jobs=None, num_parallel_tree=None, random_state=None, ...)</pre></div> </div></div></div></div>"
      ],
      "text/plain": [
       "XGBClassifier(base_score=None, booster=None, callbacks=None,\n",
       "              colsample_bylevel=None, colsample_bynode=None,\n",
       "              colsample_bytree=None, device=None, early_stopping_rounds=None,\n",
       "              enable_categorical=False, eval_metric='logloss',\n",
       "              feature_types=None, gamma=None, grow_policy=None,\n",
       "              importance_type=None, interaction_constraints=None,\n",
       "              learning_rate=None, max_bin=None, max_cat_threshold=None,\n",
       "              max_cat_to_onehot=None, max_delta_step=None, max_depth=None,\n",
       "              max_leaves=None, min_child_weight=None, missing=nan,\n",
       "              monotone_constraints=None, multi_strategy=None, n_estimators=None,\n",
       "              n_jobs=None, num_parallel_tree=None, random_state=None, ...)"
      ]
     },
     "execution_count": 12,
     "metadata": {},
     "output_type": "execute_result"
    }
   ],
   "source": [
    "X_train, X_test, y_train, y_test = train_test_split(X, y, test_size=0.2, random_state=42)\n",
    "\n",
    "xgb_clf = xgb.XGBClassifier(\n",
    "    objective='binary:logistic',  # Since it's a classification task\n",
    "    eval_metric='logloss',        # Evaluation metric\n",
    "    use_label_encoder=False       # Disable label encoding\n",
    ")\n",
    "\n",
    "xgb_clf.fit(X_train, y_train)"
   ]
  },
  {
   "cell_type": "code",
   "execution_count": 13,
   "id": "6e37adc1",
   "metadata": {},
   "outputs": [
    {
     "name": "stdout",
     "output_type": "stream",
     "text": [
      "              precision    recall  f1-score   support\n",
      "\n",
      "           0       0.84      0.94      0.89      4687\n",
      "           1       0.64      0.38      0.47      1313\n",
      "\n",
      "    accuracy                           0.82      6000\n",
      "   macro avg       0.74      0.66      0.68      6000\n",
      "weighted avg       0.80      0.82      0.80      6000\n",
      "\n",
      "Confusion Matrix:\n",
      " [[4406  281]\n",
      " [ 819  494]]\n",
      "ROC AUC Score: 0.7705693227739672\n"
     ]
    }
   ],
   "source": [
    "# Make predictions\n",
    "y_pred = xgb_clf.predict(X_test)\n",
    "y_proba = xgb_clf.predict_proba(X_test)[:, 1]\n",
    "\n",
    "# Evaluate the results\n",
    "print(classification_report(y_test, y_pred))\n",
    "print('Confusion Matrix:\\n', confusion_matrix(y_test, y_pred))\n",
    "print('ROC AUC Score:', roc_auc_score(y_test, y_proba))"
   ]
  },
  {
   "cell_type": "code",
   "execution_count": 14,
   "id": "d883d905",
   "metadata": {},
   "outputs": [
    {
     "data": {
      "text/plain": [
       "['xgb_classifier_model.pkl']"
      ]
     },
     "execution_count": 14,
     "metadata": {},
     "output_type": "execute_result"
    }
   ],
   "source": [
    "import joblib\n",
    "\n",
    "# Save the model\n",
    "joblib.dump(xgb_clf, 'xgb_classifier_model.pkl')\n",
    "\n",
    "# Load the model later (if needed)\n",
    "# loaded_model = joblib.load('xgb_classifier_model.pkl')"
   ]
  },
  {
   "cell_type": "code",
   "execution_count": 59,
   "id": "d7e6ce3a",
   "metadata": {},
   "outputs": [],
   "source": [
    "# Load the model later (if needed)\n",
    "loaded_model = joblib.load('xgb_classifier_model.pkl')"
   ]
  },
  {
   "cell_type": "code",
   "execution_count": 60,
   "id": "7d8dbede",
   "metadata": {},
   "outputs": [
    {
     "data": {
      "text/plain": [
       "(24000, 23)"
      ]
     },
     "execution_count": 60,
     "metadata": {},
     "output_type": "execute_result"
    }
   ],
   "source": [
    "X_train.shape"
   ]
  },
  {
   "cell_type": "code",
   "execution_count": 64,
   "id": "93570c81",
   "metadata": {},
   "outputs": [
    {
     "name": "stdout",
     "output_type": "stream",
     "text": [
      "[1]\n",
      "The person is diabetic\n"
     ]
    }
   ],
   "source": [
    "input_data = (5,166,72,19,175,25.8,0.587,51,5,166,72,19,175,25.8,0.587,51,2,3,4,5,6,2,3)\n",
    "\n",
    "# changing the input_data to numpy array\n",
    "input_data_as_numpy_array = np.asarray(input_data)\n",
    "\n",
    "# reshape the array as we are predicting for one instance\n",
    "input_data_reshaped = input_data_as_numpy_array.reshape(1,-1)\n",
    "\n",
    "prediction = loaded_model.predict(input_data_reshaped)\n",
    "print(prediction)\n",
    "\n",
    "if (prediction[0] == 0):\n",
    "  print('The person is not diabetic')\n",
    "else:\n",
    "  print('The person is diabetic')"
   ]
  },
  {
   "cell_type": "code",
   "execution_count": 15,
   "id": "e4553ff9",
   "metadata": {},
   "outputs": [
    {
     "name": "stdout",
     "output_type": "stream",
     "text": [
      "Collecting azureml-sdk\n",
      "  Downloading azureml_sdk-1.57.0-py3-none-any.whl.metadata (3.5 kB)\n",
      "Collecting azureml-core~=1.57.0 (from azureml-sdk)\n",
      "  Downloading azureml_core-1.57.0.post3-py3-none-any.whl.metadata (3.1 kB)\n",
      "Collecting azureml-dataset-runtime~=1.57.0 (from azureml-dataset-runtime[fuse]~=1.57.0->azureml-sdk)\n",
      "  Downloading azureml_dataset_runtime-1.57.0-py3-none-any.whl.metadata (1.2 kB)\n",
      "Collecting azureml-train-core~=1.57.0 (from azureml-sdk)\n",
      "  Downloading azureml_train_core-1.57.0-py3-none-any.whl.metadata (1.7 kB)\n",
      "INFO: pip is looking at multiple versions of azureml-sdk to determine which version is compatible with other requirements. This could take a while.\n",
      "Collecting azureml-sdk\n",
      "  Downloading azureml_sdk-1.56.0-py3-none-any.whl.metadata (3.6 kB)\n",
      "Collecting azureml-core~=1.56.0 (from azureml-sdk)\n",
      "  Downloading azureml_core-1.56.0-py3-none-any.whl.metadata (3.1 kB)\n",
      "Collecting azureml-dataset-runtime~=1.56.0 (from azureml-dataset-runtime[fuse]~=1.56.0->azureml-sdk)\n",
      "  Downloading azureml_dataset_runtime-1.56.0-py3-none-any.whl.metadata (1.2 kB)\n",
      "Collecting azureml-train-core~=1.56.0 (from azureml-sdk)\n",
      "  Downloading azureml_train_core-1.56.0-py3-none-any.whl.metadata (1.7 kB)\n",
      "Collecting azureml-sdk\n",
      "  Downloading azureml_sdk-1.55.0-py3-none-any.whl.metadata (3.6 kB)\n",
      "Collecting azureml-core~=1.55.0 (from azureml-sdk)\n",
      "  Downloading azureml_core-1.55.0.post2-py3-none-any.whl.metadata (3.2 kB)\n",
      "Collecting azureml-dataset-runtime~=1.55.0 (from azureml-dataset-runtime[fuse]~=1.55.0->azureml-sdk)\n",
      "  Downloading azureml_dataset_runtime-1.55.0-py3-none-any.whl.metadata (1.2 kB)\n",
      "Collecting azureml-train-core~=1.55.0 (from azureml-sdk)\n",
      "  Downloading azureml_train_core-1.55.0-py3-none-any.whl.metadata (1.7 kB)\n",
      "Collecting azureml-sdk\n",
      "  Downloading azureml_sdk-1.54.0-py3-none-any.whl.metadata (3.6 kB)\n",
      "Collecting azureml-core~=1.54.0 (from azureml-sdk)\n",
      "  Downloading azureml_core-1.54.0.post1-py3-none-any.whl.metadata (3.2 kB)\n",
      "Collecting azureml-dataset-runtime~=1.54.0 (from azureml-dataset-runtime[fuse]~=1.54.0->azureml-sdk)\n",
      "  Downloading azureml_dataset_runtime-1.54.0.post1-py3-none-any.whl.metadata (1.2 kB)\n",
      "Collecting azureml-train-core~=1.54.0 (from azureml-sdk)\n",
      "  Downloading azureml_train_core-1.54.0-py3-none-any.whl.metadata (1.7 kB)\n",
      "Collecting azureml-sdk\n",
      "  Downloading azureml_sdk-1.53.0-py3-none-any.whl.metadata (3.6 kB)\n",
      "Collecting azureml-core~=1.53.0 (from azureml-sdk)\n",
      "  Downloading azureml_core-1.53.0-py3-none-any.whl.metadata (3.2 kB)\n",
      "Collecting azureml-dataset-runtime~=1.53.0 (from azureml-dataset-runtime[fuse]~=1.53.0->azureml-sdk)\n",
      "  Downloading azureml_dataset_runtime-1.53.0-py3-none-any.whl.metadata (1.2 kB)\n",
      "Collecting azureml-train-core~=1.53.0 (from azureml-sdk)\n",
      "  Downloading azureml_train_core-1.53.0-py3-none-any.whl.metadata (1.7 kB)\n",
      "Collecting azureml-sdk\n",
      "  Downloading azureml_sdk-1.52.0-py3-none-any.whl.metadata (3.6 kB)\n",
      "Collecting azureml-core~=1.52.0 (from azureml-sdk)\n",
      "  Downloading azureml_core-1.52.0-py3-none-any.whl.metadata (3.2 kB)\n",
      "Collecting azureml-dataset-runtime~=1.52.0 (from azureml-dataset-runtime[fuse]~=1.52.0->azureml-sdk)\n",
      "  Downloading azureml_dataset_runtime-1.52.0-py3-none-any.whl.metadata (1.2 kB)\n",
      "Collecting azureml-train-core~=1.52.0 (from azureml-sdk)\n",
      "  Downloading azureml_train_core-1.52.0-py3-none-any.whl.metadata (1.7 kB)\n",
      "Collecting azureml-sdk\n",
      "  Downloading azureml_sdk-1.51.0-py3-none-any.whl.metadata (3.6 kB)\n",
      "Collecting azureml-core~=1.51.0 (from azureml-sdk)\n",
      "  Downloading azureml_core-1.51.0.post1-py3-none-any.whl.metadata (3.2 kB)\n",
      "Collecting azureml-dataset-runtime~=1.51.0 (from azureml-dataset-runtime[fuse]~=1.51.0->azureml-sdk)\n",
      "  Downloading azureml_dataset_runtime-1.51.0-py3-none-any.whl.metadata (1.2 kB)\n",
      "Collecting azureml-train-core~=1.51.0 (from azureml-sdk)\n",
      "  Downloading azureml_train_core-1.51.0-py3-none-any.whl.metadata (1.7 kB)\n",
      "Collecting azureml-sdk\n",
      "  Downloading azureml_sdk-1.50.0-py3-none-any.whl.metadata (3.6 kB)\n",
      "Collecting azureml-core~=1.50.0 (from azureml-sdk)\n",
      "  Downloading azureml_core-1.50.0-py3-none-any.whl.metadata (3.2 kB)\n",
      "Collecting azureml-dataset-runtime~=1.50.0 (from azureml-dataset-runtime[fuse]~=1.50.0->azureml-sdk)\n",
      "  Downloading azureml_dataset_runtime-1.50.0-py3-none-any.whl.metadata (1.2 kB)\n",
      "Collecting azureml-train-core~=1.50.0 (from azureml-sdk)\n",
      "  Downloading azureml_train_core-1.50.0-py3-none-any.whl.metadata (1.7 kB)\n",
      "INFO: pip is still looking at multiple versions of azureml-sdk to determine which version is compatible with other requirements. This could take a while.\n",
      "Collecting azureml-sdk\n",
      "  Downloading azureml_sdk-1.49.0-py3-none-any.whl.metadata (3.6 kB)\n",
      "Collecting azureml-core~=1.49.0 (from azureml-sdk)\n",
      "  Downloading azureml_core-1.49.0-py3-none-any.whl.metadata (3.2 kB)\n",
      "Collecting azureml-dataset-runtime~=1.49.0 (from azureml-dataset-runtime[fuse]~=1.49.0->azureml-sdk)\n",
      "  Downloading azureml_dataset_runtime-1.49.0-py3-none-any.whl.metadata (1.2 kB)\n",
      "Collecting azureml-train-core~=1.49.0 (from azureml-sdk)\n",
      "  Downloading azureml_train_core-1.49.0.post1-py3-none-any.whl.metadata (1.7 kB)\n",
      "Collecting azureml-sdk\n",
      "  Downloading azureml_sdk-1.25.0-py3-none-any.whl.metadata (3.7 kB)\n",
      "  Downloading azureml_sdk-1.24.0-py3-none-any.whl.metadata (3.7 kB)\n",
      "  Downloading azureml_sdk-1.23.0-py3-none-any.whl.metadata (3.7 kB)\n",
      "  Downloading azureml_sdk-1.22.0-py3-none-any.whl.metadata (3.7 kB)\n",
      "INFO: This is taking longer than usual. You might need to provide the dependency resolver with stricter constraints to reduce runtime. See https://pip.pypa.io/warnings/backtracking for guidance. If you want to abort this run, press Ctrl + C.\n",
      "  Downloading azureml_sdk-1.21.0-py3-none-any.whl.metadata (3.7 kB)\n",
      "  Downloading azureml_sdk-1.20.0-py3-none-any.whl.metadata (3.7 kB)\n",
      "  Downloading azureml_sdk-1.19.0-py3-none-any.whl.metadata (3.7 kB)\n",
      "  Downloading azureml_sdk-1.18.0-py3-none-any.whl.metadata (3.7 kB)\n",
      "  Downloading azureml_sdk-1.17.0-py3-none-any.whl.metadata (3.7 kB)\n",
      "  Downloading azureml_sdk-1.16.0-py3-none-any.whl.metadata (3.7 kB)\n",
      "  Downloading azureml_sdk-1.15.0-py3-none-any.whl.metadata (3.6 kB)\n",
      "  Downloading azureml_sdk-1.14.0-py3-none-any.whl.metadata (3.6 kB)\n",
      "  Downloading azureml_sdk-1.13.0-py3-none-any.whl.metadata (3.6 kB)\n",
      "  Downloading azureml_sdk-1.12.0-py3-none-any.whl.metadata (3.6 kB)\n",
      "  Downloading azureml_sdk-1.11.0-py3-none-any.whl.metadata (3.6 kB)\n",
      "  Downloading azureml_sdk-1.10.0-py3-none-any.whl.metadata (3.6 kB)\n",
      "  Downloading azureml_sdk-1.9.0-py3-none-any.whl.metadata (3.6 kB)\n",
      "  Downloading azureml_sdk-1.8.0-py3-none-any.whl.metadata (3.6 kB)\n",
      "  Downloading azureml_sdk-1.7.0.post1-py3-none-any.whl.metadata (3.6 kB)\n",
      "  Downloading azureml_sdk-1.7.0-py3-none-any.whl.metadata (4.2 kB)\n",
      "  Downloading azureml_sdk-1.6.0-py3-none-any.whl.metadata (4.2 kB)\n",
      "  Downloading azureml_sdk-1.5.0-py3-none-any.whl.metadata (4.2 kB)\n",
      "  Downloading azureml_sdk-1.4.0-py3-none-any.whl.metadata (4.2 kB)\n",
      "  Downloading azureml_sdk-1.3.0-py3-none-any.whl.metadata (4.2 kB)\n",
      "  Downloading azureml_sdk-1.2.0-py3-none-any.whl.metadata (4.2 kB)\n",
      "  Downloading azureml_sdk-1.1.5.1-py3-none-any.whl.metadata (4.2 kB)\n",
      "Collecting azureml-core==1.1.5.* (from azureml-sdk)\n",
      "  Downloading azureml_core-1.1.5.7-py2.py3-none-any.whl.metadata (2.0 kB)\n",
      "Collecting azureml-train==1.1.5.* (from azureml-sdk)\n",
      "  Downloading azureml_train-1.1.5-py3-none-any.whl.metadata (1.1 kB)\n",
      "Collecting azureml-train-automl-client==1.1.5.* (from azureml-sdk)\n",
      "  Downloading azureml_train_automl_client-1.1.5.2-py3-none-any.whl.metadata (1.2 kB)\n",
      "Collecting azureml-pipeline==1.1.5.* (from azureml-sdk)\n",
      "  Downloading azureml_pipeline-1.1.5-py3-none-any.whl.metadata (1.5 kB)\n",
      "Collecting azureml-dataprep<1.4.0a,>=1.3.5 (from azureml-dataprep[fuse]<1.4.0a,>=1.3.5->azureml-sdk)\n",
      "  Downloading azureml_dataprep-1.3.6-py3-none-any.whl.metadata (4.5 kB)\n",
      "Requirement already satisfied: pytz in /opt/anaconda3/lib/python3.12/site-packages (from azureml-core==1.1.5.*->azureml-sdk) (2024.1)\n",
      "Collecting backports.tempfile (from azureml-core==1.1.5.*->azureml-sdk)\n",
      "  Downloading backports.tempfile-1.0-py2.py3-none-any.whl.metadata (2.3 kB)\n",
      "Requirement already satisfied: pathspec in /opt/anaconda3/lib/python3.12/site-packages (from azureml-core==1.1.5.*->azureml-sdk) (0.10.3)\n",
      "Requirement already satisfied: requests>=2.19.1 in /opt/anaconda3/lib/python3.12/site-packages (from azureml-core==1.1.5.*->azureml-sdk) (2.32.2)\n",
      "Collecting azure-mgmt-resource<9.0.0,>=1.2.1 (from azureml-core==1.1.5.*->azureml-sdk)\n",
      "  Downloading azure_mgmt_resource-8.0.1-py2.py3-none-any.whl.metadata (17 kB)\n",
      "Collecting azure-mgmt-containerregistry>=2.0.0 (from azureml-core==1.1.5.*->azureml-sdk)\n",
      "  Downloading azure_mgmt_containerregistry-10.3.0-py3-none-any.whl.metadata (23 kB)\n",
      "Collecting azure-mgmt-storage>=1.5.0 (from azureml-core==1.1.5.*->azureml-sdk)\n",
      "  Downloading azure_mgmt_storage-21.2.1-py3-none-any.whl.metadata (31 kB)\n",
      "Collecting azure-mgmt-keyvault>=0.40.0 (from azureml-core==1.1.5.*->azureml-sdk)\n",
      "  Downloading azure_mgmt_keyvault-10.3.1-py3-none-any.whl.metadata (15 kB)\n",
      "Collecting azure-mgmt-authorization>=0.40.0 (from azureml-core==1.1.5.*->azureml-sdk)\n",
      "  Downloading azure_mgmt_authorization-4.0.0-py3-none-any.whl.metadata (18 kB)\n",
      "Collecting azure-graphrbac>=0.40.0 (from azureml-core==1.1.5.*->azureml-sdk)\n",
      "  Downloading azure_graphrbac-0.61.1-py2.py3-none-any.whl.metadata (10 kB)\n",
      "Collecting azure-common>=1.1.12 (from azureml-core==1.1.5.*->azureml-sdk)\n",
      "  Downloading azure_common-1.1.28-py2.py3-none-any.whl.metadata (5.0 kB)\n",
      "Collecting msrest>=0.5.1 (from azureml-core==1.1.5.*->azureml-sdk)\n",
      "  Downloading msrest-0.7.1-py3-none-any.whl.metadata (21 kB)\n",
      "Collecting msrestazure>=0.4.33 (from azureml-core==1.1.5.*->azureml-sdk)\n",
      "  Downloading msrestazure-0.6.4.post1-py2.py3-none-any.whl.metadata (15 kB)\n",
      "Requirement already satisfied: urllib3>=1.23 in /opt/anaconda3/lib/python3.12/site-packages (from azureml-core==1.1.5.*->azureml-sdk) (2.2.2)\n",
      "Requirement already satisfied: six>=1.11.0 in /opt/anaconda3/lib/python3.12/site-packages (from azureml-core==1.1.5.*->azureml-sdk) (1.16.0)\n",
      "Requirement already satisfied: cryptography!=1.9,!=2.0.*,!=2.1.*,!=2.2.* in /opt/anaconda3/lib/python3.12/site-packages (from azureml-core==1.1.5.*->azureml-sdk) (43.0.1)\n",
      "Requirement already satisfied: python-dateutil>=2.7.3 in /opt/anaconda3/lib/python3.12/site-packages (from azureml-core==1.1.5.*->azureml-sdk) (2.9.0.post0)\n",
      "Collecting ndg-httpsclient (from azureml-core==1.1.5.*->azureml-sdk)\n",
      "  Downloading ndg_httpsclient-0.5.1-py3-none-any.whl.metadata (6.2 kB)\n",
      "Collecting SecretStorage (from azureml-core==1.1.5.*->azureml-sdk)\n",
      "  Downloading SecretStorage-3.3.3-py3-none-any.whl.metadata (4.0 kB)\n",
      "Collecting ruamel.yaml<=0.15.89,>=0.15.35 (from azureml-core==1.1.5.*->azureml-sdk)\n",
      "  Downloading ruamel.yaml-0.15.89.tar.gz (306 kB)\n",
      "\u001b[2K     \u001b[90m━━━━━━━━━━━━━━━━━━━━━━━━━━━━━━━━━━━━━\u001b[0m \u001b[32m306.7/306.7 kB\u001b[0m \u001b[31m623.5 kB/s\u001b[0m eta \u001b[36m0:00:00\u001b[0ma \u001b[36m0:00:01\u001b[0m\n",
      "\u001b[?25h  Preparing metadata (setup.py) ... \u001b[?25ldone\n",
      "\u001b[?25hCollecting jsonpickle (from azureml-core==1.1.5.*->azureml-sdk)\n",
      "  Downloading jsonpickle-3.3.0-py3-none-any.whl.metadata (8.3 kB)\n",
      "Collecting contextlib2 (from azureml-core==1.1.5.*->azureml-sdk)\n",
      "  Downloading contextlib2-21.6.0-py2.py3-none-any.whl.metadata (4.1 kB)\n",
      "Collecting docker (from azureml-core==1.1.5.*->azureml-sdk)\n",
      "  Downloading docker-7.1.0-py3-none-any.whl.metadata (3.8 kB)\n",
      "Requirement already satisfied: PyJWT in /opt/anaconda3/lib/python3.12/site-packages (from azureml-core==1.1.5.*->azureml-sdk) (2.9.0)\n",
      "Collecting adal>=1.2.0 (from azureml-core==1.1.5.*->azureml-sdk)\n",
      "  Downloading adal-1.2.7-py2.py3-none-any.whl.metadata (6.9 kB)\n",
      "Requirement already satisfied: pyopenssl in /opt/anaconda3/lib/python3.12/site-packages (from azureml-core==1.1.5.*->azureml-sdk) (22.0.0)\n",
      "Requirement already satisfied: jmespath in /opt/anaconda3/lib/python3.12/site-packages (from azureml-core==1.1.5.*->azureml-sdk) (1.0.1)\n",
      "Collecting azureml-pipeline-core==1.1.5.* (from azureml-pipeline==1.1.5.*->azureml-sdk)\n",
      "  Downloading azureml_pipeline_core-1.1.5-py2.py3-none-any.whl.metadata (928 bytes)\n",
      "Collecting azureml-pipeline-steps==1.1.5.* (from azureml-pipeline==1.1.5.*->azureml-sdk)\n",
      "  Downloading azureml_pipeline_steps-1.1.5-py3-none-any.whl.metadata (558 bytes)\n",
      "Collecting azureml-train-core==1.1.5.* (from azureml-train==1.1.5.*->azureml-sdk)\n",
      "  Downloading azureml_train_core-1.1.5-py3-none-any.whl.metadata (999 bytes)\n",
      "Collecting azureml-automl-core==1.1.5.* (from azureml-train-automl-client==1.1.5.*->azureml-sdk)\n",
      "  Downloading azureml_automl_core-1.1.5.1-py3-none-any.whl.metadata (1.2 kB)\n",
      "Collecting azureml-telemetry==1.1.5.* (from azureml-train-automl-client==1.1.5.*->azureml-sdk)\n",
      "  Downloading azureml_telemetry-1.1.5.3-py3-none-any.whl.metadata (613 bytes)\n",
      "Collecting applicationinsights (from azureml-telemetry==1.1.5.*->azureml-train-automl-client==1.1.5.*->azureml-sdk)\n",
      "  Downloading applicationinsights-0.11.10-py2.py3-none-any.whl.metadata (982 bytes)\n",
      "Collecting azureml-train-restclients-hyperdrive==1.1.5.* (from azureml-train-core==1.1.5.*->azureml-train==1.1.5.*->azureml-sdk)\n",
      "  Downloading azureml_train_restclients_hyperdrive-1.1.5-py3-none-any.whl.metadata (531 bytes)\n",
      "Collecting flake8<=3.7.9,>=3.1.0 (from azureml-train-core==1.1.5.*->azureml-train==1.1.5.*->azureml-sdk)\n",
      "  Downloading flake8-3.7.9-py2.py3-none-any.whl.metadata (3.6 kB)\n",
      "INFO: pip is looking at multiple versions of azureml-dataprep to determine which version is compatible with other requirements. This could take a while.\n",
      "Collecting azureml-dataprep<1.4.0a,>=1.3.5 (from azureml-dataprep[fuse]<1.4.0a,>=1.3.5->azureml-sdk)\n",
      "  Downloading azureml_dataprep-1.3.5-py3-none-any.whl.metadata (4.5 kB)\n",
      "Collecting azureml-automl-core==1.1.5.* (from azureml-train-automl-client==1.1.5.*->azureml-sdk)\n",
      "  Downloading azureml_automl_core-1.1.5-py3-none-any.whl.metadata (1.1 kB)\n",
      "INFO: pip is looking at multiple versions of azureml-automl-core to determine which version is compatible with other requirements. This could take a while.\n",
      "Collecting azureml-train-automl-client==1.1.5.* (from azureml-sdk)\n",
      "  Downloading azureml_train_automl_client-1.1.5.1-py3-none-any.whl.metadata (1.2 kB)\n",
      "  Downloading azureml_train_automl_client-1.1.5-py3-none-any.whl.metadata (1.2 kB)\n",
      "INFO: pip is looking at multiple versions of azureml-train-automl-client to determine which version is compatible with other requirements. This could take a while.\n",
      "Collecting azureml-sdk\n",
      "  Downloading azureml_sdk-1.1.5-py3-none-any.whl.metadata (4.2 kB)\n",
      "Collecting azureml-dataprep==1.3.2 (from azureml-dataprep[fuse]==1.3.2->azureml-sdk)\n",
      "  Downloading azureml_dataprep-1.3.2-py3-none-any.whl.metadata (4.5 kB)\n",
      "Collecting azureml-sdk\n",
      "  Downloading azureml_sdk-1.0.85-py3-none-any.whl.metadata (4.4 kB)\n",
      "Collecting azureml-core==1.0.85.* (from azureml-sdk)\n",
      "  Downloading azureml_core-1.0.85.6-py2.py3-none-any.whl.metadata (2.0 kB)\n",
      "Collecting azureml-train==1.0.85.* (from azureml-sdk)\n",
      "  Downloading azureml_train-1.0.85-py3-none-any.whl.metadata (1.1 kB)\n",
      "Collecting azureml-train-automl-client==1.0.85.* (from azureml-sdk)\n",
      "  Downloading azureml_train_automl_client-1.0.85.4-py3-none-any.whl.metadata (1.2 kB)\n",
      "Collecting azureml-pipeline==1.0.85.* (from azureml-sdk)\n",
      "  Downloading azureml_pipeline-1.0.85-py3-none-any.whl.metadata (1.5 kB)\n",
      "Collecting azureml-dataprep<1.2.0a,>=1.1.37a (from azureml-dataprep[fuse]<1.2.0a,>=1.1.37a->azureml-sdk)\n",
      "  Downloading azureml_dataprep-1.1.38-py3-none-any.whl.metadata (4.8 kB)\n",
      "Collecting azureml-pipeline-core==1.0.85.* (from azureml-pipeline==1.0.85.*->azureml-sdk)\n",
      "  Downloading azureml_pipeline_core-1.0.85.1-py2.py3-none-any.whl.metadata (932 bytes)\n",
      "Collecting azureml-pipeline-steps==1.0.85.* (from azureml-pipeline==1.0.85.*->azureml-sdk)\n",
      "  Downloading azureml_pipeline_steps-1.0.85-py3-none-any.whl.metadata (506 bytes)\n",
      "Collecting azureml-train-core==1.0.85.* (from azureml-train==1.0.85.*->azureml-sdk)\n",
      "  Downloading azureml_train_core-1.0.85-py3-none-any.whl.metadata (1.0 kB)\n",
      "Collecting azureml-automl-core==1.0.85.* (from azureml-train-automl-client==1.0.85.*->azureml-sdk)\n",
      "  Downloading azureml_automl_core-1.0.85.5-py3-none-any.whl.metadata (1.2 kB)\n",
      "Collecting azureml-telemetry==1.0.85.* (from azureml-train-automl-client==1.0.85.*->azureml-sdk)\n",
      "  Downloading azureml_telemetry-1.0.85.2-py3-none-any.whl.metadata (637 bytes)\n",
      "Collecting azureml-train-restclients-hyperdrive==1.0.85.* (from azureml-train-core==1.0.85.*->azureml-train==1.0.85.*->azureml-sdk)\n",
      "  Downloading azureml_train_restclients_hyperdrive-1.0.85-py3-none-any.whl.metadata (532 bytes)\n",
      "Collecting azureml-dataprep<1.2.0a,>=1.1.37a (from azureml-dataprep[fuse]<1.2.0a,>=1.1.37a->azureml-sdk)\n",
      "  Downloading azureml_dataprep-1.1.37-py3-none-any.whl.metadata (4.8 kB)\n",
      "Collecting azureml-automl-core==1.0.85.* (from azureml-train-automl-client==1.0.85.*->azureml-sdk)\n",
      "  Downloading azureml_automl_core-1.0.85.4-py3-none-any.whl.metadata (1.2 kB)\n",
      "INFO: pip is still looking at multiple versions of azureml-dataprep to determine which version is compatible with other requirements. This could take a while.\n",
      "  Downloading azureml_automl_core-1.0.85.2-py3-none-any.whl.metadata (1.2 kB)\n",
      "  Downloading azureml_automl_core-1.0.85.1-py3-none-any.whl.metadata (1.2 kB)\n",
      "INFO: This is taking longer than usual. You might need to provide the dependency resolver with stricter constraints to reduce runtime. See https://pip.pypa.io/warnings/backtracking for guidance. If you want to abort this run, press Ctrl + C.\n",
      "  Downloading azureml_automl_core-1.0.85-py3-none-any.whl.metadata (1.2 kB)\n",
      "Collecting azureml-train-automl-client==1.0.85.* (from azureml-sdk)\n",
      "  Downloading azureml_train_automl_client-1.0.85.3-py3-none-any.whl.metadata (1.2 kB)\n",
      "  Downloading azureml_train_automl_client-1.0.85.2-py3-none-any.whl.metadata (1.2 kB)\n",
      "  Downloading azureml_train_automl_client-1.0.85.1-py3-none-any.whl.metadata (1.2 kB)\n",
      "  Downloading azureml_train_automl_client-1.0.85-py3-none-any.whl.metadata (1.2 kB)\n",
      "Collecting azureml-sdk\n",
      "  Downloading azureml_sdk-1.0.83-py3-none-any.whl.metadata (4.4 kB)\n",
      "Collecting azureml-core==1.0.83.* (from azureml-sdk)\n",
      "  Downloading azureml_core-1.0.83-py2.py3-none-any.whl.metadata (2.0 kB)\n",
      "Collecting azureml-train==1.0.83.* (from azureml-sdk)\n",
      "  Downloading azureml_train-1.0.83-py3-none-any.whl.metadata (1.1 kB)\n",
      "Collecting azureml-train-automl-client==1.0.83.* (from azureml-sdk)\n",
      "  Downloading azureml_train_automl_client-1.0.83-py3-none-any.whl.metadata (1.2 kB)\n",
      "Collecting azureml-pipeline==1.0.83.* (from azureml-sdk)\n",
      "  Downloading azureml_pipeline-1.0.83-py3-none-any.whl.metadata (1.5 kB)\n",
      "Collecting azure-mgmt-resource>=1.2.1 (from azureml-core==1.0.83.*->azureml-sdk)\n",
      "  Downloading azure_mgmt_resource-23.1.1-py3-none-any.whl.metadata (37 kB)\n",
      "Collecting azureml-pipeline-core==1.0.83.* (from azureml-pipeline==1.0.83.*->azureml-sdk)\n",
      "  Downloading azureml_pipeline_core-1.0.83-py2.py3-none-any.whl.metadata (930 bytes)\n",
      "Collecting azureml-pipeline-steps==1.0.83.* (from azureml-pipeline==1.0.83.*->azureml-sdk)\n",
      "  Downloading azureml_pipeline_steps-1.0.83-py3-none-any.whl.metadata (506 bytes)\n",
      "Collecting azureml-train-core==1.0.83.* (from azureml-train==1.0.83.*->azureml-sdk)\n",
      "  Downloading azureml_train_core-1.0.83-py3-none-any.whl.metadata (1.0 kB)\n",
      "Collecting azureml-automl-core==1.0.83.* (from azureml-train-automl-client==1.0.83.*->azureml-sdk)\n",
      "  Downloading azureml_automl_core-1.0.83.1-py3-none-any.whl.metadata (1.2 kB)\n",
      "Collecting azureml-telemetry==1.0.83.* (from azureml-train-automl-client==1.0.83.*->azureml-sdk)\n",
      "  Downloading azureml_telemetry-1.0.83-py3-none-any.whl.metadata (613 bytes)\n",
      "Collecting azureml-train-restclients-hyperdrive==1.0.83.* (from azureml-train-core==1.0.83.*->azureml-train==1.0.83.*->azureml-sdk)\n",
      "  Downloading azureml_train_restclients_hyperdrive-1.0.83-py3-none-any.whl.metadata (532 bytes)\n",
      "Collecting azureml-dataprep<1.2.0a,>=1.1.35a (from azureml-dataprep[fuse]<1.2.0a,>=1.1.35a->azureml-sdk)\n",
      "  Downloading azureml_dataprep-1.1.36-py3-none-any.whl.metadata (4.8 kB)\n",
      "  Downloading azureml_dataprep-1.1.35-py3-none-any.whl.metadata (4.8 kB)\n",
      "Collecting azureml-automl-core==1.0.83.* (from azureml-train-automl-client==1.0.83.*->azureml-sdk)\n",
      "  Downloading azureml_automl_core-1.0.83-py3-none-any.whl.metadata (1.2 kB)\n",
      "Collecting azureml-sdk\n",
      "  Downloading azureml_sdk-1.0.81-py3-none-any.whl.metadata (4.3 kB)\n",
      "Collecting azureml-core==1.0.81.* (from azureml-sdk)\n",
      "  Downloading azureml_core-1.0.81.1-py2.py3-none-any.whl.metadata (2.0 kB)\n",
      "Collecting azureml-train==1.0.81.* (from azureml-sdk)\n",
      "  Downloading azureml_train-1.0.81-py3-none-any.whl.metadata (1.1 kB)\n",
      "Collecting azureml-pipeline==1.0.81.* (from azureml-sdk)\n",
      "  Downloading azureml_pipeline-1.0.81-py3-none-any.whl.metadata (1.5 kB)\n",
      "Collecting azureml-pipeline-core==1.0.81.* (from azureml-pipeline==1.0.81.*->azureml-sdk)\n",
      "  Downloading azureml_pipeline_core-1.0.81-py2.py3-none-any.whl.metadata (930 bytes)\n",
      "Collecting azureml-pipeline-steps==1.0.81.* (from azureml-pipeline==1.0.81.*->azureml-sdk)\n",
      "  Downloading azureml_pipeline_steps-1.0.81-py3-none-any.whl.metadata (506 bytes)\n",
      "Collecting azureml-train-core==1.0.81.* (from azureml-train==1.0.81.*->azureml-sdk)\n",
      "  Downloading azureml_train_core-1.0.81-py3-none-any.whl.metadata (1.0 kB)\n",
      "Collecting azureml-train-restclients-hyperdrive==1.0.81.* (from azureml-train-core==1.0.81.*->azureml-train==1.0.81.*->azureml-sdk)\n",
      "  Downloading azureml_train_restclients_hyperdrive-1.0.81-py3-none-any.whl.metadata (532 bytes)\n",
      "Collecting azureml-telemetry==1.0.81.* (from azureml-train-core==1.0.81.*->azureml-train==1.0.81.*->azureml-sdk)\n",
      "  Downloading azureml_telemetry-1.0.81.1-py3-none-any.whl.metadata (615 bytes)\n",
      "Collecting azureml-dataprep<1.2.0a,>=1.1.33a (from azureml-dataprep[fuse]<1.2.0a,>=1.1.33a->azureml-sdk)\n",
      "  Downloading azureml_dataprep-1.1.34-py3-none-any.whl.metadata (4.8 kB)\n",
      "  Downloading azureml_dataprep-1.1.33-py3-none-any.whl.metadata (4.8 kB)\n",
      "Collecting azureml-sdk\n",
      "  Downloading azureml_sdk-1.0.79-py3-none-any.whl.metadata (4.3 kB)\n",
      "Collecting azureml-core==1.0.79.* (from azureml-sdk)\n",
      "  Downloading azureml_core-1.0.79-py2.py3-none-any.whl.metadata (2.0 kB)\n",
      "Collecting azureml-train==1.0.79.* (from azureml-sdk)\n",
      "  Downloading azureml_train-1.0.79-py3-none-any.whl.metadata (1.1 kB)\n",
      "Collecting azureml-pipeline==1.0.79.* (from azureml-sdk)\n",
      "  Downloading azureml_pipeline-1.0.79-py3-none-any.whl.metadata (1.5 kB)\n",
      "Collecting azureml-pipeline-core==1.0.79.* (from azureml-pipeline==1.0.79.*->azureml-sdk)\n",
      "  Downloading azureml_pipeline_core-1.0.79-py2.py3-none-any.whl.metadata (930 bytes)\n",
      "Collecting azureml-pipeline-steps==1.0.79.* (from azureml-pipeline==1.0.79.*->azureml-sdk)\n",
      "  Downloading azureml_pipeline_steps-1.0.79-py3-none-any.whl.metadata (506 bytes)\n",
      "Collecting azureml-train-core==1.0.79.* (from azureml-train==1.0.79.*->azureml-sdk)\n",
      "  Downloading azureml_train_core-1.0.79-py3-none-any.whl.metadata (1.0 kB)\n",
      "Collecting azureml-train-restclients-hyperdrive==1.0.79.* (from azureml-train-core==1.0.79.*->azureml-train==1.0.79.*->azureml-sdk)\n",
      "  Downloading azureml_train_restclients_hyperdrive-1.0.79-py3-none-any.whl.metadata (532 bytes)\n",
      "Collecting azureml-telemetry==1.0.79.* (from azureml-train-core==1.0.79.*->azureml-train==1.0.79.*->azureml-sdk)\n",
      "  Downloading azureml_telemetry-1.0.79-py3-none-any.whl.metadata (613 bytes)\n",
      "Collecting azureml-dataprep<1.2.0a,>=1.1.29a (from azureml-dataprep[fuse]<1.2.0a,>=1.1.29a->azureml-sdk)\n",
      "  Downloading azureml_dataprep-1.1.32-py3-none-any.whl.metadata (4.8 kB)\n",
      "  Downloading azureml_dataprep-1.1.31-py3-none-any.whl.metadata (4.8 kB)\n",
      "  Downloading azureml_dataprep-1.1.30-py3-none-any.whl.metadata (4.8 kB)\n",
      "  Downloading azureml_dataprep-1.1.29-py3-none-any.whl.metadata (4.8 kB)\n",
      "Collecting azureml-sdk\n",
      "  Downloading azureml_sdk-1.0.76-py3-none-any.whl.metadata (4.3 kB)\n",
      "Collecting azureml-core==1.0.76.* (from azureml-sdk)\n",
      "  Downloading azureml_core-1.0.76.1-py2.py3-none-any.whl.metadata (2.0 kB)\n",
      "Collecting azureml-train==1.0.76.* (from azureml-sdk)\n",
      "  Downloading azureml_train-1.0.76-py3-none-any.whl.metadata (1.1 kB)\n",
      "Collecting azureml-pipeline==1.0.76.* (from azureml-sdk)\n",
      "  Downloading azureml_pipeline-1.0.76-py3-none-any.whl.metadata (1.5 kB)\n",
      "Collecting azureml-pipeline-core==1.0.76.* (from azureml-pipeline==1.0.76.*->azureml-sdk)\n",
      "  Downloading azureml_pipeline_core-1.0.76-py2.py3-none-any.whl.metadata (930 bytes)\n",
      "Collecting azureml-pipeline-steps==1.0.76.* (from azureml-pipeline==1.0.76.*->azureml-sdk)\n",
      "  Downloading azureml_pipeline_steps-1.0.76-py3-none-any.whl.metadata (506 bytes)\n",
      "Collecting azureml-train-core==1.0.76.* (from azureml-train==1.0.76.*->azureml-sdk)\n",
      "  Downloading azureml_train_core-1.0.76-py3-none-any.whl.metadata (1.0 kB)\n",
      "Collecting azureml-train-restclients-hyperdrive==1.0.76.* (from azureml-train-core==1.0.76.*->azureml-train==1.0.76.*->azureml-sdk)\n",
      "  Downloading azureml_train_restclients_hyperdrive-1.0.76-py3-none-any.whl.metadata (532 bytes)\n",
      "Collecting azureml-telemetry==1.0.76.* (from azureml-train-core==1.0.76.*->azureml-train==1.0.76.*->azureml-sdk)\n",
      "  Downloading azureml_telemetry-1.0.76-py3-none-any.whl.metadata (572 bytes)\n",
      "Collecting azureml-sdk\n",
      "  Downloading azureml_sdk-1.0.74-py3-none-any.whl.metadata (4.2 kB)\n",
      "Collecting azureml-core==1.0.74.* (from azureml-sdk)\n",
      "  Downloading azureml_core-1.0.74-py2.py3-none-any.whl.metadata (2.0 kB)\n",
      "Collecting azureml-train==1.0.74.* (from azureml-sdk)\n",
      "  Downloading azureml_train-1.0.74-py3-none-any.whl.metadata (1.1 kB)\n",
      "Collecting azureml-pipeline==1.0.74.* (from azureml-sdk)\n",
      "  Downloading azureml_pipeline-1.0.74-py3-none-any.whl.metadata (1.5 kB)\n",
      "Collecting azureml-pipeline-core==1.0.74.* (from azureml-pipeline==1.0.74.*->azureml-sdk)\n",
      "  Downloading azureml_pipeline_core-1.0.74-py2.py3-none-any.whl.metadata (930 bytes)\n",
      "Collecting azureml-pipeline-steps==1.0.74.* (from azureml-pipeline==1.0.74.*->azureml-sdk)\n",
      "  Downloading azureml_pipeline_steps-1.0.74-py3-none-any.whl.metadata (506 bytes)\n",
      "Collecting azureml-train-core==1.0.74.* (from azureml-train==1.0.74.*->azureml-sdk)\n",
      "  Downloading azureml_train_core-1.0.74-py3-none-any.whl.metadata (938 bytes)\n",
      "Collecting azureml-train-restclients-hyperdrive==1.0.74.* (from azureml-train-core==1.0.74.*->azureml-train==1.0.74.*->azureml-sdk)\n",
      "  Downloading azureml_train_restclients_hyperdrive-1.0.74-py3-none-any.whl.metadata (532 bytes)\n",
      "Collecting azureml-telemetry==1.0.74.* (from azureml-train-core==1.0.74.*->azureml-train==1.0.74.*->azureml-sdk)\n",
      "  Downloading azureml_telemetry-1.0.74-py3-none-any.whl.metadata (572 bytes)\n",
      "Collecting azureml-sdk\n",
      "  Downloading azureml_sdk-1.0.72-py3-none-any.whl.metadata (4.2 kB)\n",
      "Collecting azureml-core==1.0.72.* (from azureml-sdk)\n",
      "  Downloading azureml_core-1.0.72-py2.py3-none-any.whl.metadata (2.0 kB)\n",
      "Collecting azureml-train==1.0.72.* (from azureml-sdk)\n",
      "  Downloading azureml_train-1.0.72-py3-none-any.whl.metadata (1.1 kB)\n",
      "Collecting azureml-pipeline==1.0.72.* (from azureml-sdk)\n",
      "  Downloading azureml_pipeline-1.0.72-py3-none-any.whl.metadata (1.5 kB)\n",
      "Collecting azureml-pipeline-core==1.0.72.* (from azureml-pipeline==1.0.72.*->azureml-sdk)\n",
      "  Downloading azureml_pipeline_core-1.0.72-py2.py3-none-any.whl.metadata (930 bytes)\n",
      "Collecting azureml-pipeline-steps==1.0.72.* (from azureml-pipeline==1.0.72.*->azureml-sdk)\n",
      "  Downloading azureml_pipeline_steps-1.0.72-py3-none-any.whl.metadata (506 bytes)\n",
      "Collecting azureml-train-core==1.0.72.* (from azureml-train==1.0.72.*->azureml-sdk)\n",
      "  Downloading azureml_train_core-1.0.72-py3-none-any.whl.metadata (938 bytes)\n",
      "Collecting azureml-train-restclients-hyperdrive==1.0.72.* (from azureml-train-core==1.0.72.*->azureml-train==1.0.72.*->azureml-sdk)\n",
      "  Downloading azureml_train_restclients_hyperdrive-1.0.72-py3-none-any.whl.metadata (532 bytes)\n",
      "Collecting azureml-telemetry==1.0.72.* (from azureml-train-core==1.0.72.*->azureml-train==1.0.72.*->azureml-sdk)\n",
      "  Downloading azureml_telemetry-1.0.72-py3-none-any.whl.metadata (572 bytes)\n",
      "Collecting azureml-dataprep<1.2.0a,>=1.1.24a (from azureml-dataprep[fuse]<1.2.0a,>=1.1.24a->azureml-sdk)\n",
      "  Downloading azureml_dataprep-1.1.28-py3-none-any.whl.metadata (4.8 kB)\n",
      "  Downloading azureml_dataprep-1.1.26-py3-none-any.whl.metadata (4.8 kB)\n",
      "  Downloading azureml_dataprep-1.1.25-py3-none-any.whl.metadata (4.8 kB)\n",
      "  Downloading azureml_dataprep-1.1.24-py3-none-any.whl.metadata (4.8 kB)\n",
      "Collecting azureml-sdk\n",
      "  Downloading azureml_sdk-1.0.69-py3-none-any.whl.metadata (4.2 kB)\n",
      "Collecting azureml-core==1.0.69.* (from azureml-sdk)\n",
      "  Downloading azureml_core-1.0.69-py2.py3-none-any.whl.metadata (2.0 kB)\n",
      "Collecting azureml-train==1.0.69.* (from azureml-sdk)\n",
      "  Downloading azureml_train-1.0.69-py3-none-any.whl.metadata (1.1 kB)\n",
      "Collecting azureml-pipeline==1.0.69.* (from azureml-sdk)\n",
      "  Downloading azureml_pipeline-1.0.69-py3-none-any.whl.metadata (1.5 kB)\n",
      "Collecting azureml-pipeline-core==1.0.69.* (from azureml-pipeline==1.0.69.*->azureml-sdk)\n",
      "  Downloading azureml_pipeline_core-1.0.69-py2.py3-none-any.whl.metadata (930 bytes)\n",
      "Collecting azureml-pipeline-steps==1.0.69.* (from azureml-pipeline==1.0.69.*->azureml-sdk)\n",
      "  Downloading azureml_pipeline_steps-1.0.69-py3-none-any.whl.metadata (506 bytes)\n",
      "Collecting azureml-train-core==1.0.69.* (from azureml-train==1.0.69.*->azureml-sdk)\n",
      "  Downloading azureml_train_core-1.0.69-py3-none-any.whl.metadata (938 bytes)\n",
      "Collecting azureml-train-restclients-hyperdrive==1.0.69.* (from azureml-train-core==1.0.69.*->azureml-train==1.0.69.*->azureml-sdk)\n",
      "  Downloading azureml_train_restclients_hyperdrive-1.0.69-py3-none-any.whl.metadata (532 bytes)\n",
      "Collecting azureml-telemetry==1.0.69.* (from azureml-train-core==1.0.69.*->azureml-train==1.0.69.*->azureml-sdk)\n",
      "  Downloading azureml_telemetry-1.0.69-py3-none-any.whl.metadata (572 bytes)\n",
      "Collecting azureml-dataprep<1.2.0a,>=1.1.20a (from azureml-dataprep[fuse]<1.2.0a,>=1.1.20a->azureml-sdk)\n",
      "  Downloading azureml_dataprep-1.1.23-py3-none-any.whl.metadata (4.8 kB)\n",
      "  Downloading azureml_dataprep-1.1.22-py3-none-any.whl.metadata (4.8 kB)\n",
      "  Downloading azureml_dataprep-1.1.21-py3-none-any.whl.metadata (4.8 kB)\n",
      "  Downloading azureml_dataprep-1.1.20-py3-none-any.whl.metadata (4.8 kB)\n",
      "Collecting azureml-sdk\n",
      "  Downloading azureml_sdk-1.0.65-py3-none-any.whl.metadata (4.2 kB)\n",
      "Collecting azureml-core==1.0.65.* (from azureml-sdk)\n",
      "  Downloading azureml_core-1.0.65.1-py2.py3-none-any.whl.metadata (2.0 kB)\n",
      "Collecting azureml-train==1.0.65.* (from azureml-sdk)\n",
      "  Downloading azureml_train-1.0.65-py3-none-any.whl.metadata (1.1 kB)\n",
      "Collecting azureml-pipeline==1.0.65.* (from azureml-sdk)\n",
      "  Downloading azureml_pipeline-1.0.65-py3-none-any.whl.metadata (1.5 kB)\n",
      "Collecting azureml-pipeline-core==1.0.65.* (from azureml-pipeline==1.0.65.*->azureml-sdk)\n",
      "  Downloading azureml_pipeline_core-1.0.65-py2.py3-none-any.whl.metadata (930 bytes)\n",
      "Collecting azureml-pipeline-steps==1.0.65.* (from azureml-pipeline==1.0.65.*->azureml-sdk)\n",
      "  Downloading azureml_pipeline_steps-1.0.65-py3-none-any.whl.metadata (506 bytes)\n",
      "Collecting azureml-train-core==1.0.65.* (from azureml-train==1.0.65.*->azureml-sdk)\n",
      "  Downloading azureml_train_core-1.0.65-py3-none-any.whl.metadata (938 bytes)\n",
      "Collecting azureml-train-restclients-hyperdrive==1.0.65.* (from azureml-train-core==1.0.65.*->azureml-train==1.0.65.*->azureml-sdk)\n",
      "  Downloading azureml_train_restclients_hyperdrive-1.0.65-py3-none-any.whl.metadata (532 bytes)\n",
      "Collecting azureml-telemetry==1.0.65.* (from azureml-train-core==1.0.65.*->azureml-train==1.0.65.*->azureml-sdk)\n",
      "  Downloading azureml_telemetry-1.0.65-py3-none-any.whl.metadata (572 bytes)\n",
      "Collecting azureml-dataprep<1.2.0a,>=1.1.19a (from azureml-dataprep[fuse]<1.2.0a,>=1.1.19a->azureml-sdk)\n",
      "  Downloading azureml_dataprep-1.1.19-py3-none-any.whl.metadata (4.8 kB)\n",
      "Collecting azureml-sdk\n",
      "  Downloading azureml_sdk-1.0.62-py3-none-any.whl.metadata (4.2 kB)\n",
      "Collecting azureml-core==1.0.62.* (from azureml-sdk)\n",
      "  Downloading azureml_core-1.0.62.1-py2.py3-none-any.whl.metadata (2.0 kB)\n",
      "Collecting azureml-train==1.0.62.* (from azureml-sdk)\n",
      "  Downloading azureml_train-1.0.62-py3-none-any.whl.metadata (1.1 kB)\n",
      "Collecting azureml-pipeline==1.0.62.* (from azureml-sdk)\n",
      "  Downloading azureml_pipeline-1.0.62-py3-none-any.whl.metadata (1.5 kB)\n",
      "Collecting azureml-pipeline-core==1.0.62.* (from azureml-pipeline==1.0.62.*->azureml-sdk)\n",
      "  Downloading azureml_pipeline_core-1.0.62-py2.py3-none-any.whl.metadata (930 bytes)\n",
      "Collecting azureml-pipeline-steps==1.0.62.* (from azureml-pipeline==1.0.62.*->azureml-sdk)\n",
      "  Downloading azureml_pipeline_steps-1.0.62-py3-none-any.whl.metadata (506 bytes)\n",
      "Collecting azureml-train-core==1.0.62.* (from azureml-train==1.0.62.*->azureml-sdk)\n",
      "  Downloading azureml_train_core-1.0.62-py3-none-any.whl.metadata (938 bytes)\n",
      "Collecting azureml-train-restclients-hyperdrive==1.0.62.* (from azureml-train-core==1.0.62.*->azureml-train==1.0.62.*->azureml-sdk)\n",
      "  Downloading azureml_train_restclients_hyperdrive-1.0.62-py3-none-any.whl.metadata (532 bytes)\n",
      "Collecting azureml-telemetry==1.0.62.* (from azureml-train-core==1.0.62.*->azureml-train==1.0.62.*->azureml-sdk)\n",
      "  Downloading azureml_telemetry-1.0.62-py3-none-any.whl.metadata (572 bytes)\n",
      "Collecting azureml-dataprep<1.2.0a,>=1.1.15a (from azureml-dataprep[fuse]<1.2.0a,>=1.1.15a->azureml-sdk)\n",
      "  Downloading azureml_dataprep-1.1.18-py3-none-any.whl.metadata (4.8 kB)\n",
      "  Downloading azureml_dataprep-1.1.17-py3-none-any.whl.metadata (4.8 kB)\n",
      "  Downloading azureml_dataprep-1.1.16-py3-none-any.whl.metadata (4.8 kB)\n",
      "  Downloading azureml_dataprep-1.1.15-py3-none-any.whl.metadata (4.8 kB)\n",
      "Collecting azureml-sdk\n",
      "  Downloading azureml_sdk-1.0.60-py3-none-any.whl.metadata (4.2 kB)\n",
      "Collecting azureml-core==1.0.60.* (from azureml-sdk)\n",
      "  Downloading azureml_core-1.0.60-py2.py3-none-any.whl.metadata (2.0 kB)\n",
      "Collecting azureml-train==1.0.60.* (from azureml-sdk)\n",
      "  Downloading azureml_train-1.0.60-py3-none-any.whl.metadata (1.1 kB)\n",
      "Collecting azureml-pipeline==1.0.60.* (from azureml-sdk)\n",
      "  Downloading azureml_pipeline-1.0.60-py3-none-any.whl.metadata (1.5 kB)\n",
      "Collecting azureml-pipeline-core==1.0.60.* (from azureml-pipeline==1.0.60.*->azureml-sdk)\n",
      "  Downloading azureml_pipeline_core-1.0.60-py2.py3-none-any.whl.metadata (930 bytes)\n",
      "Collecting azureml-pipeline-steps==1.0.60.* (from azureml-pipeline==1.0.60.*->azureml-sdk)\n",
      "  Downloading azureml_pipeline_steps-1.0.60-py3-none-any.whl.metadata (506 bytes)\n",
      "Collecting azureml-train-core==1.0.60.* (from azureml-train==1.0.60.*->azureml-sdk)\n",
      "  Downloading azureml_train_core-1.0.60-py3-none-any.whl.metadata (938 bytes)\n",
      "Collecting azureml-train-restclients-hyperdrive==1.0.60.* (from azureml-train-core==1.0.60.*->azureml-train==1.0.60.*->azureml-sdk)\n",
      "  Downloading azureml_train_restclients_hyperdrive-1.0.60-py3-none-any.whl.metadata (532 bytes)\n",
      "Collecting azureml-telemetry==1.0.60.* (from azureml-train-core==1.0.60.*->azureml-train==1.0.60.*->azureml-sdk)\n",
      "  Downloading azureml_telemetry-1.0.60-py3-none-any.whl.metadata (572 bytes)\n",
      "Collecting azureml-dataprep<1.2.0a,>=1.1.13a (from azureml-dataprep[fuse]<1.2.0a,>=1.1.13a->azureml-sdk)\n",
      "  Downloading azureml_dataprep-1.1.14-py3-none-any.whl.metadata (4.8 kB)\n",
      "  Downloading azureml_dataprep-1.1.13-py3-none-any.whl.metadata (4.8 kB)\n",
      "Collecting azureml-sdk\n",
      "  Downloading azureml_sdk-1.0.57-py3-none-any.whl.metadata (4.2 kB)\n",
      "Collecting azureml-core==1.0.57.* (from azureml-sdk)\n",
      "  Downloading azureml_core-1.0.57.1-py2.py3-none-any.whl.metadata (2.0 kB)\n",
      "Collecting azureml-train==1.0.57.* (from azureml-sdk)\n",
      "  Downloading azureml_train-1.0.57-py3-none-any.whl.metadata (1.1 kB)\n",
      "Collecting azureml-pipeline==1.0.57.* (from azureml-sdk)\n",
      "  Downloading azureml_pipeline-1.0.57-py3-none-any.whl.metadata (1.5 kB)\n",
      "Collecting azureml-pipeline-core==1.0.57.* (from azureml-pipeline==1.0.57.*->azureml-sdk)\n",
      "  Downloading azureml_pipeline_core-1.0.57-py2.py3-none-any.whl.metadata (930 bytes)\n",
      "Collecting azureml-pipeline-steps==1.0.57.* (from azureml-pipeline==1.0.57.*->azureml-sdk)\n",
      "  Downloading azureml_pipeline_steps-1.0.57-py3-none-any.whl.metadata (506 bytes)\n",
      "Collecting azureml-train-core==1.0.57.* (from azureml-train==1.0.57.*->azureml-sdk)\n",
      "  Downloading azureml_train_core-1.0.57-py3-none-any.whl.metadata (938 bytes)\n",
      "Collecting azureml-train-restclients-hyperdrive==1.0.57.* (from azureml-train-core==1.0.57.*->azureml-train==1.0.57.*->azureml-sdk)\n",
      "  Downloading azureml_train_restclients_hyperdrive-1.0.57-py3-none-any.whl.metadata (532 bytes)\n",
      "Collecting azureml-telemetry==1.0.57.* (from azureml-train-core==1.0.57.*->azureml-train==1.0.57.*->azureml-sdk)\n",
      "  Downloading azureml_telemetry-1.0.57-py3-none-any.whl.metadata (572 bytes)\n",
      "Collecting azureml-dataprep<1.2.0a,>=1.1.10a (from azureml-sdk)\n",
      "  Downloading azureml_dataprep-1.1.12-py3-none-any.whl.metadata (4.8 kB)\n",
      "  Downloading azureml_dataprep-1.1.11-py3-none-any.whl.metadata (4.8 kB)\n",
      "  Downloading azureml_dataprep-1.1.10-py3-none-any.whl.metadata (4.6 kB)\n",
      "Collecting azureml-sdk\n",
      "  Downloading azureml_sdk-1.0.55-py3-none-any.whl.metadata (4.2 kB)\n",
      "Collecting azureml-core==1.0.55.* (from azureml-sdk)\n",
      "  Downloading azureml_core-1.0.55-py2.py3-none-any.whl.metadata (2.0 kB)\n",
      "Collecting azureml-train==1.0.55.* (from azureml-sdk)\n",
      "  Downloading azureml_train-1.0.55-py3-none-any.whl.metadata (1.1 kB)\n",
      "Collecting azureml-pipeline==1.0.55.* (from azureml-sdk)\n",
      "  Downloading azureml_pipeline-1.0.55-py3-none-any.whl.metadata (1.5 kB)\n",
      "Collecting azureml-pipeline-core==1.0.55.* (from azureml-pipeline==1.0.55.*->azureml-sdk)\n",
      "  Downloading azureml_pipeline_core-1.0.55-py2.py3-none-any.whl.metadata (930 bytes)\n",
      "Collecting azureml-pipeline-steps==1.0.55.* (from azureml-pipeline==1.0.55.*->azureml-sdk)\n",
      "  Downloading azureml_pipeline_steps-1.0.55-py3-none-any.whl.metadata (506 bytes)\n",
      "Collecting azureml-train-core==1.0.55.* (from azureml-train==1.0.55.*->azureml-sdk)\n",
      "  Downloading azureml_train_core-1.0.55-py3-none-any.whl.metadata (938 bytes)\n",
      "Collecting azureml-train-restclients-hyperdrive==1.0.55.* (from azureml-train-core==1.0.55.*->azureml-train==1.0.55.*->azureml-sdk)\n",
      "  Downloading azureml_train_restclients_hyperdrive-1.0.55-py3-none-any.whl.metadata (532 bytes)\n",
      "Collecting azureml-telemetry==1.0.55.* (from azureml-train-core==1.0.55.*->azureml-train==1.0.55.*->azureml-sdk)\n",
      "  Downloading azureml_telemetry-1.0.55-py3-none-any.whl.metadata (572 bytes)\n",
      "Collecting azureml-dataprep<1.2.0a,>=1.1.9a (from azureml-sdk)\n",
      "  Downloading azureml_dataprep-1.1.9-py3-none-any.whl.metadata (4.6 kB)\n",
      "Collecting azureml-sdk\n",
      "  Downloading azureml_sdk-1.0.53-py3-none-any.whl.metadata (4.2 kB)\n",
      "Collecting azureml-core==1.0.53.* (from azureml-sdk)\n",
      "  Downloading azureml_core-1.0.53-py2.py3-none-any.whl.metadata (2.0 kB)\n",
      "Collecting azureml-train==1.0.53.* (from azureml-sdk)\n",
      "  Downloading azureml_train-1.0.53-py3-none-any.whl.metadata (1.1 kB)\n",
      "Collecting azureml-pipeline==1.0.53.* (from azureml-sdk)\n",
      "  Downloading azureml_pipeline-1.0.53-py3-none-any.whl.metadata (1.5 kB)\n",
      "Collecting azureml-pipeline-core==1.0.53.* (from azureml-pipeline==1.0.53.*->azureml-sdk)\n",
      "  Downloading azureml_pipeline_core-1.0.53-py2.py3-none-any.whl.metadata (930 bytes)\n",
      "Collecting azureml-pipeline-steps==1.0.53.* (from azureml-pipeline==1.0.53.*->azureml-sdk)\n",
      "  Downloading azureml_pipeline_steps-1.0.53-py3-none-any.whl.metadata (506 bytes)\n",
      "Collecting azureml-train-core==1.0.53.* (from azureml-train==1.0.53.*->azureml-sdk)\n",
      "  Downloading azureml_train_core-1.0.53-py3-none-any.whl.metadata (938 bytes)\n",
      "Collecting azureml-train-restclients-hyperdrive==1.0.53.* (from azureml-train-core==1.0.53.*->azureml-train==1.0.53.*->azureml-sdk)\n",
      "  Downloading azureml_train_restclients_hyperdrive-1.0.53-py3-none-any.whl.metadata (532 bytes)\n",
      "Collecting azureml-telemetry==1.0.53.* (from azureml-train-core==1.0.53.*->azureml-train==1.0.53.*->azureml-sdk)\n",
      "  Downloading azureml_telemetry-1.0.53.1-py3-none-any.whl.metadata (574 bytes)\n",
      "Collecting azureml-dataprep<1.2.0a,>=1.1.3a (from azureml-sdk)\n",
      "  Downloading azureml_dataprep-1.1.8-py3-none-any.whl.metadata (4.6 kB)\n",
      "  Downloading azureml_dataprep-1.1.7-py3-none-any.whl.metadata (4.6 kB)\n",
      "  Downloading azureml_dataprep-1.1.6-py3-none-any.whl.metadata (4.6 kB)\n",
      "  Downloading azureml_dataprep-1.1.5-py3-none-any.whl.metadata (4.6 kB)\n",
      "  Downloading azureml_dataprep-1.1.4-py3-none-any.whl.metadata (4.6 kB)\n",
      "  Downloading azureml_dataprep-1.1.3-py3-none-any.whl.metadata (4.6 kB)\n",
      "Collecting azureml-sdk\n",
      "  Downloading azureml_sdk-1.0.48-py3-none-any.whl.metadata (4.1 kB)\n",
      "Collecting azureml-core==1.0.48.* (from azureml-sdk)\n",
      "  Downloading azureml_core-1.0.48-py2.py3-none-any.whl.metadata (2.0 kB)\n",
      "Collecting azureml-train==1.0.48.* (from azureml-sdk)\n",
      "  Downloading azureml_train-1.0.48-py3-none-any.whl.metadata (1.1 kB)\n",
      "Collecting azureml-pipeline==1.0.48.* (from azureml-sdk)\n",
      "  Downloading azureml_pipeline-1.0.48-py3-none-any.whl.metadata (1.5 kB)\n",
      "Collecting azureml-pipeline-core==1.0.48.* (from azureml-pipeline==1.0.48.*->azureml-sdk)\n",
      "  Downloading azureml_pipeline_core-1.0.48-py2.py3-none-any.whl.metadata (930 bytes)\n",
      "Collecting azureml-pipeline-steps==1.0.48.* (from azureml-pipeline==1.0.48.*->azureml-sdk)\n",
      "  Downloading azureml_pipeline_steps-1.0.48-py3-none-any.whl.metadata (506 bytes)\n",
      "Collecting azureml-train-core==1.0.48.* (from azureml-train==1.0.48.*->azureml-sdk)\n",
      "  Downloading azureml_train_core-1.0.48-py3-none-any.whl.metadata (938 bytes)\n",
      "Collecting azureml-train-restclients-hyperdrive==1.0.48.* (from azureml-train-core==1.0.48.*->azureml-train==1.0.48.*->azureml-sdk)\n",
      "  Downloading azureml_train_restclients_hyperdrive-1.0.48-py3-none-any.whl.metadata (532 bytes)\n",
      "Collecting azureml-telemetry==1.0.48.* (from azureml-train-core==1.0.48.*->azureml-train==1.0.48.*->azureml-sdk)\n",
      "  Downloading azureml_telemetry-1.0.48-py3-none-any.whl.metadata (572 bytes)\n",
      "Collecting azureml-sdk\n",
      "  Downloading azureml_sdk-1.0.45-py3-none-any.whl.metadata (4.1 kB)\n",
      "Collecting azureml-core==1.0.45.* (from azureml-sdk)\n",
      "  Downloading azureml_core-1.0.45-py2.py3-none-any.whl.metadata (2.0 kB)\n",
      "Collecting azureml-train==1.0.45.* (from azureml-sdk)\n",
      "  Downloading azureml_train-1.0.45-py3-none-any.whl.metadata (1.1 kB)\n",
      "Collecting azureml-pipeline==1.0.45.* (from azureml-sdk)\n",
      "  Downloading azureml_pipeline-1.0.45-py3-none-any.whl.metadata (1.5 kB)\n",
      "Collecting azureml-pipeline-core==1.0.45.* (from azureml-pipeline==1.0.45.*->azureml-sdk)\n",
      "  Downloading azureml_pipeline_core-1.0.45-py2.py3-none-any.whl.metadata (930 bytes)\n",
      "Collecting azureml-pipeline-steps==1.0.45.* (from azureml-pipeline==1.0.45.*->azureml-sdk)\n",
      "  Downloading azureml_pipeline_steps-1.0.45-py3-none-any.whl.metadata (506 bytes)\n",
      "Collecting azureml-train-core==1.0.45.* (from azureml-train==1.0.45.*->azureml-sdk)\n",
      "  Downloading azureml_train_core-1.0.45-py3-none-any.whl.metadata (938 bytes)\n",
      "Collecting azureml-train-restclients-hyperdrive==1.0.45.* (from azureml-train-core==1.0.45.*->azureml-train==1.0.45.*->azureml-sdk)\n",
      "  Downloading azureml_train_restclients_hyperdrive-1.0.45-py3-none-any.whl.metadata (532 bytes)\n",
      "Collecting azureml-telemetry==1.0.45.* (from azureml-train-core==1.0.45.*->azureml-train==1.0.45.*->azureml-sdk)\n",
      "  Downloading azureml_telemetry-1.0.45-py3-none-any.whl.metadata (572 bytes)\n",
      "Collecting azureml-sdk\n",
      "  Downloading azureml_sdk-1.0.43-py3-none-any.whl.metadata (4.1 kB)\n",
      "Collecting azureml-core==1.0.43.* (from azureml-sdk)\n",
      "  Downloading azureml_core-1.0.43.1-py2.py3-none-any.whl.metadata (2.0 kB)\n",
      "Collecting azureml-train==1.0.43.* (from azureml-sdk)\n",
      "  Downloading azureml_train-1.0.43-py3-none-any.whl.metadata (1.1 kB)\n",
      "Collecting azureml-pipeline==1.0.43.* (from azureml-sdk)\n",
      "  Downloading azureml_pipeline-1.0.43-py3-none-any.whl.metadata (1.5 kB)\n",
      "Collecting azureml-pipeline-core==1.0.43.* (from azureml-pipeline==1.0.43.*->azureml-sdk)\n",
      "  Downloading azureml_pipeline_core-1.0.43-py2.py3-none-any.whl.metadata (930 bytes)\n",
      "Collecting azureml-pipeline-steps==1.0.43.* (from azureml-pipeline==1.0.43.*->azureml-sdk)\n",
      "  Downloading azureml_pipeline_steps-1.0.43-py3-none-any.whl.metadata (506 bytes)\n",
      "Collecting azureml-train-core==1.0.43.* (from azureml-train==1.0.43.*->azureml-sdk)\n",
      "  Downloading azureml_train_core-1.0.43-py3-none-any.whl.metadata (938 bytes)\n",
      "Collecting azureml-train-restclients-hyperdrive==1.0.43.* (from azureml-train-core==1.0.43.*->azureml-train==1.0.43.*->azureml-sdk)\n",
      "  Downloading azureml_train_restclients_hyperdrive-1.0.43-py3-none-any.whl.metadata (532 bytes)\n",
      "Collecting azureml-telemetry==1.0.43.* (from azureml-train-core==1.0.43.*->azureml-train==1.0.43.*->azureml-sdk)\n",
      "  Downloading azureml_telemetry-1.0.43.1-py3-none-any.whl.metadata (574 bytes)\n",
      "Collecting azureml-sdk\n",
      "  Downloading azureml_sdk-1.0.41-py3-none-any.whl.metadata (4.1 kB)\n",
      "Collecting azureml-core==1.0.41.* (from azureml-sdk)\n",
      "  Downloading azureml_core-1.0.41.1-py2.py3-none-any.whl.metadata (2.1 kB)\n",
      "Collecting azureml-train==1.0.41.* (from azureml-sdk)\n",
      "  Downloading azureml_train-1.0.41-py3-none-any.whl.metadata (1.1 kB)\n",
      "Collecting azureml-pipeline==1.0.41.* (from azureml-sdk)\n",
      "  Downloading azureml_pipeline-1.0.41-py3-none-any.whl.metadata (1.4 kB)\n",
      "Collecting paramiko>=2.0.8 (from azureml-core==1.0.41.*->azureml-sdk)\n",
      "  Downloading paramiko-3.5.0-py3-none-any.whl.metadata (4.4 kB)\n",
      "Collecting azureml-pipeline-core==1.0.41.* (from azureml-pipeline==1.0.41.*->azureml-sdk)\n",
      "  Downloading azureml_pipeline_core-1.0.41.1-py2.py3-none-any.whl.metadata (932 bytes)\n",
      "Collecting azureml-pipeline-steps==1.0.41.* (from azureml-pipeline==1.0.41.*->azureml-sdk)\n",
      "  Downloading azureml_pipeline_steps-1.0.41-py3-none-any.whl.metadata (506 bytes)\n",
      "Collecting azureml-train-core==1.0.41.* (from azureml-train==1.0.41.*->azureml-sdk)\n",
      "  Downloading azureml_train_core-1.0.41.1-py3-none-any.whl.metadata (940 bytes)\n",
      "Collecting azureml-train-restclients-hyperdrive==1.0.41.* (from azureml-train-core==1.0.41.*->azureml-train==1.0.41.*->azureml-sdk)\n",
      "  Downloading azureml_train_restclients_hyperdrive-1.0.41-py3-none-any.whl.metadata (532 bytes)\n",
      "Collecting azureml-telemetry==1.0.41.* (from azureml-train-core==1.0.41.*->azureml-train==1.0.41.*->azureml-sdk)\n",
      "  Downloading azureml_telemetry-1.0.41-py3-none-any.whl.metadata (572 bytes)\n",
      "Collecting azureml-sdk\n",
      "  Downloading azureml_sdk-1.0.39-py3-none-any.whl.metadata (4.1 kB)\n",
      "Collecting azureml-core==1.0.39.* (from azureml-sdk)\n",
      "  Downloading azureml_core-1.0.39-py2.py3-none-any.whl.metadata (2.0 kB)\n",
      "Collecting azureml-train==1.0.39.* (from azureml-sdk)\n",
      "  Downloading azureml_train-1.0.39-py3-none-any.whl.metadata (1.1 kB)\n",
      "Collecting azureml-pipeline==1.0.39.* (from azureml-sdk)\n",
      "  Downloading azureml_pipeline-1.0.39-py3-none-any.whl.metadata (1.4 kB)\n",
      "Collecting azureml-pipeline-core==1.0.39.* (from azureml-pipeline==1.0.39.*->azureml-sdk)\n",
      "  Downloading azureml_pipeline_core-1.0.39-py2.py3-none-any.whl.metadata (930 bytes)\n",
      "Collecting azureml-pipeline-steps==1.0.39.* (from azureml-pipeline==1.0.39.*->azureml-sdk)\n",
      "  Downloading azureml_pipeline_steps-1.0.39-py3-none-any.whl.metadata (506 bytes)\n",
      "Collecting azureml-train-core==1.0.39.* (from azureml-train==1.0.39.*->azureml-sdk)\n",
      "  Downloading azureml_train_core-1.0.39-py3-none-any.whl.metadata (938 bytes)\n",
      "Collecting azureml-train-restclients-hyperdrive==1.0.39.* (from azureml-train-core==1.0.39.*->azureml-train==1.0.39.*->azureml-sdk)\n",
      "  Downloading azureml_train_restclients_hyperdrive-1.0.39-py3-none-any.whl.metadata (532 bytes)\n",
      "Collecting azureml-telemetry==1.0.39.* (from azureml-train-core==1.0.39.*->azureml-train==1.0.39.*->azureml-sdk)\n",
      "  Downloading azureml_telemetry-1.0.39-py3-none-any.whl.metadata (572 bytes)\n",
      "Collecting azureml-sdk\n",
      "  Downloading azureml_sdk-1.0.33-py3-none-any.whl.metadata (4.3 kB)\n",
      "Collecting azureml-core==1.0.33.* (from azureml-sdk)\n",
      "  Downloading azureml_core-1.0.33.1-py2.py3-none-any.whl.metadata (2.1 kB)\n",
      "Collecting azureml-train==1.0.33.* (from azureml-sdk)\n",
      "  Downloading azureml_train-1.0.33-py3-none-any.whl.metadata (1.1 kB)\n",
      "Collecting azureml-pipeline==1.0.33.* (from azureml-sdk)\n",
      "  Downloading azureml_pipeline-1.0.33-py3-none-any.whl.metadata (1.4 kB)\n",
      "Collecting azureml-pipeline-core==1.0.33.* (from azureml-pipeline==1.0.33.*->azureml-sdk)\n",
      "  Downloading azureml_pipeline_core-1.0.33-py2.py3-none-any.whl.metadata (930 bytes)\n",
      "Collecting azureml-pipeline-steps==1.0.33.* (from azureml-pipeline==1.0.33.*->azureml-sdk)\n",
      "  Downloading azureml_pipeline_steps-1.0.33.1-py3-none-any.whl.metadata (622 bytes)\n",
      "Collecting azureml-train-core==1.0.33.* (from azureml-train==1.0.33.*->azureml-sdk)\n",
      "  Downloading azureml_train_core-1.0.33-py3-none-any.whl.metadata (938 bytes)\n",
      "Requirement already satisfied: certifi in /opt/anaconda3/lib/python3.12/site-packages (from azureml-pipeline-steps==1.0.33.*->azureml-pipeline==1.0.33.*->azureml-sdk) (2024.8.30)\n",
      "Collecting azureml-train-restclients-hyperdrive==1.0.33.* (from azureml-train-core==1.0.33.*->azureml-train==1.0.33.*->azureml-sdk)\n",
      "  Downloading azureml_train_restclients_hyperdrive-1.0.33-py3-none-any.whl.metadata (541 bytes)\n",
      "Collecting azureml-telemetry==1.0.33.* (from azureml-train-core==1.0.33.*->azureml-train==1.0.33.*->azureml-sdk)\n",
      "  Downloading azureml_telemetry-1.0.33-py3-none-any.whl.metadata (319 bytes)\n",
      "Collecting azureml-dataprep<1.2.0,>=1.1.2 (from azureml-sdk)\n",
      "  Downloading azureml_dataprep-1.1.2.4-py3-none-any.whl.metadata (4.6 kB)\n",
      "  Downloading azureml_dataprep-1.1.2-py3-none-any.whl.metadata (4.6 kB)\n",
      "Collecting azureml-sdk\n",
      "  Downloading azureml_sdk-1.0.30-py3-none-any.whl.metadata (4.1 kB)\n",
      "Collecting azureml-core==1.0.30.* (from azureml-sdk)\n",
      "  Downloading azureml_core-1.0.30-py2.py3-none-any.whl.metadata (2.0 kB)\n",
      "Collecting azureml-train==1.0.30.* (from azureml-sdk)\n",
      "  Downloading azureml_train-1.0.30-py3-none-any.whl.metadata (1.1 kB)\n",
      "Collecting azureml-pipeline==1.0.30.* (from azureml-sdk)\n",
      "  Downloading azureml_pipeline-1.0.30-py3-none-any.whl.metadata (1.4 kB)\n",
      "Collecting azureml-pipeline-core==1.0.30.* (from azureml-pipeline==1.0.30.*->azureml-sdk)\n",
      "  Downloading azureml_pipeline_core-1.0.30-py2.py3-none-any.whl.metadata (930 bytes)\n",
      "Collecting azureml-pipeline-steps==1.0.30.* (from azureml-pipeline==1.0.30.*->azureml-sdk)\n",
      "  Downloading azureml_pipeline_steps-1.0.30-py3-none-any.whl.metadata (620 bytes)\n",
      "Collecting azureml-train-core==1.0.30.* (from azureml-train==1.0.30.*->azureml-sdk)\n",
      "  Downloading azureml_train_core-1.0.30-py3-none-any.whl.metadata (938 bytes)\n",
      "Collecting azureml-train-restclients-hyperdrive==1.0.30.* (from azureml-train-core==1.0.30.*->azureml-train==1.0.30.*->azureml-sdk)\n",
      "  Downloading azureml_train_restclients_hyperdrive-1.0.30-py3-none-any.whl.metadata (541 bytes)\n",
      "Collecting azureml-telemetry==1.0.30.* (from azureml-train-core==1.0.30.*->azureml-train==1.0.30.*->azureml-sdk)\n",
      "  Downloading azureml_telemetry-1.0.30-py3-none-any.whl.metadata (319 bytes)\n",
      "Collecting azureml-dataprep<1.2.0,>=1.1.1 (from azureml-sdk)\n",
      "  Downloading azureml_dataprep-1.1.1-py3-none-any.whl.metadata (4.5 kB)\n",
      "Collecting azureml-sdk\n",
      "  Downloading azureml_sdk-1.0.23-py3-none-any.whl.metadata (4.0 kB)\n",
      "Collecting azureml-core==1.0.23.* (from azureml-sdk)\n",
      "  Downloading azureml_core-1.0.23-py2.py3-none-any.whl.metadata (2.0 kB)\n",
      "Collecting azureml-train==1.0.23.* (from azureml-sdk)\n",
      "  Downloading azureml_train-1.0.23-py3-none-any.whl.metadata (1.1 kB)\n",
      "Collecting azureml-pipeline==1.0.23.* (from azureml-sdk)\n",
      "  Downloading azureml_pipeline-1.0.23-py3-none-any.whl.metadata (1.4 kB)\n",
      "Collecting azureml-pipeline-core==1.0.23.* (from azureml-pipeline==1.0.23.*->azureml-sdk)\n",
      "  Downloading azureml_pipeline_core-1.0.23-py2.py3-none-any.whl.metadata (930 bytes)\n",
      "Collecting azureml-pipeline-steps==1.0.23.* (from azureml-pipeline==1.0.23.*->azureml-sdk)\n",
      "  Downloading azureml_pipeline_steps-1.0.23-py3-none-any.whl.metadata (620 bytes)\n",
      "Collecting azureml-train-core==1.0.23.* (from azureml-train==1.0.23.*->azureml-sdk)\n",
      "  Downloading azureml_train_core-1.0.23-py3-none-any.whl.metadata (938 bytes)\n",
      "Collecting azureml-train-restclients-hyperdrive==1.0.23.* (from azureml-train-core==1.0.23.*->azureml-train==1.0.23.*->azureml-sdk)\n",
      "  Downloading azureml_train_restclients_hyperdrive-1.0.23-py3-none-any.whl.metadata (541 bytes)\n",
      "Collecting azureml-telemetry==1.0.23.* (from azureml-train-core==1.0.23.*->azureml-train==1.0.23.*->azureml-sdk)\n",
      "  Downloading azureml_telemetry-1.0.23-py3-none-any.whl.metadata (319 bytes)\n",
      "Collecting isodate<1.0.0,>=0.6.1 (from azure-mgmt-authorization>=0.40.0->azureml-core==1.1.5.*->azureml-sdk)\n",
      "  Downloading isodate-0.6.1-py2.py3-none-any.whl.metadata (9.6 kB)\n",
      "Collecting azure-mgmt-core<2.0.0,>=1.3.2 (from azure-mgmt-authorization>=0.40.0->azureml-core==1.1.5.*->azureml-sdk)\n",
      "  Downloading azure_mgmt_core-1.4.0-py3-none-any.whl.metadata (4.1 kB)\n",
      "Requirement already satisfied: typing-extensions>=4.6.0 in /opt/anaconda3/lib/python3.12/site-packages (from azure-mgmt-keyvault>=0.40.0->azureml-core==1.1.5.*->azureml-sdk) (4.11.0)\n",
      "Requirement already satisfied: cffi>=1.12 in /opt/anaconda3/lib/python3.12/site-packages (from cryptography!=1.9,!=2.0.*,!=2.1.*,!=2.2.*->azureml-core==1.1.5.*->azureml-sdk) (1.16.0)\n",
      "Collecting azure-core>=1.24.0 (from msrest>=0.5.1->azureml-core==1.1.5.*->azureml-sdk)\n",
      "  Downloading azure_core-1.31.0-py3-none-any.whl.metadata (39 kB)\n",
      "Requirement already satisfied: requests-oauthlib>=0.5.0 in /opt/anaconda3/lib/python3.12/site-packages (from msrest>=0.5.1->azureml-core==1.1.5.*->azureml-sdk) (2.0.0)\n",
      "Collecting bcrypt>=3.2 (from paramiko>=2.0.8->azureml-core==1.0.41.*->azureml-sdk)\n",
      "  Using cached bcrypt-4.2.0-cp39-abi3-macosx_10_12_universal2.whl.metadata (9.6 kB)\n",
      "Collecting pynacl>=1.5 (from paramiko>=2.0.8->azureml-core==1.0.41.*->azureml-sdk)\n",
      "  Downloading PyNaCl-1.5.0-cp36-abi3-macosx_10_10_universal2.whl.metadata (8.7 kB)\n",
      "Requirement already satisfied: charset-normalizer<4,>=2 in /opt/anaconda3/lib/python3.12/site-packages (from requests>=2.19.1->azureml-core==1.1.5.*->azureml-sdk) (2.0.4)\n",
      "Requirement already satisfied: idna<4,>=2.5 in /opt/anaconda3/lib/python3.12/site-packages (from requests>=2.19.1->azureml-core==1.1.5.*->azureml-sdk) (3.7)\n",
      "Collecting backports.weakref (from backports.tempfile->azureml-core==1.1.5.*->azureml-sdk)\n",
      "  Downloading backports.weakref-1.0.post1-py2.py3-none-any.whl.metadata (2.3 kB)\n",
      "Requirement already satisfied: pyasn1>=0.1.1 in /opt/anaconda3/lib/python3.12/site-packages (from ndg-httpsclient->azureml-core==1.1.5.*->azureml-sdk) (0.4.8)\n",
      "Collecting jeepney>=0.6 (from SecretStorage->azureml-core==1.1.5.*->azureml-sdk)\n",
      "  Downloading jeepney-0.8.0-py3-none-any.whl.metadata (1.3 kB)\n",
      "Requirement already satisfied: pycparser in /opt/anaconda3/lib/python3.12/site-packages (from cffi>=1.12->cryptography!=1.9,!=2.0.*,!=2.1.*,!=2.2.*->azureml-core==1.1.5.*->azureml-sdk) (2.21)\n",
      "Requirement already satisfied: oauthlib>=3.0.0 in /opt/anaconda3/lib/python3.12/site-packages (from requests-oauthlib>=0.5.0->msrest>=0.5.1->azureml-core==1.1.5.*->azureml-sdk) (3.2.2)\n",
      "Downloading azureml_sdk-1.0.23-py3-none-any.whl (4.4 kB)\n",
      "Downloading azureml_core-1.0.23-py2.py3-none-any.whl (811 kB)\n",
      "\u001b[2K   \u001b[90m━━━━━━━━━━━━━━━━━━━━━━━━━━━━━━━━━━━━━━━\u001b[0m \u001b[32m811.0/811.0 kB\u001b[0m \u001b[31m861.9 kB/s\u001b[0m eta \u001b[36m0:00:00\u001b[0m00:01\u001b[0m00:01\u001b[0m\n",
      "\u001b[?25hDownloading azureml_pipeline-1.0.23-py3-none-any.whl (3.6 kB)\n",
      "Downloading azureml_train-1.0.23-py3-none-any.whl (3.2 kB)\n",
      "Downloading azureml_pipeline_core-1.0.23-py2.py3-none-any.whl (153 kB)\n",
      "\u001b[2K   \u001b[90m━━━━━━━━━━━━━━━━━━━━━━━━━━━━━━━━━━━━━━━\u001b[0m \u001b[32m153.4/153.4 kB\u001b[0m \u001b[31m908.7 kB/s\u001b[0m eta \u001b[36m0:00:00\u001b[0ma \u001b[36m0:00:01\u001b[0m\n",
      "\u001b[?25hDownloading azureml_pipeline_steps-1.0.23-py3-none-any.whl (28 kB)\n",
      "Downloading azureml_train_core-1.0.23-py3-none-any.whl (40 kB)\n",
      "\u001b[2K   \u001b[90m━━━━━━━━━━━━━━━━━━━━━━━━━━━━━━━━━━━━━━━━\u001b[0m \u001b[32m41.0/41.0 kB\u001b[0m \u001b[31m782.0 kB/s\u001b[0m eta \u001b[36m0:00:00\u001b[0m:01\u001b[0m\n",
      "\u001b[?25hDownloading azureml_telemetry-1.0.23-py3-none-any.whl (12 kB)\n",
      "Downloading azureml_train_restclients_hyperdrive-1.0.23-py3-none-any.whl (33 kB)\n",
      "Downloading adal-1.2.7-py2.py3-none-any.whl (55 kB)\n",
      "\u001b[2K   \u001b[90m━━━━━━━━━━━━━━━━━━━━━━━━━━━━━━━━━━━━━━━━\u001b[0m \u001b[32m55.5/55.5 kB\u001b[0m \u001b[31m1.4 MB/s\u001b[0m eta \u001b[36m0:00:00\u001b[0ma \u001b[36m0:00:01\u001b[0m\n",
      "\u001b[?25hDownloading azure_common-1.1.28-py2.py3-none-any.whl (14 kB)\n",
      "Downloading azure_graphrbac-0.61.1-py2.py3-none-any.whl (141 kB)\n",
      "\u001b[2K   \u001b[90m━━━━━━━━━━━━━━━━━━━━━━━━━━━━━━━━━━━━━━━━\u001b[0m \u001b[32m141.4/141.4 kB\u001b[0m \u001b[31m1.2 MB/s\u001b[0m eta \u001b[36m0:00:00\u001b[0ma \u001b[36m0:00:01\u001b[0m\n",
      "\u001b[?25hDownloading azure_mgmt_authorization-4.0.0-py3-none-any.whl (1.1 MB)\n",
      "\u001b[2K   \u001b[90m━━━━━━━━━━━━━━━━━━━━━━━━━━━━━━━━━━━━━━━━\u001b[0m \u001b[32m1.1/1.1 MB\u001b[0m \u001b[31m1.3 MB/s\u001b[0m eta \u001b[36m0:00:00\u001b[0ma \u001b[36m0:00:01\u001b[0m\n",
      "\u001b[?25hDownloading azure_mgmt_containerregistry-10.3.0-py3-none-any.whl (2.3 MB)\n",
      "\u001b[2K   \u001b[90m━━━━━━━━━━━━━━━━━━━━━━━━━━━━━━━━━━━━━━━━\u001b[0m \u001b[32m2.3/2.3 MB\u001b[0m \u001b[31m1.6 MB/s\u001b[0m eta \u001b[36m0:00:00\u001b[0m00:01\u001b[0m00:01\u001b[0m\n",
      "\u001b[?25hDownloading azure_mgmt_keyvault-10.3.1-py3-none-any.whl (901 kB)\n",
      "\u001b[2K   \u001b[90m━━━━━━━━━━━━━━━━━━━━━━━━━━━━━━━━━━━━━━━━\u001b[0m \u001b[32m901.4/901.4 kB\u001b[0m \u001b[31m1.7 MB/s\u001b[0m eta \u001b[36m0:00:00\u001b[0m00:01\u001b[0m00:01\u001b[0m\n",
      "\u001b[?25hDownloading azure_mgmt_resource-23.1.1-py3-none-any.whl (2.6 MB)\n",
      "\u001b[2K   \u001b[90m━━━━━━━━━━━━━━━━━━━━━━━━━━━━━━━━━━━━━━━━\u001b[0m \u001b[32m2.6/2.6 MB\u001b[0m \u001b[31m3.1 MB/s\u001b[0m eta \u001b[36m0:00:00\u001b[0m00:01\u001b[0m00:01\u001b[0m\n",
      "\u001b[?25hDownloading azure_mgmt_storage-21.2.1-py3-none-any.whl (3.2 MB)\n",
      "\u001b[2K   \u001b[90m━━━━━━━━━━━━━━━━━━━━━━━━━━━━━━━━━━━━━━━━\u001b[0m \u001b[32m3.2/3.2 MB\u001b[0m \u001b[31m1.9 MB/s\u001b[0m eta \u001b[36m0:00:00\u001b[0m00:01\u001b[0m00:01\u001b[0m\n",
      "\u001b[?25hDownloading msrest-0.7.1-py3-none-any.whl (85 kB)\n",
      "\u001b[2K   \u001b[90m━━━━━━━━━━━━━━━━━━━━━━━━━━━━━━━━━━━━━━━━\u001b[0m \u001b[32m85.4/85.4 kB\u001b[0m \u001b[31m2.3 MB/s\u001b[0m eta \u001b[36m0:00:00\u001b[0m\n",
      "\u001b[?25hDownloading msrestazure-0.6.4.post1-py2.py3-none-any.whl (40 kB)\n",
      "\u001b[2K   \u001b[90m━━━━━━━━━━━━━━━━━━━━━━━━━━━━━━━━━━━━━━━━\u001b[0m \u001b[32m40.8/40.8 kB\u001b[0m \u001b[31m2.0 MB/s\u001b[0m eta \u001b[36m0:00:00\u001b[0m\n",
      "\u001b[?25hDownloading paramiko-3.5.0-py3-none-any.whl (227 kB)\n",
      "\u001b[2K   \u001b[90m━━━━━━━━━━━━━━━━━━━━━━━━━━━━━━━━━━━━━━━━\u001b[0m \u001b[32m227.1/227.1 kB\u001b[0m \u001b[31m2.6 MB/s\u001b[0m eta \u001b[36m0:00:00\u001b[0ma \u001b[36m0:00:01\u001b[0m\n",
      "\u001b[?25hDownloading backports.tempfile-1.0-py2.py3-none-any.whl (4.4 kB)\n",
      "Downloading contextlib2-21.6.0-py2.py3-none-any.whl (13 kB)\n",
      "Downloading docker-7.1.0-py3-none-any.whl (147 kB)\n",
      "\u001b[2K   \u001b[90m━━━━━━━━━━━━━━━━━━━━━━━━━━━━━━━━━━━━━━━━\u001b[0m \u001b[32m147.8/147.8 kB\u001b[0m \u001b[31m2.5 MB/s\u001b[0m eta \u001b[36m0:00:00\u001b[0ma \u001b[36m0:00:01\u001b[0m\n",
      "\u001b[?25hDownloading jsonpickle-3.3.0-py3-none-any.whl (42 kB)\n",
      "\u001b[2K   \u001b[90m━━━━━━━━━━━━━━━━━━━━━━━━━━━━━━━━━━━━━━━━\u001b[0m \u001b[32m42.4/42.4 kB\u001b[0m \u001b[31m1.2 MB/s\u001b[0m eta \u001b[36m0:00:00\u001b[0m\n",
      "\u001b[?25hDownloading ndg_httpsclient-0.5.1-py3-none-any.whl (34 kB)\n",
      "Downloading SecretStorage-3.3.3-py3-none-any.whl (15 kB)\n",
      "Downloading azure_core-1.31.0-py3-none-any.whl (197 kB)\n",
      "\u001b[2K   \u001b[90m━━━━━━━━━━━━━━━━━━━━━━━━━━━━━━━━━━━━━━━━\u001b[0m \u001b[32m197.4/197.4 kB\u001b[0m \u001b[31m2.4 MB/s\u001b[0m eta \u001b[36m0:00:00\u001b[0ma \u001b[36m0:00:01\u001b[0m\n",
      "\u001b[?25hDownloading azure_mgmt_core-1.4.0-py3-none-any.whl (27 kB)\n",
      "Using cached bcrypt-4.2.0-cp39-abi3-macosx_10_12_universal2.whl (472 kB)\n",
      "Downloading isodate-0.6.1-py2.py3-none-any.whl (41 kB)\n",
      "\u001b[2K   \u001b[90m━━━━━━━━━━━━━━━━━━━━━━━━━━━━━━━━━━━━━━━━\u001b[0m \u001b[32m41.7/41.7 kB\u001b[0m \u001b[31m2.4 MB/s\u001b[0m eta \u001b[36m0:00:00\u001b[0m\n",
      "\u001b[?25hDownloading jeepney-0.8.0-py3-none-any.whl (48 kB)\n",
      "\u001b[2K   \u001b[90m━━━━━━━━━━━━━━━━━━━━━━━━━━━━━━━━━━━━━━━━\u001b[0m \u001b[32m48.4/48.4 kB\u001b[0m \u001b[31m4.4 MB/s\u001b[0m eta \u001b[36m0:00:00\u001b[0m\n",
      "\u001b[?25hDownloading PyNaCl-1.5.0-cp36-abi3-macosx_10_10_universal2.whl (349 kB)\n",
      "\u001b[2K   \u001b[90m━━━━━━━━━━━━━━━━━━━━━━━━━━━━━━━━━━━━━━━━\u001b[0m \u001b[32m349.9/349.9 kB\u001b[0m \u001b[31m1.4 MB/s\u001b[0m eta \u001b[36m0:00:00\u001b[0ma \u001b[36m0:00:01\u001b[0m\n",
      "\u001b[?25hDownloading backports.weakref-1.0.post1-py2.py3-none-any.whl (5.2 kB)\n",
      "Downloading applicationinsights-0.11.10-py2.py3-none-any.whl (55 kB)\n",
      "\u001b[2K   \u001b[90m━━━━━━━━━━━━━━━━━━━━━━━━━━━━━━━━━━━━━━━━\u001b[0m \u001b[32m55.1/55.1 kB\u001b[0m \u001b[31m1.2 MB/s\u001b[0m eta \u001b[36m0:00:00\u001b[0ma \u001b[36m0:00:01\u001b[0m\n",
      "\u001b[?25hBuilding wheels for collected packages: ruamel.yaml\n",
      "  Building wheel for ruamel.yaml (setup.py) ... \u001b[?25lerror\n",
      "  \u001b[1;31merror\u001b[0m: \u001b[1msubprocess-exited-with-error\u001b[0m\n",
      "  \n",
      "  \u001b[31m×\u001b[0m \u001b[32mpython setup.py bdist_wheel\u001b[0m did not run successfully.\n",
      "  \u001b[31m│\u001b[0m exit code: \u001b[1;36m1\u001b[0m\n",
      "  \u001b[31m╰─>\u001b[0m \u001b[31m[80 lines of output]\u001b[0m\n",
      "  \u001b[31m   \u001b[0m /private/var/folders/y6/0w1_g76n62s37y43p6nbdsgc0000gn/T/pip-install-euao3ugw/ruamel-yaml_edc4724ccc874890bab1d935a9d17c8e/setup.py:50: DeprecationWarning: ast.Str is deprecated and will be removed in Python 3.14; use ast.Constant instead\n",
      "  \u001b[31m   \u001b[0m   from ast import Str, Num, Bytes, NameConstant  # NOQA\n",
      "  \u001b[31m   \u001b[0m /private/var/folders/y6/0w1_g76n62s37y43p6nbdsgc0000gn/T/pip-install-euao3ugw/ruamel-yaml_edc4724ccc874890bab1d935a9d17c8e/setup.py:50: DeprecationWarning: ast.Num is deprecated and will be removed in Python 3.14; use ast.Constant instead\n",
      "  \u001b[31m   \u001b[0m   from ast import Str, Num, Bytes, NameConstant  # NOQA\n",
      "  \u001b[31m   \u001b[0m /private/var/folders/y6/0w1_g76n62s37y43p6nbdsgc0000gn/T/pip-install-euao3ugw/ruamel-yaml_edc4724ccc874890bab1d935a9d17c8e/setup.py:50: DeprecationWarning: ast.Bytes is deprecated and will be removed in Python 3.14; use ast.Constant instead\n",
      "  \u001b[31m   \u001b[0m   from ast import Str, Num, Bytes, NameConstant  # NOQA\n",
      "  \u001b[31m   \u001b[0m /private/var/folders/y6/0w1_g76n62s37y43p6nbdsgc0000gn/T/pip-install-euao3ugw/ruamel-yaml_edc4724ccc874890bab1d935a9d17c8e/setup.py:50: DeprecationWarning: ast.NameConstant is deprecated and will be removed in Python 3.14; use ast.Constant instead\n",
      "  \u001b[31m   \u001b[0m   from ast import Str, Num, Bytes, NameConstant  # NOQA\n",
      "  \u001b[31m   \u001b[0m /private/var/folders/y6/0w1_g76n62s37y43p6nbdsgc0000gn/T/pip-install-euao3ugw/ruamel-yaml_edc4724ccc874890bab1d935a9d17c8e/setup.py:100: DeprecationWarning: ast.Str is deprecated and will be removed in Python 3.14; use ast.Constant instead\n",
      "  \u001b[31m   \u001b[0m   if isinstance(node, Str):\n",
      "  \u001b[31m   \u001b[0m /private/var/folders/y6/0w1_g76n62s37y43p6nbdsgc0000gn/T/pip-install-euao3ugw/ruamel-yaml_edc4724ccc874890bab1d935a9d17c8e/setup.py:104: DeprecationWarning: ast.Bytes is deprecated and will be removed in Python 3.14; use ast.Constant instead\n",
      "  \u001b[31m   \u001b[0m   elif isinstance(node, Bytes):\n",
      "  \u001b[31m   \u001b[0m /private/var/folders/y6/0w1_g76n62s37y43p6nbdsgc0000gn/T/pip-install-euao3ugw/ruamel-yaml_edc4724ccc874890bab1d935a9d17c8e/setup.py:106: DeprecationWarning: ast.Num is deprecated and will be removed in Python 3.14; use ast.Constant instead\n",
      "  \u001b[31m   \u001b[0m   elif isinstance(node, Num):\n",
      "  \u001b[31m   \u001b[0m /private/var/folders/y6/0w1_g76n62s37y43p6nbdsgc0000gn/T/pip-install-euao3ugw/ruamel-yaml_edc4724ccc874890bab1d935a9d17c8e/setup.py:116: DeprecationWarning: ast.NameConstant is deprecated and will be removed in Python 3.14; use ast.Constant instead\n",
      "  \u001b[31m   \u001b[0m   elif isinstance(node, NameConstant):\n",
      "  \u001b[31m   \u001b[0m /private/var/folders/y6/0w1_g76n62s37y43p6nbdsgc0000gn/T/pip-install-euao3ugw/ruamel-yaml_edc4724ccc874890bab1d935a9d17c8e/setup.py:103: DeprecationWarning: Attribute s is deprecated and will be removed in Python 3.14; use value instead\n",
      "  \u001b[31m   \u001b[0m   return node.s\n",
      "  \u001b[31m   \u001b[0m /private/var/folders/y6/0w1_g76n62s37y43p6nbdsgc0000gn/T/pip-install-euao3ugw/ruamel-yaml_edc4724ccc874890bab1d935a9d17c8e/setup.py:107: DeprecationWarning: Attribute n is deprecated and will be removed in Python 3.14; use value instead\n",
      "  \u001b[31m   \u001b[0m   return node.n\n",
      "  \u001b[31m   \u001b[0m sys.argv ['/private/var/folders/y6/0w1_g76n62s37y43p6nbdsgc0000gn/T/pip-install-euao3ugw/ruamel-yaml_edc4724ccc874890bab1d935a9d17c8e/setup.py', 'bdist_wheel', '-d', '/private/var/folders/y6/0w1_g76n62s37y43p6nbdsgc0000gn/T/pip-wheel-k3ztpke1']\n",
      "  \u001b[31m   \u001b[0m test compiling test_ruamel_yaml\n",
      "  \u001b[31m   \u001b[0m /opt/anaconda3/lib/python3.12/site-packages/setuptools/dist.py:678: SetuptoolsDeprecationWarning: The namespace_packages parameter is deprecated.\n",
      "  \u001b[31m   \u001b[0m !!\n",
      "  \u001b[31m   \u001b[0m \n",
      "  \u001b[31m   \u001b[0m         ********************************************************************************\n",
      "  \u001b[31m   \u001b[0m         Please replace its usage with implicit namespaces (PEP 420).\n",
      "  \u001b[31m   \u001b[0m \n",
      "  \u001b[31m   \u001b[0m         See https://setuptools.pypa.io/en/latest/references/keywords.html#keyword-namespace-packages for details.\n",
      "  \u001b[31m   \u001b[0m         ********************************************************************************\n",
      "  \u001b[31m   \u001b[0m \n",
      "  \u001b[31m   \u001b[0m !!\n",
      "  \u001b[31m   \u001b[0m   ep.load()(self, ep.name, value)\n",
      "  \u001b[31m   \u001b[0m running bdist_wheel\n",
      "  \u001b[31m   \u001b[0m running build\n",
      "  \u001b[31m   \u001b[0m running build_py\n",
      "  \u001b[31m   \u001b[0m creating build\n",
      "  \u001b[31m   \u001b[0m creating build/lib.macosx-11.0-arm64-cpython-312\n",
      "  \u001b[31m   \u001b[0m creating build/lib.macosx-11.0-arm64-cpython-312/ruamel\n",
      "  \u001b[31m   \u001b[0m copying .ruamel/__init__.py -> build/lib.macosx-11.0-arm64-cpython-312/ruamel\n",
      "  \u001b[31m   \u001b[0m creating build/lib.macosx-11.0-arm64-cpython-312/ruamel/yaml\n",
      "  \u001b[31m   \u001b[0m copying ./scalarfloat.py -> build/lib.macosx-11.0-arm64-cpython-312/ruamel/yaml\n",
      "  \u001b[31m   \u001b[0m copying ./scanner.py -> build/lib.macosx-11.0-arm64-cpython-312/ruamel/yaml\n",
      "  \u001b[31m   \u001b[0m copying ./compat.py -> build/lib.macosx-11.0-arm64-cpython-312/ruamel/yaml\n",
      "  \u001b[31m   \u001b[0m copying ./error.py -> build/lib.macosx-11.0-arm64-cpython-312/ruamel/yaml\n",
      "  \u001b[31m   \u001b[0m copying ./anchor.py -> build/lib.macosx-11.0-arm64-cpython-312/ruamel/yaml\n",
      "  \u001b[31m   \u001b[0m copying ./constructor.py -> build/lib.macosx-11.0-arm64-cpython-312/ruamel/yaml\n",
      "  \u001b[31m   \u001b[0m copying ./composer.py -> build/lib.macosx-11.0-arm64-cpython-312/ruamel/yaml\n",
      "  \u001b[31m   \u001b[0m copying ./util.py -> build/lib.macosx-11.0-arm64-cpython-312/ruamel/yaml\n",
      "  \u001b[31m   \u001b[0m copying ./events.py -> build/lib.macosx-11.0-arm64-cpython-312/ruamel/yaml\n",
      "  \u001b[31m   \u001b[0m copying ./scalarint.py -> build/lib.macosx-11.0-arm64-cpython-312/ruamel/yaml\n",
      "  \u001b[31m   \u001b[0m copying ./scalarbool.py -> build/lib.macosx-11.0-arm64-cpython-312/ruamel/yaml\n",
      "  \u001b[31m   \u001b[0m copying ./configobjwalker.py -> build/lib.macosx-11.0-arm64-cpython-312/ruamel/yaml\n",
      "  \u001b[31m   \u001b[0m copying ./__init__.py -> build/lib.macosx-11.0-arm64-cpython-312/ruamel/yaml\n",
      "  \u001b[31m   \u001b[0m copying ./representer.py -> build/lib.macosx-11.0-arm64-cpython-312/ruamel/yaml\n",
      "  \u001b[31m   \u001b[0m copying ./tokens.py -> build/lib.macosx-11.0-arm64-cpython-312/ruamel/yaml\n",
      "  \u001b[31m   \u001b[0m copying ./dumper.py -> build/lib.macosx-11.0-arm64-cpython-312/ruamel/yaml\n",
      "  \u001b[31m   \u001b[0m copying ./cyaml.py -> build/lib.macosx-11.0-arm64-cpython-312/ruamel/yaml\n",
      "  \u001b[31m   \u001b[0m copying ./parser.py -> build/lib.macosx-11.0-arm64-cpython-312/ruamel/yaml\n",
      "  \u001b[31m   \u001b[0m copying ./reader.py -> build/lib.macosx-11.0-arm64-cpython-312/ruamel/yaml\n",
      "  \u001b[31m   \u001b[0m copying ./scalarstring.py -> build/lib.macosx-11.0-arm64-cpython-312/ruamel/yaml\n",
      "  \u001b[31m   \u001b[0m copying ./loader.py -> build/lib.macosx-11.0-arm64-cpython-312/ruamel/yaml\n",
      "  \u001b[31m   \u001b[0m copying ./resolver.py -> build/lib.macosx-11.0-arm64-cpython-312/ruamel/yaml\n",
      "  \u001b[31m   \u001b[0m copying ./serializer.py -> build/lib.macosx-11.0-arm64-cpython-312/ruamel/yaml\n",
      "  \u001b[31m   \u001b[0m copying ./nodes.py -> build/lib.macosx-11.0-arm64-cpython-312/ruamel/yaml\n",
      "  \u001b[31m   \u001b[0m copying ./timestamp.py -> build/lib.macosx-11.0-arm64-cpython-312/ruamel/yaml\n",
      "  \u001b[31m   \u001b[0m copying ./main.py -> build/lib.macosx-11.0-arm64-cpython-312/ruamel/yaml\n",
      "  \u001b[31m   \u001b[0m copying ./emitter.py -> build/lib.macosx-11.0-arm64-cpython-312/ruamel/yaml\n",
      "  \u001b[31m   \u001b[0m copying ./comments.py -> build/lib.macosx-11.0-arm64-cpython-312/ruamel/yaml\n",
      "  \u001b[31m   \u001b[0m copying ./LICENSE -> build/lib.macosx-11.0-arm64-cpython-312/ruamel/yaml\n",
      "  \u001b[31m   \u001b[0m running build_ext\n",
      "  \u001b[31m   \u001b[0m building '_ruamel_yaml' extension\n",
      "  \u001b[31m   \u001b[0m creating build/temp.macosx-11.0-arm64-cpython-312\n",
      "  \u001b[31m   \u001b[0m creating build/temp.macosx-11.0-arm64-cpython-312/ext\n",
      "  \u001b[31m   \u001b[0m clang -fno-strict-overflow -DNDEBUG -O2 -Wall -fPIC -O2 -isystem /opt/anaconda3/include -arch arm64 -fPIC -O2 -isystem /opt/anaconda3/include -arch arm64 -I/opt/anaconda3/include/python3.12 -c ext/_ruamel_yaml.c -o build/temp.macosx-11.0-arm64-cpython-312/ext/_ruamel_yaml.o\n",
      "  \u001b[31m   \u001b[0m ext/_ruamel_yaml.c:181:12: fatal error: 'longintrepr.h' file not found\n",
      "  \u001b[31m   \u001b[0m   #include \"longintrepr.h\"\n",
      "  \u001b[31m   \u001b[0m            ^~~~~~~~~~~~~~~\n",
      "  \u001b[31m   \u001b[0m 1 error generated.\n",
      "  \u001b[31m   \u001b[0m error: command '/usr/bin/clang' failed with exit code 1\n",
      "  \u001b[31m   \u001b[0m \u001b[31m[end of output]\u001b[0m\n",
      "  \n",
      "  \u001b[1;35mnote\u001b[0m: This error originates from a subprocess, and is likely not a problem with pip.\n",
      "\u001b[31m  ERROR: Failed building wheel for ruamel.yaml\u001b[0m\u001b[31m\n",
      "\u001b[0m\u001b[?25h  Running setup.py clean for ruamel.yaml\n",
      "Failed to build ruamel.yaml\n",
      "\u001b[31mERROR: Could not build wheels for ruamel.yaml, which is required to install pyproject.toml-based projects\u001b[0m\u001b[31m\n",
      "\u001b[0m"
     ]
    }
   ],
   "source": [
    "!pip install azureml-sdk"
   ]
  },
  {
   "cell_type": "code",
   "execution_count": 17,
   "id": "29a9bb8d",
   "metadata": {},
   "outputs": [
    {
     "name": "stdout",
     "output_type": "stream",
     "text": [
      "Collecting azureml\n",
      "  Downloading azureml-0.2.7-py2.py3-none-any.whl.metadata (772 bytes)\n",
      "Requirement already satisfied: pandas in /opt/anaconda3/lib/python3.12/site-packages (from azureml) (2.2.2)\n",
      "Requirement already satisfied: python-dateutil in /opt/anaconda3/lib/python3.12/site-packages (from azureml) (2.9.0.post0)\n",
      "Requirement already satisfied: requests in /opt/anaconda3/lib/python3.12/site-packages (from azureml) (2.32.2)\n",
      "Requirement already satisfied: numpy>=1.26.0 in /opt/anaconda3/lib/python3.12/site-packages (from pandas->azureml) (1.26.4)\n",
      "Requirement already satisfied: pytz>=2020.1 in /opt/anaconda3/lib/python3.12/site-packages (from pandas->azureml) (2024.1)\n",
      "Requirement already satisfied: tzdata>=2022.7 in /opt/anaconda3/lib/python3.12/site-packages (from pandas->azureml) (2023.3)\n",
      "Requirement already satisfied: six>=1.5 in /opt/anaconda3/lib/python3.12/site-packages (from python-dateutil->azureml) (1.16.0)\n",
      "Requirement already satisfied: charset-normalizer<4,>=2 in /opt/anaconda3/lib/python3.12/site-packages (from requests->azureml) (2.0.4)\n",
      "Requirement already satisfied: idna<4,>=2.5 in /opt/anaconda3/lib/python3.12/site-packages (from requests->azureml) (3.7)\n",
      "Requirement already satisfied: urllib3<3,>=1.21.1 in /opt/anaconda3/lib/python3.12/site-packages (from requests->azureml) (2.2.2)\n",
      "Requirement already satisfied: certifi>=2017.4.17 in /opt/anaconda3/lib/python3.12/site-packages (from requests->azureml) (2024.8.30)\n",
      "Downloading azureml-0.2.7-py2.py3-none-any.whl (23 kB)\n",
      "Installing collected packages: azureml\n",
      "Successfully installed azureml-0.2.7\n"
     ]
    }
   ],
   "source": [
    "!pip install azureml"
   ]
  },
  {
   "cell_type": "code",
   "execution_count": 19,
   "id": "056413db",
   "metadata": {},
   "outputs": [
    {
     "name": "stdout",
     "output_type": "stream",
     "text": [
      "Collecting azureml.core\n",
      "  Using cached azureml_core-1.57.0.post3-py3-none-any.whl.metadata (3.1 kB)\n",
      "Requirement already satisfied: pytz in /opt/anaconda3/lib/python3.12/site-packages (from azureml.core) (2024.1)\n",
      "Collecting backports.tempfile (from azureml.core)\n",
      "  Using cached backports.tempfile-1.0-py2.py3-none-any.whl.metadata (2.3 kB)\n",
      "Requirement already satisfied: pathspec<1.0.0 in /opt/anaconda3/lib/python3.12/site-packages (from azureml.core) (0.10.3)\n",
      "Requirement already satisfied: requests<3.0.0,>=2.19.1 in /opt/anaconda3/lib/python3.12/site-packages (from requests[socks]<3.0.0,>=2.19.1->azureml.core) (2.32.2)\n",
      "Collecting msal<2.0.0,>=1.15.0 (from azureml.core)\n",
      "  Downloading msal-1.31.0-py3-none-any.whl.metadata (11 kB)\n",
      "Collecting msal-extensions<=2.0.0,>=0.3.0 (from azureml.core)\n",
      "  Downloading msal_extensions-1.2.0-py3-none-any.whl.metadata (7.6 kB)\n",
      "Collecting knack<0.12.0 (from azureml.core)\n",
      "  Downloading knack-0.11.0-py3-none-any.whl.metadata (5.2 kB)\n",
      "Collecting azure-core<2.0.0 (from azureml.core)\n",
      "  Using cached azure_core-1.31.0-py3-none-any.whl.metadata (39 kB)\n",
      "Requirement already satisfied: pkginfo in /opt/anaconda3/lib/python3.12/site-packages (from azureml.core) (1.10.0)\n",
      "Collecting argcomplete<4 (from azureml.core)\n",
      "  Using cached argcomplete-3.5.0-py3-none-any.whl.metadata (16 kB)\n",
      "Requirement already satisfied: humanfriendly<11.0,>=4.7 in /opt/anaconda3/lib/python3.12/site-packages (from azureml.core) (10.0)\n",
      "Collecting paramiko<4.0.0,>=2.0.8 (from azureml.core)\n",
      "  Using cached paramiko-3.5.0-py3-none-any.whl.metadata (4.4 kB)\n",
      "Collecting azure-mgmt-resource<=24.0.0,>=15.0.0 (from azureml.core)\n",
      "  Using cached azure_mgmt_resource-23.1.1-py3-none-any.whl.metadata (37 kB)\n",
      "Collecting azure-mgmt-containerregistry<11,>=8.2.0 (from azureml.core)\n",
      "  Using cached azure_mgmt_containerregistry-10.3.0-py3-none-any.whl.metadata (23 kB)\n",
      "Collecting azure-mgmt-storage<=22.0.0,>=16.0.0 (from azureml.core)\n",
      "  Using cached azure_mgmt_storage-21.2.1-py3-none-any.whl.metadata (31 kB)\n",
      "Collecting azure-mgmt-keyvault<11.0.0,>=0.40.0 (from azureml.core)\n",
      "  Using cached azure_mgmt_keyvault-10.3.1-py3-none-any.whl.metadata (15 kB)\n",
      "Collecting azure-mgmt-authorization<5,>=0.40.0 (from azureml.core)\n",
      "  Using cached azure_mgmt_authorization-4.0.0-py3-none-any.whl.metadata (18 kB)\n",
      "Collecting azure-mgmt-network<=26.0.0 (from azureml.core)\n",
      "  Downloading azure_mgmt_network-26.0.0-py3-none-any.whl.metadata (84 kB)\n",
      "\u001b[2K     \u001b[90m━━━━━━━━━━━━━━━━━━━━━━━━━━━━━━━━━━━━━━━\u001b[0m \u001b[32m84.4/84.4 kB\u001b[0m \u001b[31m498.5 kB/s\u001b[0m eta \u001b[36m0:00:00\u001b[0ma \u001b[36m0:00:01\u001b[0m\n",
      "\u001b[?25hCollecting azure-graphrbac<1.0.0,>=0.40.0 (from azureml.core)\n",
      "  Using cached azure_graphrbac-0.61.1-py2.py3-none-any.whl.metadata (10 kB)\n",
      "Collecting azure-common<2.0.0,>=1.1.12 (from azureml.core)\n",
      "  Using cached azure_common-1.1.28-py2.py3-none-any.whl.metadata (5.0 kB)\n",
      "Collecting msrest<=0.7.1,>=0.5.1 (from azureml.core)\n",
      "  Using cached msrest-0.7.1-py3-none-any.whl.metadata (21 kB)\n",
      "Collecting msrestazure<=0.7,>=0.4.33 (from azureml.core)\n",
      "  Using cached msrestazure-0.6.4.post1-py2.py3-none-any.whl.metadata (15 kB)\n",
      "Requirement already satisfied: urllib3<3.0.0,>1.26.17 in /opt/anaconda3/lib/python3.12/site-packages (from azureml.core) (2.2.2)\n",
      "Requirement already satisfied: packaging<=25.0,>=20.0 in /opt/anaconda3/lib/python3.12/site-packages (from azureml.core) (23.2)\n",
      "Requirement already satisfied: python-dateutil<3.0.0,>=2.7.3 in /opt/anaconda3/lib/python3.12/site-packages (from azureml.core) (2.9.0.post0)\n",
      "Collecting ndg-httpsclient<=0.5.1 (from azureml.core)\n",
      "  Using cached ndg_httpsclient-0.5.1-py3-none-any.whl.metadata (6.2 kB)\n",
      "Collecting SecretStorage<4.0.0 (from azureml.core)\n",
      "  Using cached SecretStorage-3.3.3-py3-none-any.whl.metadata (4.0 kB)\n",
      "Collecting jsonpickle<4.0.0 (from azureml.core)\n",
      "  Using cached jsonpickle-3.3.0-py3-none-any.whl.metadata (8.3 kB)\n",
      "Collecting contextlib2<22.0.0 (from azureml.core)\n",
      "  Using cached contextlib2-21.6.0-py2.py3-none-any.whl.metadata (4.1 kB)\n",
      "Collecting docker<8.0.0 (from azureml.core)\n",
      "  Using cached docker-7.1.0-py3-none-any.whl.metadata (3.8 kB)\n",
      "Requirement already satisfied: PyJWT<3.0.0 in /opt/anaconda3/lib/python3.12/site-packages (from azureml.core) (2.9.0)\n",
      "Collecting adal<=1.2.7,>=1.2.0 (from azureml.core)\n",
      "  Using cached adal-1.2.7-py2.py3-none-any.whl.metadata (6.9 kB)\n",
      "Requirement already satisfied: pyopenssl<25.0.0 in /opt/anaconda3/lib/python3.12/site-packages (from azureml.core) (22.0.0)\n",
      "Requirement already satisfied: jmespath<2.0.0 in /opt/anaconda3/lib/python3.12/site-packages (from azureml.core) (1.0.1)\n",
      "Requirement already satisfied: cryptography>=1.1.0 in /opt/anaconda3/lib/python3.12/site-packages (from adal<=1.2.7,>=1.2.0->azureml.core) (43.0.1)\n",
      "Requirement already satisfied: six>=1.11.0 in /opt/anaconda3/lib/python3.12/site-packages (from azure-core<2.0.0->azureml.core) (1.16.0)\n",
      "Requirement already satisfied: typing-extensions>=4.6.0 in /opt/anaconda3/lib/python3.12/site-packages (from azure-core<2.0.0->azureml.core) (4.11.0)\n",
      "Collecting isodate<1.0.0,>=0.6.1 (from azure-mgmt-authorization<5,>=0.40.0->azureml.core)\n",
      "  Using cached isodate-0.6.1-py2.py3-none-any.whl.metadata (9.6 kB)\n",
      "Collecting azure-mgmt-core<2.0.0,>=1.3.2 (from azure-mgmt-authorization<5,>=0.40.0->azureml.core)\n",
      "  Using cached azure_mgmt_core-1.4.0-py3-none-any.whl.metadata (4.1 kB)\n",
      "Requirement already satisfied: pygments in /opt/anaconda3/lib/python3.12/site-packages (from knack<0.12.0->azureml.core) (2.15.1)\n",
      "Requirement already satisfied: pyyaml in /opt/anaconda3/lib/python3.12/site-packages (from knack<0.12.0->azureml.core) (6.0.1)\n",
      "Requirement already satisfied: tabulate in /opt/anaconda3/lib/python3.12/site-packages (from knack<0.12.0->azureml.core) (0.9.0)\n",
      "Collecting portalocker<3,>=1.4 (from msal-extensions<=2.0.0,>=0.3.0->azureml.core)\n",
      "  Using cached portalocker-2.10.1-py3-none-any.whl.metadata (8.5 kB)\n",
      "Requirement already satisfied: certifi>=2017.4.17 in /opt/anaconda3/lib/python3.12/site-packages (from msrest<=0.7.1,>=0.5.1->azureml.core) (2024.8.30)\n",
      "Requirement already satisfied: requests-oauthlib>=0.5.0 in /opt/anaconda3/lib/python3.12/site-packages (from msrest<=0.7.1,>=0.5.1->azureml.core) (2.0.0)\n",
      "Requirement already satisfied: pyasn1>=0.1.1 in /opt/anaconda3/lib/python3.12/site-packages (from ndg-httpsclient<=0.5.1->azureml.core) (0.4.8)\n",
      "Collecting bcrypt>=3.2 (from paramiko<4.0.0,>=2.0.8->azureml.core)\n",
      "  Using cached bcrypt-4.2.0-cp39-abi3-macosx_10_12_universal2.whl.metadata (9.6 kB)\n",
      "Collecting pynacl>=1.5 (from paramiko<4.0.0,>=2.0.8->azureml.core)\n",
      "  Using cached PyNaCl-1.5.0-cp36-abi3-macosx_10_10_universal2.whl.metadata (8.7 kB)\n",
      "Requirement already satisfied: charset-normalizer<4,>=2 in /opt/anaconda3/lib/python3.12/site-packages (from requests<3.0.0,>=2.19.1->requests[socks]<3.0.0,>=2.19.1->azureml.core) (2.0.4)\n",
      "Requirement already satisfied: idna<4,>=2.5 in /opt/anaconda3/lib/python3.12/site-packages (from requests<3.0.0,>=2.19.1->requests[socks]<3.0.0,>=2.19.1->azureml.core) (3.7)\n",
      "Requirement already satisfied: PySocks!=1.5.7,>=1.5.6 in /opt/anaconda3/lib/python3.12/site-packages (from requests[socks]<3.0.0,>=2.19.1->azureml.core) (1.7.1)\n",
      "Collecting jeepney>=0.6 (from SecretStorage<4.0.0->azureml.core)\n",
      "  Using cached jeepney-0.8.0-py3-none-any.whl.metadata (1.3 kB)\n",
      "Collecting backports.weakref (from backports.tempfile->azureml.core)\n",
      "  Using cached backports.weakref-1.0.post1-py2.py3-none-any.whl.metadata (2.3 kB)\n",
      "Requirement already satisfied: cffi>=1.12 in /opt/anaconda3/lib/python3.12/site-packages (from cryptography>=1.1.0->adal<=1.2.7,>=1.2.0->azureml.core) (1.16.0)\n",
      "Requirement already satisfied: oauthlib>=3.0.0 in /opt/anaconda3/lib/python3.12/site-packages (from requests-oauthlib>=0.5.0->msrest<=0.7.1,>=0.5.1->azureml.core) (3.2.2)\n",
      "Requirement already satisfied: pycparser in /opt/anaconda3/lib/python3.12/site-packages (from cffi>=1.12->cryptography>=1.1.0->adal<=1.2.7,>=1.2.0->azureml.core) (2.21)\n",
      "Downloading azureml_core-1.57.0.post3-py3-none-any.whl (3.3 MB)\n",
      "\u001b[2K   \u001b[90m━━━━━━━━━━━━━━━━━━━━━━━━━━━━━━━━━━━━━━━━\u001b[0m \u001b[32m3.3/3.3 MB\u001b[0m \u001b[31m2.7 MB/s\u001b[0m eta \u001b[36m0:00:00\u001b[0m00:01\u001b[0m00:01\u001b[0m\n",
      "\u001b[?25hUsing cached adal-1.2.7-py2.py3-none-any.whl (55 kB)\n",
      "Using cached argcomplete-3.5.0-py3-none-any.whl (43 kB)\n",
      "Using cached azure_common-1.1.28-py2.py3-none-any.whl (14 kB)\n",
      "Using cached azure_core-1.31.0-py3-none-any.whl (197 kB)\n",
      "Using cached azure_graphrbac-0.61.1-py2.py3-none-any.whl (141 kB)\n",
      "Using cached azure_mgmt_authorization-4.0.0-py3-none-any.whl (1.1 MB)\n",
      "Using cached azure_mgmt_containerregistry-10.3.0-py3-none-any.whl (2.3 MB)\n",
      "Using cached azure_mgmt_keyvault-10.3.1-py3-none-any.whl (901 kB)\n",
      "Downloading azure_mgmt_network-26.0.0-py3-none-any.whl (617 kB)\n",
      "\u001b[2K   \u001b[90m━━━━━━━━━━━━━━━━━━━━━━━━━━━━━━━━━━━━━━━━\u001b[0m \u001b[32m617.4/617.4 kB\u001b[0m \u001b[31m3.0 MB/s\u001b[0m eta \u001b[36m0:00:00\u001b[0m00:01\u001b[0m00:01\u001b[0m\n",
      "\u001b[?25hUsing cached azure_mgmt_resource-23.1.1-py3-none-any.whl (2.6 MB)\n",
      "Using cached azure_mgmt_storage-21.2.1-py3-none-any.whl (3.2 MB)\n",
      "Using cached contextlib2-21.6.0-py2.py3-none-any.whl (13 kB)\n",
      "Using cached docker-7.1.0-py3-none-any.whl (147 kB)\n",
      "Using cached jsonpickle-3.3.0-py3-none-any.whl (42 kB)\n",
      "Downloading knack-0.11.0-py3-none-any.whl (60 kB)\n",
      "\u001b[2K   \u001b[90m━━━━━━━━━━━━━━━━━━━━━━━━━━━━━━━━━━━━━━━━\u001b[0m \u001b[32m60.8/60.8 kB\u001b[0m \u001b[31m2.4 MB/s\u001b[0m eta \u001b[36m0:00:00\u001b[0m\n",
      "\u001b[?25hDownloading msal-1.31.0-py3-none-any.whl (113 kB)\n",
      "\u001b[2K   \u001b[90m━━━━━━━━━━━━━━━━━━━━━━━━━━━━━━━━━━━━━━━━\u001b[0m \u001b[32m113.1/113.1 kB\u001b[0m \u001b[31m2.8 MB/s\u001b[0m eta \u001b[36m0:00:00\u001b[0m\n",
      "\u001b[?25hDownloading msal_extensions-1.2.0-py3-none-any.whl (19 kB)\n",
      "Using cached msrest-0.7.1-py3-none-any.whl (85 kB)\n",
      "Using cached msrestazure-0.6.4.post1-py2.py3-none-any.whl (40 kB)\n",
      "Using cached ndg_httpsclient-0.5.1-py3-none-any.whl (34 kB)\n",
      "Using cached paramiko-3.5.0-py3-none-any.whl (227 kB)\n",
      "Using cached SecretStorage-3.3.3-py3-none-any.whl (15 kB)\n",
      "Using cached backports.tempfile-1.0-py2.py3-none-any.whl (4.4 kB)\n",
      "Using cached azure_mgmt_core-1.4.0-py3-none-any.whl (27 kB)\n",
      "Using cached bcrypt-4.2.0-cp39-abi3-macosx_10_12_universal2.whl (472 kB)\n",
      "Using cached isodate-0.6.1-py2.py3-none-any.whl (41 kB)\n",
      "Using cached jeepney-0.8.0-py3-none-any.whl (48 kB)\n",
      "Using cached portalocker-2.10.1-py3-none-any.whl (18 kB)\n",
      "Using cached PyNaCl-1.5.0-cp36-abi3-macosx_10_10_universal2.whl (349 kB)\n",
      "Using cached backports.weakref-1.0.post1-py2.py3-none-any.whl (5.2 kB)\n",
      "Installing collected packages: backports.weakref, azure-common, portalocker, jsonpickle, jeepney, isodate, contextlib2, bcrypt, backports.tempfile, argcomplete, pynacl, knack, docker, azure-core, SecretStorage, paramiko, msrest, azure-mgmt-core, adal, ndg-httpsclient, msrestazure, msal, azure-mgmt-storage, azure-mgmt-resource, azure-mgmt-network, azure-mgmt-keyvault, azure-mgmt-containerregistry, azure-mgmt-authorization, msal-extensions, azure-graphrbac, azureml.core\n",
      "  Attempting uninstall: bcrypt\n",
      "    Found existing installation: bcrypt 3.1.7\n",
      "    Uninstalling bcrypt-3.1.7:\n",
      "      Successfully uninstalled bcrypt-3.1.7\n",
      "Successfully installed SecretStorage-3.3.3 adal-1.2.7 argcomplete-3.5.0 azure-common-1.1.28 azure-core-1.31.0 azure-graphrbac-0.61.1 azure-mgmt-authorization-4.0.0 azure-mgmt-containerregistry-10.3.0 azure-mgmt-core-1.4.0 azure-mgmt-keyvault-10.3.1 azure-mgmt-network-26.0.0 azure-mgmt-resource-23.1.1 azure-mgmt-storage-21.2.1 azureml.core-1.57.0.post3 backports.tempfile-1.0 backports.weakref-1.0.post1 bcrypt-4.2.0 contextlib2-21.6.0 docker-7.1.0 isodate-0.6.1 jeepney-0.8.0 jsonpickle-3.3.0 knack-0.11.0 msal-1.31.0 msal-extensions-1.2.0 msrest-0.7.1 msrestazure-0.6.4.post1 ndg-httpsclient-0.5.1 paramiko-3.5.0 portalocker-2.10.1 pynacl-1.5.0\n"
     ]
    }
   ],
   "source": [
    "!pip install azureml.core"
   ]
  },
  {
   "cell_type": "code",
   "execution_count": 65,
   "id": "7bc0e697",
   "metadata": {},
   "outputs": [],
   "source": [
    "import os\n",
    "import json\n",
    "import requests\n",
    "\n",
    "from azureml.core import Workspace\n",
    "from azureml.core.model import Model\n",
    "from azureml.core.environment import Environment\n",
    "from azureml.core.conda_dependencies import CondaDependencies\n",
    "from azureml.core.model import InferenceConfig\n",
    "from azureml.core.webservice import AciWebservice, Webservice"
   ]
  },
  {
   "cell_type": "code",
   "execution_count": 66,
   "id": "c8a77833",
   "metadata": {},
   "outputs": [
    {
     "name": "stdout",
     "output_type": "stream",
     "text": [
      "config.json                        main.py\n",
      "credit-card-fraud-detection.ipynb  score.py\n",
      "\u001b[34mdata\u001b[m\u001b[m/                              \u001b[34msrc\u001b[m\u001b[m/\n",
      "fraud_detection_model.pkl          xgb_classifier_model.pkl\n"
     ]
    }
   ],
   "source": [
    "ls"
   ]
  },
  {
   "cell_type": "code",
   "execution_count": 67,
   "id": "c4e61884",
   "metadata": {},
   "outputs": [],
   "source": [
    "# laoding the configuration file - standard way - use .env file and load_dotenv from python-dotenv module\n",
    "config_file_path = \"config.json\"\n",
    "\n",
    "# Read JSON data into a dictionary\n",
    "with open(config_file_path, 'r') as file:\n",
    "    data = json.load(file)\n",
    "\n",
    "subscription_id = data[\"subscription_id\"]\n",
    "resource_group = data[\"resource_group\"]  \n",
    "workspace_name = data[\"workspace_name\"]\n",
    "region = data[\"region\"]"
   ]
  },
  {
   "cell_type": "code",
   "execution_count": 68,
   "id": "f596fab8",
   "metadata": {},
   "outputs": [
    {
     "name": "stdout",
     "output_type": "stream",
     "text": [
      "defaultpayementdetection\n",
      "defaultpayementdetection\n",
      "Central US\n"
     ]
    }
   ],
   "source": [
    "print(resource_group)\n",
    "print(workspace_name)\n",
    "print(region)"
   ]
  },
  {
   "cell_type": "code",
   "execution_count": 69,
   "id": "19764035",
   "metadata": {},
   "outputs": [
    {
     "name": "stderr",
     "output_type": "stream",
     "text": [
      "UserWarning: The resource group doesn't exist or was not provided. AzureML SDK is creating a resource group=defaultpayementdetection in location=centralus using subscription=911fe975-be96-4bcf-8141-14cacde73120.\n"
     ]
    },
    {
     "name": "stdout",
     "output_type": "stream",
     "text": [
      "Deploying AppInsights with name defaultpinsights393f1949.\n",
      "Deployed AppInsights with name defaultpinsights393f1949. Took 5.54 seconds.\n",
      "Deploying StorageAccount with name defaultpstorage300891e15.\n",
      "Deploying KeyVault with name defaultpkeyvaultbf73c1f5.\n",
      "Deployed KeyVault with name defaultpkeyvaultbf73c1f5. Took 21.67 seconds.\n",
      "Deploying Workspace with name defaultpayementdetection.\n",
      "Deployed StorageAccount with name defaultpstorage300891e15. Took 25.16 seconds.\n",
      "Deployed Workspace with name defaultpayementdetection. Took 18.92 seconds.\n",
      "Workspace defaultpayementdetection created\n"
     ]
    }
   ],
   "source": [
    "# Create a workspace\n",
    "ws = Workspace.create(name=workspace_name,\n",
    "                      subscription_id=subscription_id,\n",
    "                      resource_group=resource_group,\n",
    "                      location=region)\n",
    "\n",
    "print(f'Workspace {workspace_name} created')"
   ]
  },
  {
   "cell_type": "code",
   "execution_count": 70,
   "id": "59632a9e",
   "metadata": {},
   "outputs": [],
   "source": [
    "# Specify the path to your  model file\n",
    "model_path = 'xgb_classifier_model.pkl'"
   ]
  },
  {
   "cell_type": "code",
   "execution_count": 71,
   "id": "4b6bb797",
   "metadata": {},
   "outputs": [],
   "source": [
    "model_name='default_payment_next_month_model'"
   ]
  },
  {
   "cell_type": "code",
   "execution_count": 78,
   "id": "05680133",
   "metadata": {},
   "outputs": [
    {
     "name": "stdout",
     "output_type": "stream",
     "text": [
      "Registering model default_payment_next_month_model\n"
     ]
    }
   ],
   "source": [
    "# Register the model in Azure Machine Learning\n",
    "registered_model = Model.register(model_path=model_path, model_name=model_name, workspace=ws)"
   ]
  },
  {
   "cell_type": "code",
   "execution_count": 81,
   "id": "cdcb4955",
   "metadata": {},
   "outputs": [],
   "source": [
    "# Create a Conda environment for your scikit-learn model\n",
    "conda_env = Environment('mycondaenv')\n",
    "conda_env.python.conda_dependencies = CondaDependencies.create(conda_packages=['scikit-learn'])"
   ]
  },
  {
   "cell_type": "code",
   "execution_count": 82,
   "id": "b2f82b9d",
   "metadata": {},
   "outputs": [],
   "source": [
    "# Create an InferenceConfig\n",
    "inference_config = InferenceConfig(entry_script='score.py', environment=conda_env)"
   ]
  },
  {
   "cell_type": "code",
   "execution_count": 83,
   "id": "0458c734",
   "metadata": {},
   "outputs": [],
   "source": [
    "# Specify deployment configuration for ACI\n",
    "aci_config = AciWebservice.deploy_configuration(cpu_cores=1, memory_gb=1.7)"
   ]
  },
  {
   "cell_type": "code",
   "execution_count": 85,
   "id": "47453848",
   "metadata": {},
   "outputs": [
    {
     "name": "stderr",
     "output_type": "stream",
     "text": [
      "/var/folders/y6/0w1_g76n62s37y43p6nbdsgc0000gn/T/ipykernel_55672/3811943719.py:1: FutureWarning: azureml.core.model:\n",
      "To leverage new model deployment capabilities, AzureML recommends using CLI/SDK v2 to deploy models as online endpoint, \n",
      "please refer to respective documentations \n",
      "https://docs.microsoft.com/azure/machine-learning/how-to-deploy-managed-online-endpoints /\n",
      "https://docs.microsoft.com/azure/machine-learning/how-to-attach-kubernetes-anywhere \n",
      "For more information on migration, see https://aka.ms/acimoemigration \n",
      "To disable CLI/SDK v1 deprecation warning set AZUREML_LOG_DEPRECATION_WARNING_ENABLED to 'False'\n",
      "  service = Model.deploy(workspace=ws,\n"
     ]
    },
    {
     "name": "stdout",
     "output_type": "stream",
     "text": [
      "Tips: You can try get_logs(): https://aka.ms/debugimage#dockerlog or local deployment: https://aka.ms/debugimage#debug-locally to debug if deployment takes longer than 10 minutes.\n",
      "Running\n",
      "2024-10-05 15:25:14+00:00 Creating Container Registry if not exists.\n",
      "2024-10-05 15:25:14+00:00 Registering the environment.\n",
      "2024-10-05 15:25:16+00:00 Use the existing image.\n",
      "2024-10-05 15:25:17+00:00 Generating deployment configuration.\n",
      "2024-10-05 15:25:18+00:00 Submitting deployment to compute.\n",
      "2024-10-05 15:25:26+00:00 Checking the status of deployment default-payment-next-month-model..\n",
      "2024-10-05 15:26:40+00:00 Checking the status of inference endpoint default-payment-next-month-model.\n",
      "Failed\n"
     ]
    },
    {
     "name": "stderr",
     "output_type": "stream",
     "text": [
      "Service deployment polling reached non-successful terminal state, current service state: Unhealthy\n",
      "Operation ID: 38a8e068-c888-4400-b1ea-3c7ce89508cb\n",
      "More information can be found using '.get_logs()'\n",
      "Error:\n",
      "{\n",
      "  \"code\": \"AciDeploymentFailed\",\n",
      "  \"statusCode\": 400,\n",
      "  \"message\": \"Aci Deployment failed with exception: Error in entry script, ModuleNotFoundError: No module named 'xgboost', please run print(service.get_logs()) to get details.\",\n",
      "  \"details\": [\n",
      "    {\n",
      "      \"code\": \"CrashLoopBackOff\",\n",
      "      \"message\": \"Error in entry script, ModuleNotFoundError: No module named 'xgboost', please run print(service.get_logs()) to get details.\"\n",
      "    }\n",
      "  ]\n",
      "}\n",
      "\n"
     ]
    },
    {
     "ename": "WebserviceException",
     "evalue": "WebserviceException:\n\tMessage: Service deployment polling reached non-successful terminal state, current service state: Unhealthy\nOperation ID: 38a8e068-c888-4400-b1ea-3c7ce89508cb\nMore information can be found using '.get_logs()'\nError:\n{\n  \"code\": \"AciDeploymentFailed\",\n  \"statusCode\": 400,\n  \"message\": \"Aci Deployment failed with exception: Error in entry script, ModuleNotFoundError: No module named 'xgboost', please run print(service.get_logs()) to get details.\",\n  \"details\": [\n    {\n      \"code\": \"CrashLoopBackOff\",\n      \"message\": \"Error in entry script, ModuleNotFoundError: No module named 'xgboost', please run print(service.get_logs()) to get details.\"\n    }\n  ]\n}\n\tInnerException None\n\tErrorResponse \n{\n    \"error\": {\n        \"message\": \"Service deployment polling reached non-successful terminal state, current service state: Unhealthy\\nOperation ID: 38a8e068-c888-4400-b1ea-3c7ce89508cb\\nMore information can be found using '.get_logs()'\\nError:\\n{\\n  \\\"code\\\": \\\"AciDeploymentFailed\\\",\\n  \\\"statusCode\\\": 400,\\n  \\\"message\\\": \\\"Aci Deployment failed with exception: Error in entry script, ModuleNotFoundError: No module named 'xgboost', please run print(service.get_logs()) to get details.\\\",\\n  \\\"details\\\": [\\n    {\\n      \\\"code\\\": \\\"CrashLoopBackOff\\\",\\n      \\\"message\\\": \\\"Error in entry script, ModuleNotFoundError: No module named 'xgboost', please run print(service.get_logs()) to get details.\\\"\\n    }\\n  ]\\n}\"\n    }\n}",
     "output_type": "error",
     "traceback": [
      "\u001b[0;31m---------------------------------------------------------------------------\u001b[0m",
      "\u001b[0;31mWebserviceException\u001b[0m                       Traceback (most recent call last)",
      "Cell \u001b[0;32mIn[85], line 6\u001b[0m\n\u001b[1;32m      1\u001b[0m service \u001b[38;5;241m=\u001b[39m Model\u001b[38;5;241m.\u001b[39mdeploy(workspace\u001b[38;5;241m=\u001b[39mws,\n\u001b[1;32m      2\u001b[0m                        name\u001b[38;5;241m=\u001b[39m\u001b[38;5;124m'\u001b[39m\u001b[38;5;124mdefault-payment-next-month-model\u001b[39m\u001b[38;5;124m'\u001b[39m,\n\u001b[1;32m      3\u001b[0m                        models\u001b[38;5;241m=\u001b[39m[registered_model],\n\u001b[1;32m      4\u001b[0m                        inference_config\u001b[38;5;241m=\u001b[39minference_config,\n\u001b[1;32m      5\u001b[0m                        deployment_config\u001b[38;5;241m=\u001b[39maci_config)\n\u001b[0;32m----> 6\u001b[0m service\u001b[38;5;241m.\u001b[39mwait_for_deployment(show_output\u001b[38;5;241m=\u001b[39m\u001b[38;5;28;01mTrue\u001b[39;00m)\n",
      "File \u001b[0;32m/opt/anaconda3/lib/python3.12/site-packages/azureml/core/webservice/webservice.py:910\u001b[0m, in \u001b[0;36mWebservice.wait_for_deployment\u001b[0;34m(self, show_output, timeout_sec)\u001b[0m\n\u001b[1;32m    907\u001b[0m         \u001b[38;5;28;01mif\u001b[39;00m \u001b[38;5;129;01mnot\u001b[39;00m logs_response:\n\u001b[1;32m    908\u001b[0m             logs_response \u001b[38;5;241m=\u001b[39m \u001b[38;5;124m'\u001b[39m\u001b[38;5;124mCurrent sub-operation type not known, more logs unavailable.\u001b[39m\u001b[38;5;124m'\u001b[39m\n\u001b[0;32m--> 910\u001b[0m         \u001b[38;5;28;01mraise\u001b[39;00m WebserviceException(\u001b[38;5;124m'\u001b[39m\u001b[38;5;124mService deployment polling reached non-successful terminal state, current \u001b[39m\u001b[38;5;124m'\u001b[39m\n\u001b[1;32m    911\u001b[0m                                   \u001b[38;5;124m'\u001b[39m\u001b[38;5;124mservice state: \u001b[39m\u001b[38;5;132;01m{}\u001b[39;00m\u001b[38;5;130;01m\\n\u001b[39;00m\u001b[38;5;124m'\u001b[39m\n\u001b[1;32m    912\u001b[0m                                   \u001b[38;5;124m'\u001b[39m\u001b[38;5;124mOperation ID: \u001b[39m\u001b[38;5;132;01m{}\u001b[39;00m\u001b[38;5;130;01m\\n\u001b[39;00m\u001b[38;5;124m'\u001b[39m\n\u001b[1;32m    913\u001b[0m                                   \u001b[38;5;124m'\u001b[39m\u001b[38;5;132;01m{}\u001b[39;00m\u001b[38;5;130;01m\\n\u001b[39;00m\u001b[38;5;124m'\u001b[39m\n\u001b[1;32m    914\u001b[0m                                   \u001b[38;5;124m'\u001b[39m\u001b[38;5;124mError:\u001b[39m\u001b[38;5;130;01m\\n\u001b[39;00m\u001b[38;5;124m'\u001b[39m\n\u001b[1;32m    915\u001b[0m                                   \u001b[38;5;124m'\u001b[39m\u001b[38;5;132;01m{}\u001b[39;00m\u001b[38;5;124m'\u001b[39m\u001b[38;5;241m.\u001b[39mformat(\u001b[38;5;28mself\u001b[39m\u001b[38;5;241m.\u001b[39mstate, \u001b[38;5;28mself\u001b[39m\u001b[38;5;241m.\u001b[39m_operation_endpoint\u001b[38;5;241m.\u001b[39msplit(\u001b[38;5;124m'\u001b[39m\u001b[38;5;124m/\u001b[39m\u001b[38;5;124m'\u001b[39m)[\u001b[38;5;241m-\u001b[39m\u001b[38;5;241m1\u001b[39m],\n\u001b[1;32m    916\u001b[0m                                               logs_response, format_error_response), logger\u001b[38;5;241m=\u001b[39mmodule_logger)\n\u001b[1;32m    917\u001b[0m     \u001b[38;5;28mprint\u001b[39m(\u001b[38;5;124m'\u001b[39m\u001b[38;5;132;01m{}\u001b[39;00m\u001b[38;5;124m service creation operation finished, operation \u001b[39m\u001b[38;5;124m\"\u001b[39m\u001b[38;5;132;01m{}\u001b[39;00m\u001b[38;5;124m\"\u001b[39m\u001b[38;5;124m'\u001b[39m\u001b[38;5;241m.\u001b[39mformat(\u001b[38;5;28mself\u001b[39m\u001b[38;5;241m.\u001b[39m_webservice_type,\n\u001b[1;32m    918\u001b[0m                                                                           operation_state))\n\u001b[1;32m    919\u001b[0m \u001b[38;5;28;01mexcept\u001b[39;00m WebserviceException \u001b[38;5;28;01mas\u001b[39;00m e:\n",
      "\u001b[0;31mWebserviceException\u001b[0m: WebserviceException:\n\tMessage: Service deployment polling reached non-successful terminal state, current service state: Unhealthy\nOperation ID: 38a8e068-c888-4400-b1ea-3c7ce89508cb\nMore information can be found using '.get_logs()'\nError:\n{\n  \"code\": \"AciDeploymentFailed\",\n  \"statusCode\": 400,\n  \"message\": \"Aci Deployment failed with exception: Error in entry script, ModuleNotFoundError: No module named 'xgboost', please run print(service.get_logs()) to get details.\",\n  \"details\": [\n    {\n      \"code\": \"CrashLoopBackOff\",\n      \"message\": \"Error in entry script, ModuleNotFoundError: No module named 'xgboost', please run print(service.get_logs()) to get details.\"\n    }\n  ]\n}\n\tInnerException None\n\tErrorResponse \n{\n    \"error\": {\n        \"message\": \"Service deployment polling reached non-successful terminal state, current service state: Unhealthy\\nOperation ID: 38a8e068-c888-4400-b1ea-3c7ce89508cb\\nMore information can be found using '.get_logs()'\\nError:\\n{\\n  \\\"code\\\": \\\"AciDeploymentFailed\\\",\\n  \\\"statusCode\\\": 400,\\n  \\\"message\\\": \\\"Aci Deployment failed with exception: Error in entry script, ModuleNotFoundError: No module named 'xgboost', please run print(service.get_logs()) to get details.\\\",\\n  \\\"details\\\": [\\n    {\\n      \\\"code\\\": \\\"CrashLoopBackOff\\\",\\n      \\\"message\\\": \\\"Error in entry script, ModuleNotFoundError: No module named 'xgboost', please run print(service.get_logs()) to get details.\\\"\\n    }\\n  ]\\n}\"\n    }\n}"
     ]
    }
   ],
   "source": [
    "service = Model.deploy(workspace=ws,\n",
    "                       name='default-payment-next-month-model',\n",
    "                       models=[registered_model],\n",
    "                       inference_config=inference_config,\n",
    "                       deployment_config=aci_config)\n",
    "service.wait_for_deployment(show_output=True)"
   ]
  },
  {
   "cell_type": "code",
   "execution_count": 77,
   "id": "40e91259",
   "metadata": {},
   "outputs": [
    {
     "name": "stdout",
     "output_type": "stream",
     "text": [
      "None\n"
     ]
    }
   ],
   "source": [
    "print(service.get_logs())"
   ]
  },
  {
   "cell_type": "code",
   "execution_count": 35,
   "id": "aa86a26c",
   "metadata": {},
   "outputs": [],
   "source": [
    "scoring_uri = service.scoring_uri"
   ]
  },
  {
   "cell_type": "code",
   "execution_count": 36,
   "id": "9651e993",
   "metadata": {},
   "outputs": [],
   "source": [
    "scoring_uri"
   ]
  },
  {
   "cell_type": "code",
   "execution_count": 37,
   "id": "843b6e09",
   "metadata": {},
   "outputs": [
    {
     "name": "stdout",
     "output_type": "stream",
     "text": [
      "None\n"
     ]
    }
   ],
   "source": [
    "print(service.get_logs())"
   ]
  },
  {
   "cell_type": "code",
   "execution_count": 38,
   "id": "9b02f873",
   "metadata": {},
   "outputs": [
    {
     "name": "stdout",
     "output_type": "stream",
     "text": [
      "default_payment_next_month_model 1\n"
     ]
    }
   ],
   "source": [
    "from azureml.core import Model\n",
    "\n",
    "models = Model.list(ws)\n",
    "for model in models:\n",
    "    print(model.name, model.version)"
   ]
  },
  {
   "cell_type": "code",
   "execution_count": 41,
   "id": "87bff72a",
   "metadata": {},
   "outputs": [
    {
     "name": "stdout",
     "output_type": "stream",
     "text": [
      "XGBClassifier(base_score=None, booster=None, callbacks=None,\n",
      "              colsample_bylevel=None, colsample_bynode=None,\n",
      "              colsample_bytree=None, device=None, early_stopping_rounds=None,\n",
      "              enable_categorical=False, eval_metric='logloss',\n",
      "              feature_types=None, gamma=None, grow_policy=None,\n",
      "              importance_type=None, interaction_constraints=None,\n",
      "              learning_rate=None, max_bin=None, max_cat_threshold=None,\n",
      "              max_cat_to_onehot=None, max_delta_step=None, max_depth=None,\n",
      "              max_leaves=None, min_child_weight=None, missing=nan,\n",
      "              monotone_constraints=None, multi_strategy=None, n_estimators=None,\n",
      "              n_jobs=None, num_parallel_tree=None, random_state=None, ...)\n"
     ]
    }
   ],
   "source": [
    "import joblib\n",
    "from azureml.core.model import Model\n",
    "\n",
    "model_path = Model.get_model_path('xgb_classifier_model.pkl')  \n",
    "model = joblib.load(model_path)\n",
    "print(model)"
   ]
  },
  {
   "cell_type": "code",
   "execution_count": 43,
   "id": "1ae02ea9",
   "metadata": {},
   "outputs": [
    {
     "name": "stdout",
     "output_type": "stream",
     "text": [
      "Input shape: (1, 1)\n"
     ]
    }
   ],
   "source": [
    "import numpy as np\n",
    "data = np.array(data).reshape(1, -1)\n",
    "print(\"Input shape:\", data.shape)"
   ]
  },
  {
   "cell_type": "code",
   "execution_count": null,
   "id": "e1b4de95",
   "metadata": {},
   "outputs": [],
   "source": []
  }
 ],
 "metadata": {
  "kaggle": {
   "accelerator": "nvidiaTeslaT4",
   "dataSources": [
    {
     "datasetId": 310,
     "sourceId": 23498,
     "sourceType": "datasetVersion"
    }
   ],
   "dockerImageVersionId": 30775,
   "isGpuEnabled": true,
   "isInternetEnabled": true,
   "language": "python",
   "sourceType": "notebook"
  },
  "kernelspec": {
   "display_name": "Python 3 (ipykernel)",
   "language": "python",
   "name": "python3"
  },
  "language_info": {
   "codemirror_mode": {
    "name": "ipython",
    "version": 3
   },
   "file_extension": ".py",
   "mimetype": "text/x-python",
   "name": "python",
   "nbconvert_exporter": "python",
   "pygments_lexer": "ipython3",
   "version": "3.11.8"
  },
  "papermill": {
   "default_parameters": {},
   "duration": 739.33519,
   "end_time": "2024-09-30T04:23:30.965303",
   "environment_variables": {},
   "exception": null,
   "input_path": "__notebook__.ipynb",
   "output_path": "__notebook__.ipynb",
   "parameters": {},
   "start_time": "2024-09-30T04:11:11.630113",
   "version": "2.6.0"
  }
 },
 "nbformat": 4,
 "nbformat_minor": 5
}
